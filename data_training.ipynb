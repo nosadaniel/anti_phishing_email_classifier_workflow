{
  "cells": [
    {
      "cell_type": "markdown",
      "metadata": {
        "colab_type": "text",
        "id": "view-in-github"
      },
      "source": [
        "<a href=\"https://colab.research.google.com/github/nosadaniel/anti_phishing_email_classifier_workflow/blob/main/prepare_training_data.ipynb\" target=\"_parent\"><img src=\"https://colab.research.google.com/assets/colab-badge.svg\" alt=\"Open In Colab\"/></a>"
      ]
    },
    {
      "cell_type": "markdown",
      "metadata": {},
      "source": [
        "## Install Dependencies"
      ]
    },
    {
      "cell_type": "code",
      "execution_count": 1,
      "metadata": {
        "colab": {
          "base_uri": "https://localhost:8080/"
        },
        "id": "DrsOiEzXp9ap",
        "outputId": "1d83717d-6fe5-479a-dc9f-7fcbc5ad7274"
      },
      "outputs": [
        {
          "name": "stdout",
          "output_type": "stream",
          "text": [
            "Note: you may need to restart the kernel to use updated packages.\n"
          ]
        },
        {
          "name": "stdout",
          "output_type": "stream",
          "text": [
            "Note: you may need to restart the kernel to use updated packages.\n",
            "Note: you may need to restart the kernel to use updated packages.\n",
            "Note: you may need to restart the kernel to use updated packages.\n",
            "Note: you may need to restart the kernel to use updated packages.\n"
          ]
        }
      ],
      "source": [
        "# Install jupyter and it dependencies\n",
        "%pip install -q jupyterlab ipywidgets notebook tqdm\n",
        "\n",
        "# Install core LangChain/LangGraph/LangSmith, LLM support, and utilities\n",
        "%pip install -q langgraph langchain langsmith langchain_core langchain_google_genai langchain_community langchain_ollama langchain_mistralai\n",
        "\n",
        "# Install data analysis and visualization libraries\n",
        "%pip install -q matplotlib seaborn plotly scikit-learn pandas numpy\n",
        "\n",
        "# # Install some additional libraries for data processing and visualization\n",
        "# %pip install requests graphviz pygraphviz\n",
        "\n",
        "# instal datasets\n",
        "%pip install -q datasets\n",
        "\n",
        "#install the URl checking tool\n",
        "%pip install -q sec-mcp"
      ]
    },
    {
      "cell_type": "markdown",
      "metadata": {},
      "source": [
        "## Update sec-mcp blacklist database"
      ]
    },
    {
      "cell_type": "code",
      "execution_count": 2,
      "metadata": {
        "colab": {
          "base_uri": "https://localhost:8080/"
        },
        "id": "gYoY7hPzmGU4",
        "outputId": "e428a4f5-a922-42c5-ac4e-a81ceaad2082"
      },
      "outputs": [
        {
          "name": "stdout",
          "output_type": "stream",
          "text": [
            "Blacklist update triggered.\n"
          ]
        },
        {
          "name": "stderr",
          "output_type": "stream",
          "text": [
            "2025-07-24 21:28:04,018 - httpx - INFO - HTTP Request: GET https://raw.githubusercontent.com/openphish/public_feed/refs/heads/main/feed.txt \"HTTP/1.1 200 OK\"\n",
            "2025-07-24 21:28:04,028 - sec_mcp.update_blacklist - INFO - First 5 parsed entries for OpenPhish: [('https://bdoonline.faqs-recommended.workers.dev/bdo-form/aMy2Vl38cskcfBTJD1h0RLJkWQaEQdyATS6q1t2HOT', None, '2025-07-24 21:28:04', 8, 'OpenPhish'), ('http://www.3656qqq.com/', None, '2025-07-24 21:28:04', 8, 'OpenPhish'), ('https://prouttonuseipeu.vercel.app/hiwecroutatro/hiwecrouta.html', None, '2025-07-24 21:28:04', 8, 'OpenPhish'), ('http://ee-payment-help.firebaseapp.com/', None, '2025-07-24 21:28:04', 8, 'OpenPhish'), ('https://form.jotform.com/252042896623056', None, '2025-07-24 21:28:04', 8, 'OpenPhish')]\n",
            "2025-07-24 21:28:04,761 - sec_mcp.update_blacklist - INFO - Updated OpenPhish: 167 URLs, 129 domains, 0 IPs.\n",
            "2025-07-24 21:28:04,766 - httpx - INFO - HTTP Request: GET https://urlhaus.abuse.ch/downloads/text/ \"HTTP/1.1 200 OK\"\n",
            "2025-07-24 21:28:04,766 - httpx - INFO - HTTP Request: GET https://www.spamhaus.org/drop/drop.txt \"HTTP/1.1 200 OK\"\n",
            "2025-07-24 21:28:04,768 - httpx - INFO - HTTP Request: GET https://lists.blocklist.de/lists/all.txt \"HTTP/1.1 200 OK\"\n",
            "2025-07-24 21:28:04,790 - sec_mcp.update_blacklist - INFO - First 5 parsed entries for SpamhausDROP: [(None, '1.10.16.0/20', '2025-07-24 21:28:04', 8, 'SpamhausDROP'), (None, '1.19.0.0/16', '2025-07-24 21:28:04', 8, 'SpamhausDROP'), (None, '1.32.128.0/18', '2025-07-24 21:28:04', 8, 'SpamhausDROP'), (None, '2.56.192.0/22', '2025-07-24 21:28:04', 8, 'SpamhausDROP'), (None, '2.57.122.0/24', '2025-07-24 21:28:04', 8, 'SpamhausDROP')]\n",
            "2025-07-24 21:28:06,132 - sec_mcp.update_blacklist - INFO - Updated SpamhausDROP: 0 URLs, 0 domains, 1558 IPs.\n",
            "2025-07-24 21:28:06,276 - sec_mcp.update_blacklist - INFO - BlocklistDE first 5 parsed entries: [{'ip': '1.12.48.131', 'url': None, 'date': '2025-07-24 21:28:06', 'score': 8}, {'ip': '1.15.148.9', 'url': None, 'date': '2025-07-24 21:28:06', 'score': 8}, {'ip': '1.15.80.32', 'url': None, 'date': '2025-07-24 21:28:06', 'score': 8}, {'ip': '1.180.230.98', 'url': None, 'date': '2025-07-24 21:28:06', 'score': 8}, {'ip': '1.180.97.138', 'url': None, 'date': '2025-07-24 21:28:06', 'score': 8}]\n",
            "2025-07-24 21:28:06,281 - sec_mcp.update_blacklist - INFO - First 5 parsed entries for BlocklistDE: [(None, '1.12.48.131', '2025-07-24 21:28:06', 8, 'BlocklistDE'), (None, '1.15.148.9', '2025-07-24 21:28:06', 8, 'BlocklistDE'), (None, '1.15.80.32', '2025-07-24 21:28:06', 8, 'BlocklistDE'), (None, '1.180.230.98', '2025-07-24 21:28:06', 8, 'BlocklistDE'), (None, '1.180.97.138', '2025-07-24 21:28:06', 8, 'BlocklistDE')]\n",
            "2025-07-24 21:28:26,317 - sec_mcp.update_blacklist - INFO - Updated BlocklistDE: 0 URLs, 0 domains, 20559 IPs.\n",
            "2025-07-24 21:28:26,323 - httpx - INFO - HTTP Request: GET https://data.phishtank.com/data/online-valid.csv \"HTTP/1.1 429 Too Many Requests\"\n",
            "2025-07-24 21:28:26,328 - sec_mcp.update_blacklist - ERROR - Failed to update PhishTank: Client error '429 Too Many Requests' for url 'https://data.phishtank.com/data/online-valid.csv'\n",
            "For more information check: https://developer.mozilla.org/en-US/docs/Web/HTTP/Status/429\n",
            "2025-07-24 21:28:26,373 - httpx - INFO - HTTP Request: GET https://feodotracker.abuse.ch/downloads/ipblocklist_recommended.txt \"HTTP/1.1 200 OK\"\n",
            "2025-07-24 21:28:28,209 - sec_mcp.update_blacklist - INFO - First 5 parsed entries for URLhaus: [('https://files.catbox.moe/yl839e.dll', None, '2025-07-24 21:28:26', 8, 'URLhaus'), ('https://files.catbox.moe/o7aur7.txt', None, '2025-07-24 21:28:26', 8, 'URLhaus'), ('https://files.catbox.moe/jpjs0n.dll', None, '2025-07-24 21:28:26', 8, 'URLhaus'), ('https://eveloungeyyc.com/lal1.php', None, '2025-07-24 21:28:26', 8, 'URLhaus'), ('https://eveloungeyyc.com/bezs.zip', None, '2025-07-24 21:28:26', 8, 'URLhaus')]\n",
            "2025-07-24 21:28:40,385 - sec_mcp.update_blacklist - INFO - Updated URLhaus: 14465 URLs, 661 domains, 1 IPs.\n",
            "2025-07-24 21:28:40,389 - sec_mcp.update_blacklist - WARNING - No valid entries found for FeodoTracker during update.\n",
            "2025-07-24 21:28:40,389 - sec_mcp.update_blacklist - INFO - Updated FeodoTracker: 0 URLs, 0 domains, 0 IPs.\n",
            "2025-07-24 21:28:40,399 - httpx - INFO - HTTP Request: GET http://cinsscore.com/list/ci-badguys.txt \"HTTP/1.1 200 OK\"\n",
            "2025-07-24 21:28:40,400 - sec_mcp.update_blacklist - ERROR - Failed to update PhishStats: \n",
            "2025-07-24 21:28:40,406 - sec_mcp.update_blacklist - ERROR - Failed to update Dshield: \n",
            "2025-07-24 21:28:40,569 - sec_mcp.update_blacklist - INFO - CINSSCORE first 5 parsed entries: [{'ip': '1.12.246.6', 'date': '2025-07-24 21:28:40', 'score': 8}, {'ip': '1.15.118.23', 'date': '2025-07-24 21:28:40', 'score': 8}, {'ip': '1.172.168.41', 'date': '2025-07-24 21:28:40', 'score': 8}, {'ip': '1.178.215.66', 'date': '2025-07-24 21:28:40', 'score': 8}, {'ip': '1.20.102.56', 'date': '2025-07-24 21:28:40', 'score': 8}]\n",
            "2025-07-24 21:28:40,574 - sec_mcp.update_blacklist - INFO - First 5 parsed entries for CINSSCORE: [(None, '1.12.246.6', '2025-07-24 21:28:40', 8, 'CINSSCORE'), (None, '1.15.118.23', '2025-07-24 21:28:40', 8, 'CINSSCORE'), (None, '1.172.168.41', '2025-07-24 21:28:40', 8, 'CINSSCORE'), (None, '1.178.215.66', '2025-07-24 21:28:40', 8, 'CINSSCORE'), (None, '1.20.102.56', '2025-07-24 21:28:40', 8, 'CINSSCORE')]\n",
            "2025-07-24 21:28:55,472 - sec_mcp.update_blacklist - INFO - Updated CINSSCORE: 0 URLs, 0 domains, 15000 IPs.\n",
            "2025-07-24 21:28:55,473 - httpx - INFO - HTTP Request: GET https://rules.emergingthreats.net/blockrules/compromised-ips.txt \"HTTP/1.1 200 OK\"\n",
            "2025-07-24 21:28:55,477 - sec_mcp.update_blacklist - INFO - EmergingThreats first 5 parsed entries: [{'ip': '101.43.12.185', 'url': None, 'date': '2025-07-24 21:28:55', 'score': 8}, {'ip': '101.78.203.148', 'url': None, 'date': '2025-07-24 21:28:55', 'score': 8}, {'ip': '101.91.208.44', 'url': None, 'date': '2025-07-24 21:28:55', 'score': 8}, {'ip': '102.223.208.49', 'url': None, 'date': '2025-07-24 21:28:55', 'score': 8}, {'ip': '103.143.11.139', 'url': None, 'date': '2025-07-24 21:28:55', 'score': 8}]\n",
            "2025-07-24 21:28:55,477 - sec_mcp.update_blacklist - INFO - First 5 parsed entries for EmergingThreats: [(None, '101.43.12.185', '2025-07-24 21:28:55', 8, 'EmergingThreats'), (None, '101.78.203.148', '2025-07-24 21:28:55', 8, 'EmergingThreats'), (None, '101.91.208.44', '2025-07-24 21:28:55', 8, 'EmergingThreats'), (None, '102.223.208.49', '2025-07-24 21:28:55', 8, 'EmergingThreats'), (None, '103.143.11.139', '2025-07-24 21:28:55', 8, 'EmergingThreats')]\n",
            "2025-07-24 21:28:55,775 - sec_mcp.update_blacklist - INFO - Updated EmergingThreats: 0 URLs, 0 domains, 387 IPs.\n"
          ]
        },
        {
          "name": "stdout",
          "output_type": "stream",
          "text": [
            "Total entries: 129571\n",
            "Last update: 0001-01-01 00:00:00\n",
            "Active sources:\n",
            "  - CINSSCORE: 24229 entries\n",
            "  - Dshield: 29 entries\n",
            "  - SpamhausDROP: 1581 entries\n",
            "  - PhishTank: 52817 entries\n",
            "  - BlocklistDE: 32766 entries\n",
            "  - EmergingThreats: 291 entries\n",
            "  - OpenPhish: 1154 entries\n",
            "  - URLhaus: 16704 entries\n",
            "\n",
            "Per-source breakdown:\n",
            "Source                Domains       URLs        IPs\n",
            "--------------------------------------------------\n",
            "BlocklistDE                 0          0      32766\n",
            "CINSSCORE                   0          0      24229\n",
            "Dshield                     0          0         29\n",
            "EmergingThreats             0          0        291\n",
            "OpenPhish                 468        686          0\n",
            "PhishTank               18542      34275          0\n",
            "SpamhausDROP                0          0       1581\n",
            "URLhaus                   663      16040          1\n",
            "\n",
            "Server status: Running (STDIO)\n"
          ]
        }
      ],
      "source": [
        "# update the sec-mcp blacklist database\n",
        "!sec-mcp update\n",
        "\n",
        "#check sec-mcp status(optional)\n",
        "!sec-mcp status"
      ]
    },
    {
      "cell_type": "markdown",
      "metadata": {
        "id": "JUBOuUHPzCrb"
      },
      "source": [
        "## Load enviroment variables from .env file"
      ]
    },
    {
      "cell_type": "code",
      "execution_count": 3,
      "metadata": {
        "id": "8crHJ2gGsuc7"
      },
      "outputs": [
        {
          "name": "stdout",
          "output_type": "stream",
          "text": [
            ".env file found => d:\\developer\\montimage\\anti_phishing_email_classifier_workflow\\.env\n",
            ".env file loaded: True\n",
            "ollama\n",
            "llama3.2:3b\n"
          ]
        }
      ],
      "source": [
        "import os\n",
        "from dotenv import load_dotenv  \n",
        "\n",
        "dotenv_path = os.path.join(os.getcwd(), '.env')\n",
        "if os.path.exists(dotenv_path):\n",
        "    print(f\".env file found => {dotenv_path}\")\n",
        "    has_loaded = load_dotenv(dotenv_path)\n",
        "    print(f\".env file loaded: {has_loaded}\")\n",
        "else:\n",
        "    print(\".env file not found\")\n",
        "    exit()\n",
        "\n",
        "# Load environment variables\n",
        "google_api_key = os.environ.get('GOOGLE_API_KEY')\n",
        "langsmith_endpoint = os.environ.get('LANGSMITH_ENDPOINT')\n",
        "langsmith_api_key = os.environ.get('LANGSMITH_API_KEY')\n",
        "langsmith_tracing = os.environ.get('LANGSMITH_TRACING')\n",
        "langsmith_project = os.environ.get('LANGSMITH_PROJECT')\n",
        "mistral_api_key = os.environ.get('MISTRAL_API_KEY')\n",
        "llm_model = os.environ.get('LLM_MODEL')\n",
        "llm_provider = os.environ.get('LLM_PROVIDER')\n",
        "\n",
        "\n",
        "print(llm_provider)\n",
        "print(llm_model)\n"
      ]
    },
    {
      "cell_type": "markdown",
      "metadata": {},
      "source": [
        "## Get LLM model"
      ]
    },
    {
      "cell_type": "code",
      "execution_count": 4,
      "metadata": {
        "colab": {
          "base_uri": "https://localhost:8080/"
        },
        "id": "kGCy_3wZ1a5F",
        "outputId": "902f1070-9a24-44fc-9de1-b69d0a50ae10"
      },
      "outputs": [
        {
          "name": "stdout",
          "output_type": "stream",
          "text": [
            "LLM: model='llama3.2:3b' temperature=0.0 base_url='http://127.0.0.1:11434'\n",
            "Je aime programmer.\n"
          ]
        },
        {
          "name": "stderr",
          "output_type": "stream",
          "text": [
            "2025-07-24 21:40:39,917 - langsmith.client - WARNING - Failed to send compressed multipart ingest: langsmith.utils.LangSmithRateLimitError: Rate limit exceeded for https://api.smith.langchain.com/runs/multipart. HTTPError('429 Client Error: Too Many Requests for url: https://api.smith.langchain.com/runs/multipart', '{\"error\":\"Too many requests: tenant exceeded usage limits: Monthly unique traces usage limit exceeded\"}\\n')trace=bae1420f-c109-45d3-932e-6cfd66a12162,id=8fd84903-ce71-45bf-85ae-a07bff160f13; trace=bae1420f-c109-45d3-932e-6cfd66a12162,id=37747edc-f463-4091-8460-ffcf2693f02a; trace=bae1420f-c109-45d3-932e-6cfd66a12162,id=492994f0-9d2b-496b-82f4-9de150492f89; trace=bae1420f-c109-45d3-932e-6cfd66a12162,id=3803ccd8-34c9-4b22-8389-f1c83fa51fe7; trace=bae1420f-c109-45d3-932e-6cfd66a12162,id=0c3a8748-445b-4b32-ac9e-87df08115fd9; trace=bae1420f-c109-45d3-932e-6cfd66a12162,id=0c3a8748-445b-4b32-ac9e-87df08115fd9; trace=bae1420f-c109-45d3-932e-6cfd66a12162,id=c8068506-eb58-4dcc-ba4c-7c7a827115f4\n",
            "2025-07-24 21:40:42,719 - langsmith.client - WARNING - Failed to send compressed multipart ingest: langsmith.utils.LangSmithRateLimitError: Rate limit exceeded for https://api.smith.langchain.com/runs/multipart. HTTPError('429 Client Error: Too Many Requests for url: https://api.smith.langchain.com/runs/multipart', '{\"error\":\"Too many requests: tenant exceeded usage limits: Monthly unique traces usage limit exceeded\"}\\n')trace=bae1420f-c109-45d3-932e-6cfd66a12162,id=c8068506-eb58-4dcc-ba4c-7c7a827115f4; trace=bae1420f-c109-45d3-932e-6cfd66a12162,id=3803ccd8-34c9-4b22-8389-f1c83fa51fe7; trace=bae1420f-c109-45d3-932e-6cfd66a12162,id=492994f0-9d2b-496b-82f4-9de150492f89; trace=bae1420f-c109-45d3-932e-6cfd66a12162,id=d74771fd-b009-4d84-bf97-d8198453507a; trace=bae1420f-c109-45d3-932e-6cfd66a12162,id=d74771fd-b009-4d84-bf97-d8198453507a; trace=bae1420f-c109-45d3-932e-6cfd66a12162,id=37747edc-f463-4091-8460-ffcf2693f02a; trace=bae1420f-c109-45d3-932e-6cfd66a12162,id=4d64d912-b3c7-4f52-95bd-e6fba8c33709; trace=bae1420f-c109-45d3-932e-6cfd66a12162,id=27cf0f4c-7c02-482c-ad38-21d4049d2d83; trace=bae1420f-c109-45d3-932e-6cfd66a12162,id=27cf0f4c-7c02-482c-ad38-21d4049d2d83; trace=bae1420f-c109-45d3-932e-6cfd66a12162,id=4d64d912-b3c7-4f52-95bd-e6fba8c33709; trace=bae1420f-c109-45d3-932e-6cfd66a12162,id=d44a11b9-6339-4d8f-b9cc-1780b4f9a90b; trace=bae1420f-c109-45d3-932e-6cfd66a12162,id=656df411-09a6-4c0a-b259-0abb3c2403f8; trace=bae1420f-c109-45d3-932e-6cfd66a12162,id=c249a5f4-092e-4c80-b158-cf8c0b216dc9; trace=bae1420f-c109-45d3-932e-6cfd66a12162,id=5723b0e0-5201-459d-8995-b7b0f9301333; trace=bae1420f-c109-45d3-932e-6cfd66a12162,id=5723b0e0-5201-459d-8995-b7b0f9301333; trace=bae1420f-c109-45d3-932e-6cfd66a12162,id=884b8748-735a-43a7-a4c2-af4a95fe37c8\n",
            "2025-07-24 21:40:49,395 - langsmith.client - WARNING - Failed to send compressed multipart ingest: langsmith.utils.LangSmithRateLimitError: Rate limit exceeded for https://api.smith.langchain.com/runs/multipart. HTTPError('429 Client Error: Too Many Requests for url: https://api.smith.langchain.com/runs/multipart', '{\"error\":\"Too many requests: tenant exceeded usage limits: Monthly unique traces usage limit exceeded\"}\\n')trace=bae1420f-c109-45d3-932e-6cfd66a12162,id=884b8748-735a-43a7-a4c2-af4a95fe37c8; trace=bae1420f-c109-45d3-932e-6cfd66a12162,id=c249a5f4-092e-4c80-b158-cf8c0b216dc9; trace=bae1420f-c109-45d3-932e-6cfd66a12162,id=656df411-09a6-4c0a-b259-0abb3c2403f8; trace=bae1420f-c109-45d3-932e-6cfd66a12162,id=65a89cc4-137c-4774-8ad4-3d60f6d79783; trace=bae1420f-c109-45d3-932e-6cfd66a12162,id=65a89cc4-137c-4774-8ad4-3d60f6d79783; trace=bae1420f-c109-45d3-932e-6cfd66a12162,id=d44a11b9-6339-4d8f-b9cc-1780b4f9a90b; trace=bae1420f-c109-45d3-932e-6cfd66a12162,id=75860247-17e5-4e44-8e2f-d5180896637f; trace=bae1420f-c109-45d3-932e-6cfd66a12162,id=f7c4e6f4-f3d5-4115-ba6b-65c6da9bdd5b; trace=bae1420f-c109-45d3-932e-6cfd66a12162,id=6b783382-41b2-4b83-bac0-3ca1afbfd1dc; trace=bae1420f-c109-45d3-932e-6cfd66a12162,id=4294355e-ae69-4fdd-bc9e-edc7851bd4b8\n",
            "2025-07-24 21:40:52,441 - langsmith.client - WARNING - Failed to send compressed multipart ingest: langsmith.utils.LangSmithRateLimitError: Rate limit exceeded for https://api.smith.langchain.com/runs/multipart. HTTPError('429 Client Error: Too Many Requests for url: https://api.smith.langchain.com/runs/multipart', '{\"error\":\"Too many requests: tenant exceeded usage limits: Monthly unique traces usage limit exceeded\"}\\n')trace=bae1420f-c109-45d3-932e-6cfd66a12162,id=4294355e-ae69-4fdd-bc9e-edc7851bd4b8; trace=bae1420f-c109-45d3-932e-6cfd66a12162,id=ba7635b3-f463-42bf-9d35-0701d281dfc2; trace=bae1420f-c109-45d3-932e-6cfd66a12162,id=ba7635b3-f463-42bf-9d35-0701d281dfc2; trace=bae1420f-c109-45d3-932e-6cfd66a12162,id=6b783382-41b2-4b83-bac0-3ca1afbfd1dc; trace=bae1420f-c109-45d3-932e-6cfd66a12162,id=f7c4e6f4-f3d5-4115-ba6b-65c6da9bdd5b; trace=bae1420f-c109-45d3-932e-6cfd66a12162,id=75860247-17e5-4e44-8e2f-d5180896637f; trace=bae1420f-c109-45d3-932e-6cfd66a12162,id=8fd84903-ce71-45bf-85ae-a07bff160f13; trace=bae1420f-c109-45d3-932e-6cfd66a12162,id=ceab9a4d-a379-4c3d-877f-72e1095b3b9a; trace=bae1420f-c109-45d3-932e-6cfd66a12162,id=b7ec67f9-8db7-48ac-a670-e829293b7df9; trace=bae1420f-c109-45d3-932e-6cfd66a12162,id=b7ec67f9-8db7-48ac-a670-e829293b7df9; trace=bae1420f-c109-45d3-932e-6cfd66a12162,id=06439d1a-42c1-41a7-999b-f69aaf8e516a; trace=bae1420f-c109-45d3-932e-6cfd66a12162,id=06439d1a-42c1-41a7-999b-f69aaf8e516a; trace=bae1420f-c109-45d3-932e-6cfd66a12162,id=bae1420f-c109-45d3-932e-6cfd66a12162\n",
            "2025-07-24 21:45:13,293 - langsmith.client - WARNING - Failed to send compressed multipart ingest: langsmith.utils.LangSmithRateLimitError: Rate limit exceeded for https://api.smith.langchain.com/runs/multipart. HTTPError('429 Client Error: Too Many Requests for url: https://api.smith.langchain.com/runs/multipart', '{\"error\":\"Too many requests: tenant exceeded usage limits: Monthly unique traces usage limit exceeded\"}\\n')trace=92ddd841-e18f-47a8-8edb-464a3867252f,id=92ddd841-e18f-47a8-8edb-464a3867252f; trace=92ddd841-e18f-47a8-8edb-464a3867252f,id=95f4a37d-359c-4f27-a464-051945526094\n",
            "2025-07-24 21:45:13,961 - langsmith.client - WARNING - Failed to send compressed multipart ingest: langsmith.utils.LangSmithRateLimitError: Rate limit exceeded for https://api.smith.langchain.com/runs/multipart. HTTPError('429 Client Error: Too Many Requests for url: https://api.smith.langchain.com/runs/multipart', '{\"error\":\"Too many requests: tenant exceeded usage limits: Monthly unique traces usage limit exceeded\"}\\n')trace=92ddd841-e18f-47a8-8edb-464a3867252f,id=32e5636d-a9a9-4b54-8720-f1c4d92662a4; trace=92ddd841-e18f-47a8-8edb-464a3867252f,id=ba3252ec-eaa8-4589-8f29-6a383fdd0ae5; trace=92ddd841-e18f-47a8-8edb-464a3867252f,id=cc5f6857-c4bb-41e2-80f0-93b831681b41; trace=92ddd841-e18f-47a8-8edb-464a3867252f,id=5c6c0186-eec6-4fdf-a59b-3f30b8f8ad3b; trace=92ddd841-e18f-47a8-8edb-464a3867252f,id=1ddd1d59-d573-411f-bff6-d34340df3f8f; trace=92ddd841-e18f-47a8-8edb-464a3867252f,id=1ddd1d59-d573-411f-bff6-d34340df3f8f; trace=92ddd841-e18f-47a8-8edb-464a3867252f,id=202bc5d8-58f5-43d2-a3f6-4609a27b7402\n",
            "2025-07-24 21:45:16,879 - langsmith.client - WARNING - Failed to send compressed multipart ingest: langsmith.utils.LangSmithRateLimitError: Rate limit exceeded for https://api.smith.langchain.com/runs/multipart. HTTPError('429 Client Error: Too Many Requests for url: https://api.smith.langchain.com/runs/multipart', '{\"error\":\"Too many requests: tenant exceeded usage limits: Monthly unique traces usage limit exceeded\"}\\n')trace=92ddd841-e18f-47a8-8edb-464a3867252f,id=202bc5d8-58f5-43d2-a3f6-4609a27b7402; trace=92ddd841-e18f-47a8-8edb-464a3867252f,id=5c6c0186-eec6-4fdf-a59b-3f30b8f8ad3b; trace=92ddd841-e18f-47a8-8edb-464a3867252f,id=cc5f6857-c4bb-41e2-80f0-93b831681b41; trace=92ddd841-e18f-47a8-8edb-464a3867252f,id=035864cd-9cea-48d9-95b7-c3c2a412eb19; trace=92ddd841-e18f-47a8-8edb-464a3867252f,id=035864cd-9cea-48d9-95b7-c3c2a412eb19; trace=92ddd841-e18f-47a8-8edb-464a3867252f,id=ba3252ec-eaa8-4589-8f29-6a383fdd0ae5; trace=92ddd841-e18f-47a8-8edb-464a3867252f,id=cf05164b-77d1-454a-b53a-10021f0d0b97; trace=92ddd841-e18f-47a8-8edb-464a3867252f,id=df195c48-9350-4cee-9ea0-a4a98d4e37a1; trace=92ddd841-e18f-47a8-8edb-464a3867252f,id=df195c48-9350-4cee-9ea0-a4a98d4e37a1; trace=92ddd841-e18f-47a8-8edb-464a3867252f,id=cf05164b-77d1-454a-b53a-10021f0d0b97; trace=92ddd841-e18f-47a8-8edb-464a3867252f,id=59561ca6-3262-4e48-a2ca-a41f6d0bb20b; trace=92ddd841-e18f-47a8-8edb-464a3867252f,id=a728e1db-6c60-4889-a834-f32e430feb2f; trace=92ddd841-e18f-47a8-8edb-464a3867252f,id=988f7644-c93e-46df-a581-4c54f0897357; trace=92ddd841-e18f-47a8-8edb-464a3867252f,id=cc9c07fa-ddbb-4969-b789-6c1b915b8106; trace=92ddd841-e18f-47a8-8edb-464a3867252f,id=cc9c07fa-ddbb-4969-b789-6c1b915b8106; trace=92ddd841-e18f-47a8-8edb-464a3867252f,id=6ebf44a5-eaf9-41f0-9d06-0f2de19078bf\n",
            "2025-07-24 21:45:23,436 - langsmith.client - WARNING - Failed to send compressed multipart ingest: langsmith.utils.LangSmithRateLimitError: Rate limit exceeded for https://api.smith.langchain.com/runs/multipart. HTTPError('429 Client Error: Too Many Requests for url: https://api.smith.langchain.com/runs/multipart', '{\"error\":\"Too many requests: tenant exceeded usage limits: Monthly unique traces usage limit exceeded\"}\\n')trace=92ddd841-e18f-47a8-8edb-464a3867252f,id=6ebf44a5-eaf9-41f0-9d06-0f2de19078bf; trace=92ddd841-e18f-47a8-8edb-464a3867252f,id=988f7644-c93e-46df-a581-4c54f0897357; trace=92ddd841-e18f-47a8-8edb-464a3867252f,id=a728e1db-6c60-4889-a834-f32e430feb2f; trace=92ddd841-e18f-47a8-8edb-464a3867252f,id=0772606a-87b6-4e7d-bd4f-0268ece2ccf4; trace=92ddd841-e18f-47a8-8edb-464a3867252f,id=0772606a-87b6-4e7d-bd4f-0268ece2ccf4; trace=92ddd841-e18f-47a8-8edb-464a3867252f,id=59561ca6-3262-4e48-a2ca-a41f6d0bb20b; trace=92ddd841-e18f-47a8-8edb-464a3867252f,id=4bbe36f0-b840-4329-a55a-28cbdfa8650d; trace=92ddd841-e18f-47a8-8edb-464a3867252f,id=fe0e623d-7116-412c-8c7e-14643dbc42b0; trace=92ddd841-e18f-47a8-8edb-464a3867252f,id=8782320f-f8bc-4e8b-9af0-9e441ac66244; trace=92ddd841-e18f-47a8-8edb-464a3867252f,id=6227814b-6b33-4453-a04c-00bddd784691\n",
            "2025-07-24 21:45:26,447 - langsmith.client - WARNING - Failed to send compressed multipart ingest: langsmith.utils.LangSmithRateLimitError: Rate limit exceeded for https://api.smith.langchain.com/runs/multipart. HTTPError('429 Client Error: Too Many Requests for url: https://api.smith.langchain.com/runs/multipart', '{\"error\":\"Too many requests: tenant exceeded usage limits: Monthly unique traces usage limit exceeded\"}\\n')trace=92ddd841-e18f-47a8-8edb-464a3867252f,id=6227814b-6b33-4453-a04c-00bddd784691; trace=92ddd841-e18f-47a8-8edb-464a3867252f,id=7ca919bd-906c-4876-b5ed-9c105976fec7; trace=92ddd841-e18f-47a8-8edb-464a3867252f,id=7ca919bd-906c-4876-b5ed-9c105976fec7; trace=92ddd841-e18f-47a8-8edb-464a3867252f,id=8782320f-f8bc-4e8b-9af0-9e441ac66244; trace=92ddd841-e18f-47a8-8edb-464a3867252f,id=fe0e623d-7116-412c-8c7e-14643dbc42b0; trace=92ddd841-e18f-47a8-8edb-464a3867252f,id=4bbe36f0-b840-4329-a55a-28cbdfa8650d; trace=92ddd841-e18f-47a8-8edb-464a3867252f,id=32e5636d-a9a9-4b54-8720-f1c4d92662a4; trace=92ddd841-e18f-47a8-8edb-464a3867252f,id=95f4a37d-359c-4f27-a464-051945526094; trace=92ddd841-e18f-47a8-8edb-464a3867252f,id=89094060-e9cb-462d-b2de-d5f4e45af30e; trace=92ddd841-e18f-47a8-8edb-464a3867252f,id=89094060-e9cb-462d-b2de-d5f4e45af30e; trace=92ddd841-e18f-47a8-8edb-464a3867252f,id=8c278c46-db3f-4cf7-9d2f-fa6da71ab1cf; trace=92ddd841-e18f-47a8-8edb-464a3867252f,id=8c278c46-db3f-4cf7-9d2f-fa6da71ab1cf; trace=92ddd841-e18f-47a8-8edb-464a3867252f,id=92ddd841-e18f-47a8-8edb-464a3867252f\n",
            "2025-07-24 21:51:29,594 - langsmith.client - WARNING - Failed to send compressed multipart ingest: langsmith.utils.LangSmithRateLimitError: Rate limit exceeded for https://api.smith.langchain.com/runs/multipart. HTTPError('429 Client Error: Too Many Requests for url: https://api.smith.langchain.com/runs/multipart', '{\"error\":\"Too many requests: tenant exceeded usage limits: Monthly unique traces usage limit exceeded\"}\\n')trace=0fb93762-2e6a-472d-82bd-eb436e9563f2,id=0fb93762-2e6a-472d-82bd-eb436e9563f2; trace=0fb93762-2e6a-472d-82bd-eb436e9563f2,id=ee7aa495-df18-419d-a873-e93e00b004c1\n",
            "2025-07-24 21:51:30,326 - langsmith.client - WARNING - Failed to send compressed multipart ingest: langsmith.utils.LangSmithRateLimitError: Rate limit exceeded for https://api.smith.langchain.com/runs/multipart. HTTPError('429 Client Error: Too Many Requests for url: https://api.smith.langchain.com/runs/multipart', '{\"error\":\"Too many requests: tenant exceeded usage limits: Monthly unique traces usage limit exceeded\"}\\n')trace=0fb93762-2e6a-472d-82bd-eb436e9563f2,id=203e0d79-7616-4cf7-ae12-b1541231fc74; trace=0fb93762-2e6a-472d-82bd-eb436e9563f2,id=b153aefd-c529-4c88-bddb-70c02f08556f; trace=0fb93762-2e6a-472d-82bd-eb436e9563f2,id=2b45cf8a-0e17-420d-9b93-09531125427e; trace=0fb93762-2e6a-472d-82bd-eb436e9563f2,id=71912810-0a2e-46db-a2b6-4e1fe0035aa1; trace=0fb93762-2e6a-472d-82bd-eb436e9563f2,id=eb842036-1342-4c63-8e91-e29f34382345; trace=0fb93762-2e6a-472d-82bd-eb436e9563f2,id=eb842036-1342-4c63-8e91-e29f34382345; trace=0fb93762-2e6a-472d-82bd-eb436e9563f2,id=85a45776-ce2d-41c2-949c-38c1e353ccd8\n",
            "2025-07-24 21:51:35,734 - langsmith.client - WARNING - Failed to send compressed multipart ingest: langsmith.utils.LangSmithRateLimitError: Rate limit exceeded for https://api.smith.langchain.com/runs/multipart. HTTPError('429 Client Error: Too Many Requests for url: https://api.smith.langchain.com/runs/multipart', '{\"error\":\"Too many requests: tenant exceeded usage limits: Monthly unique traces usage limit exceeded\"}\\n')trace=0fb93762-2e6a-472d-82bd-eb436e9563f2,id=85a45776-ce2d-41c2-949c-38c1e353ccd8; trace=0fb93762-2e6a-472d-82bd-eb436e9563f2,id=71912810-0a2e-46db-a2b6-4e1fe0035aa1; trace=0fb93762-2e6a-472d-82bd-eb436e9563f2,id=2b45cf8a-0e17-420d-9b93-09531125427e; trace=0fb93762-2e6a-472d-82bd-eb436e9563f2,id=ed921512-d492-4ab2-9611-4f16b96dc060; trace=0fb93762-2e6a-472d-82bd-eb436e9563f2,id=ed921512-d492-4ab2-9611-4f16b96dc060; trace=0fb93762-2e6a-472d-82bd-eb436e9563f2,id=b153aefd-c529-4c88-bddb-70c02f08556f; trace=0fb93762-2e6a-472d-82bd-eb436e9563f2,id=e1b83ff9-3f4b-4823-8008-ddccabb38cf3; trace=0fb93762-2e6a-472d-82bd-eb436e9563f2,id=73dd06fa-7072-4602-aa66-f4b4c74ea7c1; trace=0fb93762-2e6a-472d-82bd-eb436e9563f2,id=73dd06fa-7072-4602-aa66-f4b4c74ea7c1; trace=0fb93762-2e6a-472d-82bd-eb436e9563f2,id=e1b83ff9-3f4b-4823-8008-ddccabb38cf3; trace=0fb93762-2e6a-472d-82bd-eb436e9563f2,id=fbc496c9-a3c3-4f2c-98a6-dcb6d142ff4b; trace=0fb93762-2e6a-472d-82bd-eb436e9563f2,id=93cc9f60-5843-43ed-a25a-4cd0b4043428; trace=0fb93762-2e6a-472d-82bd-eb436e9563f2,id=cb0190fd-23ca-4b20-8136-65fd86dffd1d; trace=0fb93762-2e6a-472d-82bd-eb436e9563f2,id=7a347bd5-8c6a-4032-b131-f7db15f60b70; trace=0fb93762-2e6a-472d-82bd-eb436e9563f2,id=7a347bd5-8c6a-4032-b131-f7db15f60b70; trace=0fb93762-2e6a-472d-82bd-eb436e9563f2,id=f66af4c0-1d54-4f0a-a515-7f3453fa9e8f\n",
            "2025-07-24 21:51:42,196 - langsmith.client - WARNING - Failed to send compressed multipart ingest: langsmith.utils.LangSmithRateLimitError: Rate limit exceeded for https://api.smith.langchain.com/runs/multipart. HTTPError('429 Client Error: Too Many Requests for url: https://api.smith.langchain.com/runs/multipart', '{\"error\":\"Too many requests: tenant exceeded usage limits: Monthly unique traces usage limit exceeded\"}\\n')trace=0fb93762-2e6a-472d-82bd-eb436e9563f2,id=f66af4c0-1d54-4f0a-a515-7f3453fa9e8f; trace=0fb93762-2e6a-472d-82bd-eb436e9563f2,id=cb0190fd-23ca-4b20-8136-65fd86dffd1d; trace=0fb93762-2e6a-472d-82bd-eb436e9563f2,id=93cc9f60-5843-43ed-a25a-4cd0b4043428; trace=0fb93762-2e6a-472d-82bd-eb436e9563f2,id=5fc5af3a-3c6c-48b1-998b-c01361960155; trace=0fb93762-2e6a-472d-82bd-eb436e9563f2,id=5fc5af3a-3c6c-48b1-998b-c01361960155; trace=0fb93762-2e6a-472d-82bd-eb436e9563f2,id=fbc496c9-a3c3-4f2c-98a6-dcb6d142ff4b; trace=0fb93762-2e6a-472d-82bd-eb436e9563f2,id=f90a0d40-5a60-481b-b320-9edf9aec89a9; trace=0fb93762-2e6a-472d-82bd-eb436e9563f2,id=e3813184-0cac-429a-8dee-3a08f4599c75; trace=0fb93762-2e6a-472d-82bd-eb436e9563f2,id=0fde9f26-fd9a-4154-a2a9-6ed1dbb2fb5f; trace=0fb93762-2e6a-472d-82bd-eb436e9563f2,id=c5c96e82-78e5-4efb-b353-94f7bcd1532b\n",
            "2025-07-24 21:51:45,394 - langsmith.client - WARNING - Failed to send compressed multipart ingest: langsmith.utils.LangSmithRateLimitError: Rate limit exceeded for https://api.smith.langchain.com/runs/multipart. HTTPError('429 Client Error: Too Many Requests for url: https://api.smith.langchain.com/runs/multipart', '{\"error\":\"Too many requests: tenant exceeded usage limits: Monthly unique traces usage limit exceeded\"}\\n')trace=0fb93762-2e6a-472d-82bd-eb436e9563f2,id=c5c96e82-78e5-4efb-b353-94f7bcd1532b; trace=0fb93762-2e6a-472d-82bd-eb436e9563f2,id=e9f1ea9f-7e05-4dc5-bd46-b815952ba76b; trace=0fb93762-2e6a-472d-82bd-eb436e9563f2,id=e9f1ea9f-7e05-4dc5-bd46-b815952ba76b; trace=0fb93762-2e6a-472d-82bd-eb436e9563f2,id=0fde9f26-fd9a-4154-a2a9-6ed1dbb2fb5f; trace=0fb93762-2e6a-472d-82bd-eb436e9563f2,id=e3813184-0cac-429a-8dee-3a08f4599c75; trace=0fb93762-2e6a-472d-82bd-eb436e9563f2,id=f90a0d40-5a60-481b-b320-9edf9aec89a9; trace=0fb93762-2e6a-472d-82bd-eb436e9563f2,id=203e0d79-7616-4cf7-ae12-b1541231fc74; trace=0fb93762-2e6a-472d-82bd-eb436e9563f2,id=ee7aa495-df18-419d-a873-e93e00b004c1; trace=0fb93762-2e6a-472d-82bd-eb436e9563f2,id=40a9294a-4e5a-4d65-b8d2-594d37b9f69c; trace=0fb93762-2e6a-472d-82bd-eb436e9563f2,id=40a9294a-4e5a-4d65-b8d2-594d37b9f69c; trace=0fb93762-2e6a-472d-82bd-eb436e9563f2,id=b15fe848-4f75-45bf-9bf0-c6ef3cfa7bfd; trace=0fb93762-2e6a-472d-82bd-eb436e9563f2,id=b15fe848-4f75-45bf-9bf0-c6ef3cfa7bfd; trace=0fb93762-2e6a-472d-82bd-eb436e9563f2,id=0fb93762-2e6a-472d-82bd-eb436e9563f2\n",
            "2025-07-24 21:53:26,789 - langsmith.client - WARNING - Failed to send compressed multipart ingest: langsmith.utils.LangSmithRateLimitError: Rate limit exceeded for https://api.smith.langchain.com/runs/multipart. HTTPError('429 Client Error: Too Many Requests for url: https://api.smith.langchain.com/runs/multipart', '{\"error\":\"Too many requests: tenant exceeded usage limits: Monthly unique traces usage limit exceeded\"}\\n')trace=bbb9f752-7d5c-42ad-b9a5-e9d3d65493dd,id=bbb9f752-7d5c-42ad-b9a5-e9d3d65493dd; trace=bbb9f752-7d5c-42ad-b9a5-e9d3d65493dd,id=3202e0a7-49fd-4db2-b5c5-d7e379aba5fa; trace=bbb9f752-7d5c-42ad-b9a5-e9d3d65493dd,id=3202e0a7-49fd-4db2-b5c5-d7e379aba5fa; trace=bbb9f752-7d5c-42ad-b9a5-e9d3d65493dd,id=bbb9f752-7d5c-42ad-b9a5-e9d3d65493dd\n",
            "2025-07-24 21:53:29,372 - langsmith.client - WARNING - Failed to send compressed multipart ingest: langsmith.utils.LangSmithRateLimitError: Rate limit exceeded for https://api.smith.langchain.com/runs/multipart. HTTPError('429 Client Error: Too Many Requests for url: https://api.smith.langchain.com/runs/multipart', '{\"error\":\"Too many requests: tenant exceeded usage limits: Monthly unique traces usage limit exceeded\"}\\n')trace=a4b8e7e7-d7b2-494b-8448-fe129aac4012,id=a4b8e7e7-d7b2-494b-8448-fe129aac4012; trace=a4b8e7e7-d7b2-494b-8448-fe129aac4012,id=3fe26284-5941-4439-802c-61f93bfc6b58\n",
            "2025-07-24 21:53:30,032 - langsmith.client - WARNING - Failed to send compressed multipart ingest: langsmith.utils.LangSmithRateLimitError: Rate limit exceeded for https://api.smith.langchain.com/runs/multipart. HTTPError('429 Client Error: Too Many Requests for url: https://api.smith.langchain.com/runs/multipart', '{\"error\":\"Too many requests: tenant exceeded usage limits: Monthly unique traces usage limit exceeded\"}\\n')trace=a4b8e7e7-d7b2-494b-8448-fe129aac4012,id=ec800107-4294-460d-aca6-bdf5e27c9fd0; trace=a4b8e7e7-d7b2-494b-8448-fe129aac4012,id=2c8138de-0149-49a6-b774-6efb9b709d48; trace=a4b8e7e7-d7b2-494b-8448-fe129aac4012,id=50044468-2a91-4cd4-a583-0b7daec463e0; trace=a4b8e7e7-d7b2-494b-8448-fe129aac4012,id=4ab896dc-62c6-4e5f-a79e-461a9893f9f2; trace=a4b8e7e7-d7b2-494b-8448-fe129aac4012,id=53713834-99da-4123-9420-d6fb8aa058a3; trace=a4b8e7e7-d7b2-494b-8448-fe129aac4012,id=53713834-99da-4123-9420-d6fb8aa058a3; trace=a4b8e7e7-d7b2-494b-8448-fe129aac4012,id=ed26275d-9d94-44c2-b369-466a52d494b9\n",
            "2025-07-24 21:53:32,816 - langsmith.client - WARNING - Failed to send compressed multipart ingest: langsmith.utils.LangSmithRateLimitError: Rate limit exceeded for https://api.smith.langchain.com/runs/multipart. HTTPError('429 Client Error: Too Many Requests for url: https://api.smith.langchain.com/runs/multipart', '{\"error\":\"Too many requests: tenant exceeded usage limits: Monthly unique traces usage limit exceeded\"}\\n')trace=a4b8e7e7-d7b2-494b-8448-fe129aac4012,id=ed26275d-9d94-44c2-b369-466a52d494b9; trace=a4b8e7e7-d7b2-494b-8448-fe129aac4012,id=4ab896dc-62c6-4e5f-a79e-461a9893f9f2; trace=a4b8e7e7-d7b2-494b-8448-fe129aac4012,id=50044468-2a91-4cd4-a583-0b7daec463e0; trace=a4b8e7e7-d7b2-494b-8448-fe129aac4012,id=bf50d391-00a1-4682-a7c5-679ad7cca44e; trace=a4b8e7e7-d7b2-494b-8448-fe129aac4012,id=bf50d391-00a1-4682-a7c5-679ad7cca44e; trace=a4b8e7e7-d7b2-494b-8448-fe129aac4012,id=2c8138de-0149-49a6-b774-6efb9b709d48; trace=a4b8e7e7-d7b2-494b-8448-fe129aac4012,id=913b7ae0-f951-447f-ab00-2be7aa58607f; trace=a4b8e7e7-d7b2-494b-8448-fe129aac4012,id=38763000-035c-4371-949a-8ec8f475f704; trace=a4b8e7e7-d7b2-494b-8448-fe129aac4012,id=38763000-035c-4371-949a-8ec8f475f704; trace=a4b8e7e7-d7b2-494b-8448-fe129aac4012,id=913b7ae0-f951-447f-ab00-2be7aa58607f; trace=a4b8e7e7-d7b2-494b-8448-fe129aac4012,id=a367156f-2b5e-4618-b14f-0c5ac0dece7b; trace=a4b8e7e7-d7b2-494b-8448-fe129aac4012,id=746e0dfd-76e9-43ef-a22d-8c7f48cfada6; trace=a4b8e7e7-d7b2-494b-8448-fe129aac4012,id=9d34ec63-db81-4b13-855e-7775ca49ff33; trace=a4b8e7e7-d7b2-494b-8448-fe129aac4012,id=9caf0b76-b8c6-4c13-b64b-51b6ca4b0da4; trace=a4b8e7e7-d7b2-494b-8448-fe129aac4012,id=9caf0b76-b8c6-4c13-b64b-51b6ca4b0da4; trace=a4b8e7e7-d7b2-494b-8448-fe129aac4012,id=3514a593-9ab0-430c-b145-c65b5cf264c8\n",
            "2025-07-24 21:53:39,522 - langsmith.client - WARNING - Failed to send compressed multipart ingest: langsmith.utils.LangSmithRateLimitError: Rate limit exceeded for https://api.smith.langchain.com/runs/multipart. HTTPError('429 Client Error: Too Many Requests for url: https://api.smith.langchain.com/runs/multipart', '{\"error\":\"Too many requests: tenant exceeded usage limits: Monthly unique traces usage limit exceeded\"}\\n')trace=a4b8e7e7-d7b2-494b-8448-fe129aac4012,id=3514a593-9ab0-430c-b145-c65b5cf264c8; trace=a4b8e7e7-d7b2-494b-8448-fe129aac4012,id=9d34ec63-db81-4b13-855e-7775ca49ff33; trace=a4b8e7e7-d7b2-494b-8448-fe129aac4012,id=746e0dfd-76e9-43ef-a22d-8c7f48cfada6; trace=a4b8e7e7-d7b2-494b-8448-fe129aac4012,id=a78d9e12-a08b-46bb-91bb-5973130075dd; trace=a4b8e7e7-d7b2-494b-8448-fe129aac4012,id=a78d9e12-a08b-46bb-91bb-5973130075dd; trace=a4b8e7e7-d7b2-494b-8448-fe129aac4012,id=a367156f-2b5e-4618-b14f-0c5ac0dece7b; trace=a4b8e7e7-d7b2-494b-8448-fe129aac4012,id=e7562bb1-b560-41f9-a6b7-a777d5160e3f; trace=a4b8e7e7-d7b2-494b-8448-fe129aac4012,id=24e88293-3f97-479e-87a6-764987c56816; trace=a4b8e7e7-d7b2-494b-8448-fe129aac4012,id=d4ae7801-306c-4572-8fe0-16e3180082fd; trace=a4b8e7e7-d7b2-494b-8448-fe129aac4012,id=a704f3f0-33bf-4bf6-af92-42c61ea9e36a\n",
            "2025-07-24 21:53:42,543 - langsmith.client - WARNING - Failed to send compressed multipart ingest: langsmith.utils.LangSmithRateLimitError: Rate limit exceeded for https://api.smith.langchain.com/runs/multipart. HTTPError('429 Client Error: Too Many Requests for url: https://api.smith.langchain.com/runs/multipart', '{\"error\":\"Too many requests: tenant exceeded usage limits: Monthly unique traces usage limit exceeded\"}\\n')trace=a4b8e7e7-d7b2-494b-8448-fe129aac4012,id=a704f3f0-33bf-4bf6-af92-42c61ea9e36a; trace=a4b8e7e7-d7b2-494b-8448-fe129aac4012,id=07073ecd-af0f-4c32-bc36-4ebb7d3772bd; trace=a4b8e7e7-d7b2-494b-8448-fe129aac4012,id=07073ecd-af0f-4c32-bc36-4ebb7d3772bd; trace=a4b8e7e7-d7b2-494b-8448-fe129aac4012,id=d4ae7801-306c-4572-8fe0-16e3180082fd; trace=a4b8e7e7-d7b2-494b-8448-fe129aac4012,id=24e88293-3f97-479e-87a6-764987c56816; trace=a4b8e7e7-d7b2-494b-8448-fe129aac4012,id=e7562bb1-b560-41f9-a6b7-a777d5160e3f; trace=a4b8e7e7-d7b2-494b-8448-fe129aac4012,id=ec800107-4294-460d-aca6-bdf5e27c9fd0; trace=a4b8e7e7-d7b2-494b-8448-fe129aac4012,id=3fe26284-5941-4439-802c-61f93bfc6b58; trace=a4b8e7e7-d7b2-494b-8448-fe129aac4012,id=b5b46209-9a90-4e83-8d79-5c78e25414e5; trace=a4b8e7e7-d7b2-494b-8448-fe129aac4012,id=b5b46209-9a90-4e83-8d79-5c78e25414e5; trace=a4b8e7e7-d7b2-494b-8448-fe129aac4012,id=273d5e18-0ec4-4275-bd62-9822efc6ffae; trace=a4b8e7e7-d7b2-494b-8448-fe129aac4012,id=273d5e18-0ec4-4275-bd62-9822efc6ffae; trace=a4b8e7e7-d7b2-494b-8448-fe129aac4012,id=a4b8e7e7-d7b2-494b-8448-fe129aac4012\n"
          ]
        }
      ],
      "source": [
        "from langchain_google_genai import ChatGoogleGenerativeAI\n",
        "from langchain_ollama import ChatOllama\n",
        "from langchain_mistralai import ChatMistralAI\n",
        "def get_llm():\n",
        "  try:\n",
        "    llm = None\n",
        "    if llm_provider == 'gemini':\n",
        "      llm = ChatGoogleGenerativeAI(\n",
        "        model=llm_model, temperature=0.0)\n",
        "    if llm_provider == \"ollama\":\n",
        "      llm = ChatOllama(\n",
        "        model=llm_model, temperature=0.0, base_url=\"http://127.0.0.1:11434\")\n",
        "    if llm_provider == \"mistral\":\n",
        "      llm = ChatMistralAI(\n",
        "        model=llm_model, temperature=0, max_retries=2)\n",
        "    if llm is None:\n",
        "      raise Exception(\"Invalid LLM provider name\")\n",
        "    return llm\n",
        "  except Exception as e:\n",
        "    print(f\"Error getting LLM: {e}\")\n",
        "    raise e\n",
        "\n",
        "# example\n",
        "llm = get_llm()\n",
        "if llm is not None:\n",
        "  print(f\"LLM: {llm}\")\n",
        "  messages = [\n",
        "                (\"system\", \"Translate the user sentence to French.\"),\n",
        "                (\"human\", \"I love programming.\"),\n",
        "            ]\n",
        "  result = llm.invoke(messages)\n",
        "\n",
        "  print(result.content)\n"
      ]
    },
    {
      "cell_type": "markdown",
      "metadata": {
        "id": "FHHFHBW6wiiF"
      },
      "source": [
        "### load all .csv dataset files"
      ]
    },
    {
      "cell_type": "code",
      "execution_count": 5,
      "metadata": {
        "colab": {
          "base_uri": "https://localhost:8080/"
        },
        "id": "gclvcErEwl7g",
        "outputId": "981da011-4310-4849-8d5a-57c87e24a73d"
      },
      "outputs": [
        {
          "name": "stdout",
          "output_type": "stream",
          "text": [
            "Available dataset: datasets\\CEAS_08.csv\n",
            "Available dataset: datasets\\Nazario.csv\n",
            "Available dataset: datasets\\Nigerian_Fraud.csv\n",
            "Available dataset: datasets\\SpamAssasin.csv\n"
          ]
        }
      ],
      "source": [
        "from pathlib import Path\n",
        "from typing import List\n",
        "\n",
        "#get all available datasets files\n",
        "def get_all_available_dataset_files()->List[str]:\n",
        "  try:\n",
        "    # Define path to the dataset directory\n",
        "    dataset_dir = Path('datasets')\n",
        "    #list available datasets\n",
        "    available_datasets = [file for file in dataset_dir.glob('*.csv')]\n",
        "    return available_datasets\n",
        "  except Exception as e:\n",
        "    print(f\"Error getting available datasets: {e}\")\n",
        "    raise e\n",
        "\n",
        "# usage\n",
        "available_datasets = get_all_available_dataset_files()\n",
        "for dataset in available_datasets:\n",
        "    print(f\"Available dataset: {dataset}\")"
      ]
    },
    {
      "cell_type": "markdown",
      "metadata": {
        "id": "c-9MLt1LzJja"
      },
      "source": [
        "### Load  dataset helpers function"
      ]
    },
    {
      "cell_type": "code",
      "execution_count": 6,
      "metadata": {
        "colab": {
          "base_uri": "https://localhost:8080/",
          "height": 136,
          "referenced_widgets": [
            "f490a84258294dc4b78a7f9997b9ae85",
            "121ef0adc4944fdcb4cbc4958fa37a74",
            "f9b36947e87e419b80403e8586597fd1",
            "dad3fe94f6fc4f18936231d99fb860a9",
            "00c1ca73f4234ef2930f46988ac489e7",
            "67a2d0c30f81481097771dc46b5b7588",
            "ee28a8c6f7ae4cee9b5b5530b53f0e97",
            "212bf92465314d8599a2c17b974f24ee",
            "71e4a9c13386409ab38423878af4698a",
            "6814cc14c1f44d7eb26ff232559074ec",
            "f5d91e0958da45ecac4f009fe6a24170"
          ]
        },
        "id": "qQ2kvHMy0A3E",
        "outputId": "b75d1eae-0f3b-4257-fde1-d21884b0aaf1"
      },
      "outputs": [],
      "source": [
        "# load dataset into\n",
        "from datasets import load_dataset, DatasetDict, Dataset, IterableDatasetDict, IterableDataset\n",
        "\n",
        "# load each dataset file\n",
        "def load_local_dataset(type, path:str)-> DatasetDict | Dataset | IterableDatasetDict | IterableDataset | None:\n",
        "  try:\n",
        "    dataset = load_dataset(type, data_files=path,split='train')\n",
        "  except Exception as e:\n",
        "    print(f\"Error loading dataset: {e}\")\n",
        "    return None\n",
        "  return dataset\n",
        "\n",
        "\n",
        "# filter each dataset by label\n",
        "def filter_dataset_by_label(dataset, label_value:int=None)-> DatasetDict | Dataset | IterableDatasetDict | IterableDataset:\n",
        "  if label_value is None:\n",
        "    return dataset\n",
        "  else:\n",
        "    data = dataset.filter(lambda x: x['label'] == label_value)\n",
        "    print(f\"Number of {'phishing' if label_value == 1 else 'legitimate'} emails=> {len(data)}\")\n",
        "    return data \n",
        "\n",
        "# limit dataset range\n",
        "def limit_dataset_range(dataset, limit:int=None)-> DatasetDict | Dataset | IterableDatasetDict | IterableDataset:\n",
        "  if limit is None:\n",
        "    return dataset\n",
        "  else:\n",
        "    data = dataset.select(range(limit))\n",
        "    return data\n"
      ]
    },
    {
      "cell_type": "code",
      "execution_count": 7,
      "metadata": {},
      "outputs": [
        {
          "name": "stdout",
          "output_type": "stream",
          "text": [
            "Number of legitimate emails=> 17312\n",
            "Number of legitimate emails=> 0\n",
            "Number of legitimate emails=> 0\n",
            "Number of legitimate emails=> 4091\n",
            "Number of phishing emails=> 21842\n",
            "Number of phishing emails=> 1565\n",
            "Number of phishing emails=> 3332\n",
            "Number of phishing emails=> 1718\n",
            "Number of legitimate emails=> 17312\n",
            "Number of legitimate emails=> 0\n",
            "Number of legitimate emails=> 0\n",
            "Number of legitimate emails=> 4091\n",
            "Number of phishing emails=> 21842\n",
            "Number of phishing emails=> 1565\n",
            "Number of phishing emails=> 3332\n",
            "Number of phishing emails=> 1718\n",
            "all_email => [{'data': Dataset({\n",
            "    features: ['sender', 'receiver', 'date', 'subject', 'body', 'label', 'urls'],\n",
            "    num_rows: 39154\n",
            "}), 'file_name': 'ceas_08.csv', 'label': None, 'total_number': 39154}, {'data': Dataset({\n",
            "    features: ['sender', 'receiver', 'date', 'subject', 'body', 'urls', 'label'],\n",
            "    num_rows: 1565\n",
            "}), 'file_name': 'nazario.csv', 'label': None, 'total_number': 1565}, {'data': Dataset({\n",
            "    features: ['sender', 'receiver', 'date', 'subject', 'body', 'urls', 'label'],\n",
            "    num_rows: 3332\n",
            "}), 'file_name': 'nigerian_fraud.csv', 'label': None, 'total_number': 3332}, {'data': Dataset({\n",
            "    features: ['sender', 'receiver', 'date', 'subject', 'body', 'label', 'urls'],\n",
            "    num_rows: 5809\n",
            "}), 'file_name': 'spamassasin.csv', 'label': None, 'total_number': 5809}]\n"
          ]
        }
      ],
      "source": [
        "# get phishing and non phishing emails\n",
        "def get_dataset_from_files(limit:int = None, label:int = None):\n",
        "    # all dataset files\n",
        "    all_dataset_files = get_all_available_dataset_files()\n",
        "    dataset_list = []\n",
        "    for file in all_dataset_files:\n",
        "        # load each file dataset\n",
        "        loaded_dataset = load_local_dataset('csv', f\"{file}\")\n",
        "        # filter the loaded dataset by label\n",
        "        filter_dataset = filter_dataset_by_label(loaded_dataset, label)\n",
        "\n",
        "        # limit the range of the dataset\n",
        "        limit_dataset = limit_dataset_range(filter_dataset, limit)\n",
        "\n",
        "        # add to a list\n",
        "        label_text = \"legitimate\" if label==0 else \"phishing\"\n",
        "        dataset_list.append({\"data\":limit_dataset, \"file_name\":file.name.lower(), \"label\": None if label is None else label_text, \"total_number\":len(limit_dataset)})\n",
        "    return dataset_list\n",
        "\n",
        "\n",
        "#get only 10\n",
        "all_legitimate_dataset_10 = get_dataset_from_files(label=0, limit=10); \n",
        "all_phishing_dataset_10 = get_dataset_from_files(label=1, limit=10)\n",
        "\n",
        "all_legitimate_dataset= get_dataset_from_files(label=0); \n",
        "all_phishing_dataset = get_dataset_from_files(label=1); \n",
        "\n",
        "# print(f\"10_legitimate_dataset => {all_legitimate_dataset_10}\")\n",
        "# print(f\"10_phishing_dataset=> {all_phishing_dataset_10}\")\n",
        "\n",
        "# print(f\"all_legitimate_dataset => {all_legitimate_dataset}\")\n",
        "# print(f\"all_phishing_dataset=> {all_phishing_dataset}\")\n",
        "print(f\"all_email => {get_dataset_from_files()}\")\n",
        "\n"
      ]
    },
    {
      "cell_type": "code",
      "execution_count": 8,
      "metadata": {},
      "outputs": [],
      "source": [
        "# only get legit email dataset that are not empty\n",
        "def get_all_legit_email_dataset():\n",
        "    all_legit_email_data = []\n",
        "    for legit in all_phishing_dataset_10:\n",
        "        data = legit['data']\n",
        "        #print(data)\n",
        "        if data.num_rows > 0:\n",
        "            #rint(f\"onlylegit=>{legit['data']}\")\n",
        "            all_legit_email_data.append(data)\n",
        "    return all_legit_email_data\n",
        "\n",
        "# only get phishing email dataset that are not empty\n",
        "def get_all_phishing_email_dataset():\n",
        "    all_phishing_email_data = []\n",
        "    for phishing in all_phishing_dataset_10: \n",
        "        data = phishing['data']\n",
        "        #print(data)\n",
        "        if data.num_rows > 0:\n",
        "           #print(f\"onlyphishing=>{phishing['data']}\")\n",
        "            all_phishing_email_data.append(data)\n",
        "    return all_phishing_email_data\n",
        "# all email dataet\n",
        "def get_all_email_dataset_object():\n",
        "    all_legit_email_data = []\n",
        "    for legit in get_dataset_from_files():\n",
        "        data = legit['data']\n",
        "        #print(data)\n",
        "        if data.num_rows > 0:\n",
        "            #rint(f\"onlylegit=>{legit['data']}\")\n",
        "            all_legit_email_data.append(data)\n",
        "    return all_legit_email_data\n",
        "    \n",
        "# print(f\"get_all_legit_email_dataset => {get_all_legit_email_dataset()}\")\n",
        "# print(f\"get_all_phishing_email_dataset => {get_all_phishing_email_dataset()}\")\n",
        "# print(f\"get_all_email_dataset_object => {get_all_email_dataset_object()}\")\n"
      ]
    },
    {
      "cell_type": "code",
      "execution_count": 9,
      "metadata": {},
      "outputs": [],
      "source": [
        "from datasets import concatenate_datasets, Dataset\n",
        "from typing import List\n",
        "\n",
        "# All datasets must have the same column names in the same order for concatenate_datasets to work without issues.\n",
        "def combine_datasets(dataset_list: List[Dataset]) -> Dataset:\n",
        "    # Ensure all datasets have the same column order (optional but recommended for consistency)\n",
        "    first_columns = dataset_list[0].column_names\n",
        "    aligned_datasets = [\n",
        "        ds.rename_columns({col: col for col in ds.column_names})  # Force reordering to match\n",
        "        .map(lambda x: x, remove_columns=[col for col in ds.column_names if col not in first_columns])\n",
        "        .cast(dataset_list[0].features)  # Align feature types if needed\n",
        "        if ds.column_names != first_columns else ds\n",
        "        for ds in dataset_list\n",
        "    ]\n",
        "\n",
        "    combined_dataset = concatenate_datasets(aligned_datasets)\n",
        "    return combined_dataset"
      ]
    },
    {
      "cell_type": "code",
      "execution_count": 10,
      "metadata": {},
      "outputs": [],
      "source": [
        "#combine in a single dataset\n",
        "# combined_legit_email_dataset = combine_datasets(get_all_legit_email_dataset()).select(range(100))\n",
        "# combined_phishing_email_dataset = combine_datasets(get_all_phishing_email_dataset()).select(range(100))\n",
        "combined_legit_email_dataset = combine_datasets(get_all_legit_email_dataset())\n",
        "combined_phishing_email_dataset = combine_datasets(get_all_phishing_email_dataset())\n",
        "all_emails_dataset_only = combine_datasets(get_all_email_dataset_object())\n",
        "\n",
        "\n",
        "# print(f\"legit_email_dataset=> {combined_legit_email_dataset}\")\n",
        "# print(f\"phishing_email_dataset=> {combined_phishing_email_dataset}\")\n",
        "# print(f\"all_emails_dataset_only=> {all_emails_dataset_only}\")\n"
      ]
    },
    {
      "cell_type": "markdown",
      "metadata": {
        "id": "iNIhwNJV6vO4"
      },
      "source": [
        "# Some Helpers Functions"
      ]
    },
    {
      "cell_type": "code",
      "execution_count": 11,
      "metadata": {
        "colab": {
          "base_uri": "https://localhost:8080/"
        },
        "collapsed": true,
        "id": "JcqN6EQr4EXH",
        "outputId": "18726646-74ca-4f37-d13e-6c2a86001c9a"
      },
      "outputs": [],
      "source": [
        "import re\n",
        "from typing import Tuple, Optional\n",
        "\n",
        "def extract_email_username(email_string: Optional[str]) -> Tuple[Optional[str], Optional[str]]:\n",
        "    \"\"\"\n",
        "    Extracts the first email and the associated name (if any) from a string.\n",
        "\n",
        "    Args:\n",
        "        email_string: The input string.\n",
        "\n",
        "    Returns:\n",
        "        A tuple of (email, username). Username may be None if not found.\n",
        "    \"\"\"\n",
        "    if not email_string:\n",
        "        return None, None\n",
        "\n",
        "    # Pattern: Name <email>\n",
        "    match = re.search(r'([\\w\\s\\\"\\'\\-\\.]+)?<?([\\w\\.\\-+]+@[\\w\\.\\-]+\\.\\w+)>?', email_string)\n",
        "    if match:\n",
        "        name = match.group(1)\n",
        "        email = match.group(2)\n",
        "        name = name.strip() if name else None\n",
        "        return email, name\n",
        "\n",
        "    return None, None\n",
        "\n",
        "# #example with legitimate dataset\n",
        "# for data in combined_legit_email_dataset:\n",
        "#   #print(data['sender'])\n",
        "#   email,username = extract_email_username(data['sender'])\n",
        "#   if email and username:\n",
        "#     print(f\"Email: {email}, Username: {username}\")\n",
        "#   elif email:\n",
        "#     print(f\"Email: {email}, Not Username found\")\n",
        "#   else:\n",
        "#     print(data['sender'], \"No email or username found\")"
      ]
    },
    {
      "cell_type": "code",
      "execution_count": 12,
      "metadata": {
        "colab": {
          "base_uri": "https://localhost:8080/"
        },
        "id": "I0CEgnyu5iIU",
        "outputId": "a34ef762-1920-4abd-d6ea-b81fd27ba199"
      },
      "outputs": [],
      "source": [
        "\n",
        "def extract_url_from_body(message_body: str,is_url:int) -> str | None:\n",
        "  \"\"\"\n",
        "  Extracts a URL from a string only when is_url is true.\n",
        "\n",
        "  Args:\n",
        "    message_body: The input string.\n",
        "\n",
        "  Returns:\n",
        "    The extracted URL, or None if not found.\n",
        "  \"\"\"\n",
        "  if (is_url == 1):\n",
        "      url_match = re.search(r'http[s]?://(?:[a-zA-Z]|[0-9]|[$-_@.&+]|[!*\\\\(\\\\),]|(?:%[0-9a-fA-F][0-9a-fA-F]))+', message_body)\n",
        "      if url_match:\n",
        "          return url_match.group(0)\n",
        "  return None\n",
        "\n",
        "# #example with legitimate dataset\n",
        "# for data in combined_legit_email_dataset:\n",
        "#   url = extract_url_from_body(data['body'],data['urls'])\n",
        "#   if url:\n",
        "#     print(url)\n"
      ]
    },
    {
      "cell_type": "code",
      "execution_count": 13,
      "metadata": {
        "colab": {
          "base_uri": "https://localhost:8080/"
        },
        "collapsed": true,
        "id": "LrSkyt6P94nS",
        "outputId": "2e65bdd1-7a5e-463e-ab95-211daa73364a"
      },
      "outputs": [],
      "source": [
        "import re\n",
        "from typing import List # Import List for type hinting\n",
        "\n",
        "def extract_email_from_body(message_body: str) -> List[str]:\n",
        "  \"\"\"\n",
        "  Extracts all unique email addresses from a message body using a comprehensive regex.\n",
        "\n",
        "  Args:\n",
        "    message_body: The input string (message body).\n",
        "\n",
        "  Returns:\n",
        "    A list of unique extracted email addresses. Returns an empty list if none are found.\n",
        "  \"\"\"\n",
        "  # Add a check for None input\n",
        "  if message_body is None:\n",
        "      return []\n",
        "\n",
        "  # More comprehensive regex for email extraction using findall\n",
        "  email_list = re.findall(r'\\b[A-Za-z0-9._%+-]+@[A-Za-z0-9.-]+\\.[A-Z|a-z]{2,}\\b', message_body)\n",
        "\n",
        "  # Remove duplicates by converting to a set and back to a list\n",
        "  unique_emails = list(set(email_list))\n",
        "\n",
        "  return unique_emails\n",
        "\n",
        "\n",
        "# #example with legitimate dataset\n",
        "# for data in combined_legit_email_dataset:\n",
        "#   emails = extract_email_from_body(data['body'])\n",
        "#   if emails:\n",
        "#     print(f\"Unique Emails extracted: {emails}\")"
      ]
    },
    {
      "cell_type": "code",
      "execution_count": 14,
      "metadata": {
        "colab": {
          "base_uri": "https://localhost:8080/"
        },
        "id": "OrV6ELG1DWdu",
        "outputId": "9ef9a154-4985-459d-9e5e-32e056ced192"
      },
      "outputs": [],
      "source": [
        "def is_phishing(label:int)->bool:\n",
        "  if(label == 1):\n",
        "    return True\n",
        "  return False\n",
        "\n",
        "# #example with legitimate dataset\n",
        "# for data in combined_legit_email_dataset:\n",
        "#   is_phishing_email = is_phishing(data['label'])\n",
        "#   print(f\"is_phishing: {is_phishing_email}\")"
      ]
    },
    {
      "cell_type": "markdown",
      "metadata": {
        "id": "pblN9HdlMwNK"
      },
      "source": [
        "Define a structure data for the email database"
      ]
    },
    {
      "cell_type": "code",
      "execution_count": 15,
      "metadata": {
        "id": "glCkdotRD1x5"
      },
      "outputs": [],
      "source": [
        "#define class model\n",
        "from typing import List, Optional, TypedDict\n",
        "from pydantic import BaseModel, Field # Import Field\n",
        "\n",
        "class EmailDataSet(BaseModel):\n",
        "  is_phishing: bool = Field(..., description=\"Boolean indicating if the email is labeled as phishing in the dataset.\")\n",
        "  sender_name: str | None = Field(None, description=\"The name of the email sender, if extracted.\") # Allow sender_name to be None as extract_email_username can return None for name\n",
        "  sender_email: str = Field(..., description=\"The email address of the sender.\") # Made mandatory\n",
        "  receiver_email: str = Field(..., description=\"The email address of the receiver.\") # Made mandatory\n",
        "  date: str = Field(..., description=\"The date the email was sent or received.\") # Made mandatory\n",
        "  subject: str = Field(..., description=\"The subject line of the email.\") # Made mandatory\n",
        "  body: str = Field(..., description=\"The main body content of the email.\") # Made mandatory\n",
        "  urls: List[str] = Field([], description=\"A list of URLs extracted from the email body.\")\n",
        "  extra_emails: List[str] = Field([], description=\"A list of unique email addresses found within the email body.\")\n",
        "\n",
        "\n",
        "class UrlCheckResult(BaseModel):\n",
        "  is_malicious: bool = Field(..., description=\"Boolean indicating if the URL was flagged as malicious by the security checker.\")\n",
        "  url: str = Field(..., description=\"The URL that was checked.\")\n",
        "  confidence: float = Field(..., description=\"Confidence score (0.0 to 1.0) for the maliciousness check.\") # 0.0 to 1.0\n",
        "  details: Optional[str] = Field(None, description=\"Optional details or explanation from the security checker.\") # Explanation from sec-mcp\n",
        "\n",
        "# final output structure from the analysis agent\n",
        "class AnalysisResult(BaseModel):\n",
        "  is_phishing: bool = Field(..., description=\"Boolean indicating if the email is labeled as phishing in the dataset.\")\n",
        "  trust_score: int = Field(..., description=\"Trust score (0 to 100) for the email.\") # 0 to 100\n",
        "  explanation: str = Field(..., description=\"Explanation why it is phishing or not phishing.\")\n",
        "  recommendation: str = Field(..., description=\"Recommendation to the user.\")\n",
        "  urls: List[str] = Field([], description=\"A list of URLs extracted from the email body.\")\n",
        "  url_check_results: List[UrlCheckResult] = Field([], description=\"A list of UrlCheckResult objects for malicious URLs found in the email.\")\n",
        "\n"
      ]
    },
    {
      "cell_type": "markdown",
      "metadata": {
        "id": "yiDLPdw13IgW"
      },
      "source": [
        "format the dataset and return a list of structured email data\n"
      ]
    },
    {
      "cell_type": "code",
      "execution_count": 16,
      "metadata": {
        "colab": {
          "base_uri": "https://localhost:8080/"
        },
        "collapsed": true,
        "id": "4BQHiKVd3ZXY",
        "outputId": "fd943974-5973-43ce-dfe6-2699af207422"
      },
      "outputs": [],
      "source": [
        "from typing import List\n",
        "from datasets import Dataset\n",
        "\n",
        "\n",
        "def format_dataset(dataset: Dataset) -> List[EmailDataSet]:\n",
        "  emails_data: List[EmailDataSet] = [] # Initialize as an empty list\n",
        "  try:\n",
        "      for data in dataset:\n",
        "        urls = []  # Initialize for each email\n",
        "        # emails_in_body = [] # Initialize for each email - This will now be assigned the list directly\n",
        "\n",
        "        # Use .get() with a default value for potentially missing or None fields\n",
        "        # Use \"\" for strings, [] for lists, 0 for integers, False for booleans etc.\n",
        "        sender_val = data.get('sender', '')\n",
        "        sender_email, sender_name = extract_email_username(sender_val) # Pass the potentially default value to the helper\n",
        "\n",
        "        receiver_email_val = data.get(\"receiver\", \"\") # Get value with default\n",
        "        date_received_val = data.get(\"date\", \"\") # Get value with default\n",
        "        subject_val = data.get(\"subject\", \"\") # Get value with default\n",
        "        body_val = data.get(\"body\", \"\") # Get value with default\n",
        "        urls_flag_val = data.get('urls', 0) # Default to 0 for urls flag\n",
        "        label_val = data.get('label', 0) # Default to 0 for label\n",
        "\n",
        "\n",
        "        url_inside_body = extract_url_from_body(body_val, urls_flag_val) # Use the potentially defaulted body_val and urls_flag_val\n",
        "\n",
        "        is_phish = is_phishing(label_val) # Use the potentially defaulted label_val\n",
        "\n",
        "\n",
        "        if url_inside_body:\n",
        "          urls.append(url_inside_body)\n",
        "\n",
        "        # Use the updated extract_email_from_body function\n",
        "        emails_in_body = extract_email_from_body(body_val) # Use the potentially defaulted body_val\n",
        "        # No need to append to emails_in_body here as extract_email_from_body already returns a list\n",
        "\n",
        "        email_data_item = EmailDataSet( # Use a different variable name to avoid confusion\n",
        "          sender_name=sender_name if sender_name is not None else \"\", # Ensure sender_name is string or \"\"\n",
        "          sender_email=sender_email if sender_email is not None else \"\", # Ensure sender_email is string or \"\"\n",
        "          receiver_email=receiver_email_val if receiver_email_val is not None else \"\", # Explicitly check and default\n",
        "          date=date_received_val if date_received_val is not None else \"\", # Explicitly check and default\n",
        "          subject=subject_val if subject_val is not None else \"\", # Explicitly check and default\n",
        "          body=body_val if body_val is not None else \"\", # Explicitly check and default\n",
        "          urls=urls, # urls list will be handled correctly even if body was None\n",
        "          extra_emails=emails_in_body, # Assign the list of unique emails directly, handled by extract_email_from_body's None check\n",
        "          is_phishing=is_phish\n",
        "        )\n",
        "        emails_data.append(email_data_item)\n",
        "\n",
        "      return emails_data\n",
        "  except Exception as e:\n",
        "    error = f\"Error formatting dataset: {e}\"\n",
        "    print(error)\n",
        "    return []\n",
        "\n",
        "\n",
        "# # examples\n",
        "# #example with legitimate dataset\n",
        "# formatted_dataset = format_dataset(combined_legit_email_dataset)\n",
        "# for data in formatted_dataset:\n",
        "#   print(data)\n"
      ]
    },
    {
      "cell_type": "markdown",
      "metadata": {
        "id": "LDDNUdKxGXLT"
      },
      "source": [
        "Function to check if urls are malicious"
      ]
    },
    {
      "cell_type": "code",
      "execution_count": 17,
      "metadata": {
        "colab": {
          "base_uri": "https://localhost:8080/"
        },
        "id": "ivbC1bjNNYIL",
        "outputId": "35f65a04-544c-49d1-d9e8-c01dc57ede01"
      },
      "outputs": [],
      "source": [
        "from operator import is_\n",
        "from sec_mcp import SecMCP\n",
        "# initialize SecMCP once\n",
        "sec_mcp_checker = SecMCP()\n",
        "def check_urls_tool(urls: List[str]) -> List[UrlCheckResult]:\n",
        "  \"\"\"check a list of URLs against security blacklist using the sec_mcp\n",
        "    library. Return a list of check results, one for each URL.\n",
        "  \"\"\"\n",
        "  if not urls: # Corrected condition to check if the list is empty\n",
        "    return []\n",
        "\n",
        "  #print(f\"checking {len(urls)} URLs: {urls}\")\n",
        "  results = []\n",
        "  try:\n",
        "    # use batch checking for efficiency\n",
        "    batch_results = sec_mcp_checker.check_batch(urls)\n",
        "    for i, url in enumerate(urls):\n",
        "      #\n",
        "      if i < len(batch_results):\n",
        "        check_result = batch_results[i]\n",
        "        is_malicious = check_result.blacklisted\n",
        "        confidence = 1.0 if is_malicious else 0.5\n",
        "        details = check_result.explanation\n",
        "        results.append({\n",
        "          'url': url,\n",
        "          'is_malicious': is_malicious,\n",
        "          'confidence': confidence,\n",
        "          'details': details\n",
        "        })\n",
        "      else: # Handle potential mismatch in results length (unlikely but safe)\n",
        "          results.append({\n",
        "            'url': url,\n",
        "            'is_malicious': False,\n",
        "            'confidence': 0.0,\n",
        "            'details': \"Check result unavalable\"\n",
        "          })\n",
        "    return results\n",
        "  except Exception as e:\n",
        "    # Return default safe results on error\n",
        "    error_results = [{\n",
        "      'url': url,\n",
        "      'is_malicious': False,\n",
        "      'confidence': 0.0,\n",
        "      'details': f\"Error checking URL: {str(e)}\"\n",
        "    } for url in urls]\n",
        "    print(f\"Error checking URL: {error_results}\")\n",
        "    return error_results\n",
        "\n",
        "# # Example Test:\n",
        "# formatted_dataset = format_dataset(combined_legit_email_dataset)\n",
        "# # Flatten the list of lists of URLs into a single list of URLs\n",
        "# urls_to_check = [url for data in formatted_dataset for url in data.urls]\n",
        "# check_urls_result = check_urls_tool(urls_to_check)\n",
        "# for result in check_urls_result:\n",
        "\n",
        "  print(f\"url_checker => {result}\")\n",
        "# or do this\n",
        "#for data in formatted_dataset:\n",
        " # if data.urls:\n",
        "  #  urls_results = check_malicious_urls(data.urls)\n",
        "   # print(f\"urls results: {urls_results}\")"
      ]
    },
    {
      "cell_type": "markdown",
      "metadata": {
        "id": "W1sH_2ZNNC_D"
      },
      "source": [
        "create an ai prompt template"
      ]
    },
    {
      "cell_type": "code",
      "execution_count": 18,
      "metadata": {
        "colab": {
          "base_uri": "https://localhost:8080/"
        },
        "id": "pKat9y1ZNClS",
        "outputId": "21bd1713-8a7c-4a5b-e83b-3f30c0199e72"
      },
      "outputs": [],
      "source": [
        "from langchain.schema import HumanMessage, SystemMessage, AIMessage\n",
        "\n",
        "def get_system_prompt() -> SystemMessage:\n",
        "  system_message = \"\"\"\n",
        "    You are a cybersecurity expert specialized in analyzing emails for phishing attempts.\n",
        "\n",
        "    Your goal is to determine if an email is phishing (is_phishing: true) or legitimate (is_phishing: false) \n",
        "    and provide a confidence score (trusted_score: 0-100, where 0 is highly likely phishing, 100 is highly likely legitimate).\n",
        "\n",
        "    You have access to ONE tool:\n",
        "      - check_urls_tool(url_list: List[str]) - List[UrlCheckResult]: Checks a list of URLs against security blacklists.\n",
        "        Each result indicates if the URL is malicious and provides details.\n",
        "\n",
        "    Analysis Steps:\n",
        "    1. Examine sender address: Does it look authentic? Spoofed? From a suspicious domain?\n",
        "    2. Analyze subject line: Urgency? Generic greetings? Weird characters? Misspellings?\n",
        "    3. Read the body content: Look for urgency/pressure tactics, grammar/spelling errors, requests for sensitive information (credentials, PII), suspicious offers, mismatched links (text vs. actual URL if available).\n",
        "    4. Analyze URLs:\n",
        "      - Identify ALL uRLs present in the email body text\n",
        "      - if URLs are present, **you MUST call `check_urls_tool`** with the complete list of \n",
        "        identified URLs.\n",
        "      - Integrate the `check_urls_tool` results into your analysis. Are any URLs flagged as malicious?\n",
        "        Do the domains look legitimate or are they typosquatting/impersonating known brands? Does the path look suspicious?\n",
        "    5. Synthesize findings: Combine evidence from sender, subject, body, and URL checks. A single indicator might not be conclusive, but multiple red flags increase the likelihood of phishing.\n",
        "    6. Assign Trust Score: Based on the overall evidence, assign a score from 0 (definitely phishing) to 100 (definitely legitimate).\n",
        "\n",
        "  \"\"\"\n",
        "  return SystemMessage(content=system_message)\n",
        "\n",
        "def get_message_template(email_data_set: EmailDataSet ) -> List[HumanMessage]:\n",
        "  # Use f-string for clean formatting\n",
        "  input_email_section = f\"\"\"Analyze the following email:\n",
        "    <input_email>\n",
        "    From: {email_data_set.sender_email}\n",
        "    Subject: {email_data_set.subject}\n",
        "\n",
        "    Body:\n",
        "    -------\n",
        "    {email_data_set.body}\n",
        "    -------\n",
        "\n",
        "    additional_emails: {email_data_set.extra_emails}\n",
        "\n",
        "    URLs Identified in Body: {email_data_set.urls if email_data_set.urls else \"No URLs identified\"}\n",
        "    </input_email>\n",
        "  \"\"\"\n",
        "\n",
        "\n",
        "  messages = [\n",
        "    HumanMessage(content=input_email_section),\n",
        "  ]\n",
        " \n",
        "  return messages\n",
        "\n",
        "# #example\n",
        "# email_data_set =  format_dataset(combined_legit_email_dataset)\n",
        "# system_message = get_system_prompt()\n",
        "# print(\"==system_message== \")\n",
        "# print(system_message.content)\n",
        "# for result in email_data_set:\n",
        "#   message_template = get_message_template(result)\n",
        "#   print(f\"message_template => {message_template}\")"
      ]
    },
    {
      "cell_type": "markdown",
      "metadata": {
        "id": "3LeT3dymzNbQ"
      },
      "source": [
        "use llm to generate the response"
      ]
    },
    {
      "cell_type": "code",
      "execution_count": 19,
      "metadata": {},
      "outputs": [],
      "source": [
        "from langgraph.prebuilt import create_react_agent\n",
        "def email_analyzer_agent():\n",
        "    try:\n",
        "      llm = get_llm()\n",
        "      system_prompt = get_system_prompt()\n",
        "      agent = create_react_agent(model=llm, tools=[check_urls_tool], name=\"EmailAnalyzerAgent\", prompt=system_prompt.content, response_format=AnalysisResult )\n",
        "      return agent\n",
        "    except Exception as e:\n",
        "      print(f\"Error creating agent: {e}\")\n",
        "      return None"
      ]
    },
    {
      "cell_type": "code",
      "execution_count": 20,
      "metadata": {
        "colab": {
          "base_uri": "https://localhost:8080/"
        },
        "id": "d9FvkY7i0DAX",
        "outputId": "8c3b7ffd-6ade-481a-bfd6-c050247144ae"
      },
      "outputs": [],
      "source": [
        "# use the llm to generate the training data\n",
        "from datetime import datetime\n",
        "from typing import List, Dict\n",
        "def run_llm(dataset:List[EmailDataSet])-> List[Dict] | None:\n",
        "  ai_response_data = []\n",
        "  try:\n",
        "    #llm = get_llm()\n",
        "    agent = email_analyzer_agent()\n",
        "    # only loop through 1 email for testing\n",
        "    for data in dataset:\n",
        "      # get prompt template\n",
        "      message_template = get_message_template(data)\n",
        "      #print(f\"Message template: {message_template}\")\n",
        "      response = agent.invoke({\"messages\":message_template})\n",
        "      \n",
        "      real_human_input = message_template[0].content\n",
        "      real_ai_output: AnalysisResult = response['structured_response']\n",
        "      #add to list\n",
        "      ai_response_data.append({\n",
        "          \"email_input\": real_human_input,\n",
        "          \"llm_output\": real_ai_output.model_dump_json(),\n",
        "          \"llm_model\": llm_model\n",
        "      })\n",
        "    return ai_response_data\n",
        "  except Exception as e:\n",
        "    print(f\"Error running agent: {e}\")\n",
        "    return None\n",
        "\n"
      ]
    },
    {
      "cell_type": "code",
      "execution_count": 59,
      "metadata": {},
      "outputs": [],
      "source": [
        "def save_training_data(data: EmailDataSet, analysis_result: AnalysisResult, is_correct: bool, file: TextIO) -> None:\n",
        "    try:\n",
        "        timestamp = datetime.now().strftime(\"%Y%m%d_%H:%M:%S\")\n",
        "\n",
        "        json_data = {\n",
        "            \"analysis_timestamp\": timestamp,\n",
        "            \"input\": data.model_dump(),  # 👈 or data.dict() if using pydantic/dataclass\n",
        "            \"output\": analysis_result.model_dump(),\n",
        "            \"evaluation\": {\n",
        "                \"actual_label\": data.is_phishing,\n",
        "                \"predicted_label\": analysis_result.is_phishing,\n",
        "                \"is_correct\": is_correct\n",
        "            }\n",
        "        }\n",
        "\n",
        "        json.dump(json_data, file)\n",
        "        file.write('\\n')  # Add newline to separate JSONL entries\n",
        "        print(f\"Data appended to file: {file.name}\")\n",
        "    except Exception as e:\n",
        "        print(f\"Error saving training data: {e}\")\n"
      ]
    },
    {
      "cell_type": "code",
      "execution_count": null,
      "metadata": {},
      "outputs": [],
      "source": [
        "#save training data\n",
        "import json\n",
        "import os\n",
        "from datetime import datetime\n",
        "\n",
        "def added_data_to_jsonl(email_data: EmailDataSet, analysis_result: AnalysisResult, is_correct: bool, file_name:str)->str | None:\n",
        "  \"\"\"\n",
        "  Generic function to add data to a JSONL file and return the file path\n",
        "  \"\"\"\n",
        "  try:\n",
        "    timestamp = datetime.now().strftime(\"%Y%m%d_%H%M%S\")\n",
        "    full_file_name = f\"{file_name}_{timestamp}.jsonl\"\n",
        "    dir_name = \"llm_dataset\"\n",
        "    file_path = os.path.join(dir_name, full_file_name)\n",
        "\n",
        "    #ensure directory exists before opening file\n",
        "    os.makedirs(dir_name, exist_ok=True)\n",
        "\n",
        "    #Now safely open and append data\n",
        "    with open(file_path, 'a', encoding='utf-8') as file:\n",
        "      save_training_data(email_data, analysis_result, is_correct, file)\n",
        "    return file_path\n",
        "  except Exception as e:\n",
        "    print(f\"Error writing to JSONL file: {str(e)}\")\n",
        "    return None\n",
        "  \n"
      ]
    },
    {
      "cell_type": "markdown",
      "metadata": {},
      "source": [
        "## Anti Phishing Email Classifier Workflow\n"
      ]
    },
    {
      "cell_type": "code",
      "execution_count": 62,
      "metadata": {},
      "outputs": [],
      "source": [
        "from typing import Optional, TypedDict\n",
        "\n",
        "\n",
        "class WorkflowState(TypedDict):\n",
        "    input: EmailDataSet\n",
        "    output: Optional[AnalysisResult] # LLm generated output\n",
        "    is_output_correct: Optional[bool] # valid output.is_phishing with input.is_phishing, when compare to the input_decision\n",
        "    llm_dataset_path: Optional[str]\n",
        "    error: Optional[str]"
      ]
    },
    {
      "cell_type": "code",
      "execution_count": 63,
      "metadata": {},
      "outputs": [],
      "source": [
        "# Define the Nodes\n",
        "# node for analyze legitimate emaildata set\n",
        "def analyze_email_dataset(state: WorkflowState)-> dict:\n",
        "    try:\n",
        "        input = state.get(\"input\")\n",
        "        agent = email_analyzer_agent()\n",
        "        # get prompt template\n",
        "        message_template = get_message_template(input)\n",
        "        #print(f\"Message template: {message_template}\")\n",
        "        response = agent.invoke({\"messages\":message_template})\n",
        "        ai_response =  response['structured_response']\n",
        "        return {\"output\": ai_response, \"error\": None}\n",
        "    except Exception as e:\n",
        "        print(f\"Error in analyze_legitimate node: {e}\")\n",
        "        err_result = AnalysisResult(\n",
        "                    is_phishing=False, \n",
        "                    trust_score=0, \n",
        "                    explaination=f\"[Analysis Error: Agent execution failed: {str(e)}]\",\n",
        "                    recommendation = \"Proceed with extreme caution.\",\n",
        "                    urls = [],\n",
        "                    url_check_result = []\n",
        "                )\n",
        "                    \n",
        "        return {\"output\": err_result, \"error\": str(e)}\n",
        "# node to validate output\n",
        "def validate_output(state: WorkflowState)-> dict:\n",
        "    try:\n",
        "        input = state.get(\"input\")\n",
        "        output = state.get(\"output\")\n",
        "        err = state.get(\"error\")\n",
        "        if err is None:\n",
        "            output_is_phishing = output.is_phishing\n",
        "            input_is_phishing = input.is_phishing\n",
        "            is_valid = output_is_phishing == input_is_phishing\n",
        "            return {\"is_output_correct\": is_valid, \"error\": None}\n",
        "    except Exception as e:\n",
        "        print(f\"Error in validate_output node: {e}\")\n",
        "        return {\"is_output_correct\": False, \"error\": str(e)}\n",
        "\n",
        "# node for training data set\n",
        "def store_output_data(state: WorkflowState)-> dict:\n",
        "    try:\n",
        "        input = state.get(\"input\")\n",
        "        analysis_result = state.get(\"output\")\n",
        "        is_output_correct = state.get(\"is_output_correct\")\n",
        "        if is_output_correct:\n",
        "            #store the output in a file\n",
        "            is_added = added_data_to_jsonl(input,analysis_result,is_output_correct,f\"valid_{llm_model}_generated_dataset\")\n",
        "            if is_added is not None:\n",
        "                return {\"llm_dataset_path\": is_added, \"error\": None}\n",
        "            else:\n",
        "                return {\"llm_dataset_path\": None, \"error\": \"Failed to add valid data to JSONL file\"}\n",
        "        else:\n",
        "            is_added = added_data_to_jsonl(input,analysis_result,is_output_correct,f\"invalid_{llm_model}_generated_dataset\")\n",
        "            if is_added is not None:\n",
        "                return {\"llm_dataset_path\": is_added, \"error\": None}\n",
        "            else:\n",
        "                return {\"llm_dataset_path\": None, \"error\": \"Failed to add invaliddata to JSONL file\"}\n",
        "    except Exception as e:\n",
        "        print(f\"Error in store_correct_output node: {e}\")\n",
        "        return {\"llm_dataset_path\": None, \"error\": str(e)}\n",
        "\n",
        "    \n"
      ]
    },
    {
      "cell_type": "code",
      "execution_count": 64,
      "metadata": {},
      "outputs": [
        {
          "name": "stdout",
          "output_type": "stream",
          "text": [
            "LangGraph workflow created successfully\n"
          ]
        },
        {
          "data": {
            "image/png": "[encoded data removed]",
            "text/plain": [
              "<langgraph.graph.state.CompiledStateGraph object at 0x00000225BE1AC2C0>"
            ]
          },
          "execution_count": 64,
          "metadata": {},
          "output_type": "execute_result"
        }
      ],
      "source": [
        "#Create the workfow state machine\n",
        "\n",
        "from langgraph.graph.state import StateGraph, END, CompiledStateGraph\n",
        "\n",
        "def create_workflow()-> CompiledStateGraph:\n",
        "    try:\n",
        "        workflow = StateGraph(WorkflowState)\n",
        "        # Add nodes to the graph\n",
        "        workflow.add_node(\"analyze email\", analyze_email_dataset)\n",
        "        workflow.add_node(\"validate_output\", validate_output)\n",
        "        workflow.add_node(\"report_output\", store_output_data)\n",
        "\n",
        "        # Define the flow of execution\n",
        "        workflow.set_entry_point(\"analyze email\")\n",
        "        workflow.add_edge(\"analyze email\", \"validate_output\")\n",
        "        workflow.add_edge(\"validate_output\", \"report_output\")\n",
        "        workflow.add_edge(\"report_output\", END)\n",
        "\n",
        "        email_analyzer_app = workflow.compile()\n",
        "        print(\"LangGraph workflow created successfully\")\n",
        "        return email_analyzer_app\n",
        "    except Exception as e:\n",
        "        print(f\"Error creating workflow: {e}\")\n",
        "        traceback.print_exc()\n",
        "        return None \n",
        "#test\n",
        "create_workflow()"
      ]
    },
    {
      "cell_type": "markdown",
      "metadata": {
        "id": "z-SydkdHq7ak"
      },
      "source": []
    },
    {
      "cell_type": "markdown",
      "metadata": {},
      "source": [
        "# Complete flow"
      ]
    },
    {
      "cell_type": "code",
      "execution_count": 66,
      "metadata": {},
      "outputs": [],
      "source": [
        "from typing import List, Dict, Any\n",
        "from datasets import Dataset\n",
        "def run_anti_phishing_email_classifier_workflow(dataset: Dataset)->List[Dict[str, Any]]:\n",
        "    try:\n",
        "        email_dataset = format_dataset(dataset)\n",
        "        workflow =  create_workflow()\n",
        "        results = []\n",
        "        for data in email_dataset:\n",
        "            # initialize the workflow state\n",
        "            init_state = WorkflowState(\n",
        "                # the input.is_phishing is filtered out during prompting\n",
        "                input=data,\n",
        "                output=None,\n",
        "                is_output_correct=False,\n",
        "                llm_dataset_path=None,\n",
        "                error=None\n",
        "            )\n",
        "            # run the workflow\n",
        "            final_state = workflow.invoke(init_state)\n",
        "            err = final_state.get(\"error\")\n",
        "            if err:\n",
        "                result =  {\n",
        "                    \"status\": \"error\",\n",
        "                    \"message\": err,\n",
        "                    \"subject\": data.subject,\n",
        "                    \"analysis_result\": final_state.get(\"output\"),\n",
        "                    \"is_correct\": final_state.get(\"is_output_correct\"),\n",
        "                    \"actual_label\": data.is_phishing,\n",
        "                    \"llm_dataset_files\": final_state.get(\"llm_dataset_path\"),\n",
        "                }\n",
        "            else:\n",
        "                if not final_state.get(\"output\"):\n",
        "                    result = {\n",
        "                        \"status\": \"error\",\n",
        "                        \"message\": \"No analysis result found\",\n",
        "                        \"subject\": data.subject,\n",
        "                        \"analysis_result\": None,\n",
        "                        \"is_correct\": final_state.get(\"is_output_correct\"),\n",
        "                        \"actual_label\": data.is_phishing,\n",
        "                        \"llm_dataset_files\": final_state.get(\"llm_dataset_path\"),\n",
        "                    }\n",
        "                else:\n",
        "                    result = {\n",
        "                        \"status\": \"success\",\n",
        "                        \"message\": \"Analysis completed successfully\",\n",
        "                        \"subject\": data.subject,\n",
        "                        \"analysis_result\": final_state.get(\"output\"),\n",
        "                        \"is_correct\": final_state.get(\"is_output_correct\"),\n",
        "                        \"actual_label\": data.is_phishing,\n",
        "                        \"llm_dataset_files\": final_state.get(\"llm_dataset_path\"),\n",
        "                    }\n",
        "            results.append(result)\n",
        "        return results\n",
        "    except Exception as e:\n",
        "        err_msg = f\"Critical error during email analysis pipeline: {str(e)}\"\n",
        "        print(f\"[Pipeline Error] {err_msg}\")\n",
        "        traceback.print_exc()\n",
        "        return []\n",
        "        \n",
        "   \n",
        "        \n",
        "            \n",
        "\n",
        "    "
      ]
    },
    {
      "cell_type": "code",
      "execution_count": 68,
      "metadata": {},
      "outputs": [
        {
          "name": "stdout",
          "output_type": "stream",
          "text": [
            "LangGraph workflow created successfully\n"
          ]
        },
        {
          "name": "stderr",
          "output_type": "stream",
          "text": [
            "2025-07-24 21:53:32,125 - httpx - INFO - HTTP Request: POST http://127.0.0.1:11434/api/chat \"HTTP/1.1 200 OK\"\n",
            "2025-07-24 21:53:32,862 - httpx - INFO - HTTP Request: POST http://127.0.0.1:11434/api/chat \"HTTP/1.1 200 OK\"\n",
            "2025-07-24 21:53:40,378 - httpx - INFO - HTTP Request: POST http://127.0.0.1:11434/api/chat \"HTTP/1.1 200 OK\"\n"
          ]
        },
        {
          "name": "stdout",
          "output_type": "stream",
          "text": [
            "Data appended to file: llm_dataset\\valid_llama3.2:3b_generated_dataset_20250724_215341.jsonl\n"
          ]
        },
        {
          "data": {
            "application/vnd.jupyter.widget-view+json": {
              "model_id": "fb8aa511930b4411bfdb38ab302be305",
              "version_major": 2,
              "version_minor": 0
            },
            "text/plain": [
              "  0%|          | 0/1 [00:00<?, ?it/s]"
            ]
          },
          "metadata": {},
          "output_type": "display_data"
        },
        {
          "name": "stdout",
          "output_type": "stream",
          "text": [
            "\n",
            "--- Evaluation Results ---\n",
            "Accuracy: 1.00\n",
            "Precision: 1.00\n",
            "Recall: 1.00\n",
            "F1 Score: 1.00\n",
            "\n",
            "Confusion Matrix:\n",
            "True Negatives (correctly identified legitimate): 0\n",
            "False Positives (legitimate misclassified as phishing): 0\n",
            "False Negatives (phishing misclassified as legitimate): 0\n",
            "True Positives (correctly identified phishing): 0\n",
            "\n",
            "Summary saved to evaluation_summary_20250724_215341.json\n"
          ]
        },
        {
          "name": "stderr",
          "output_type": "stream",
          "text": [
            "d:\\developer\\montimage\\anti_phishing_email_classifier_workflow\\.venv\\Lib\\site-packages\\sklearn\\metrics\\_classification.py:534: UserWarning: A single label was found in 'y_true' and 'y_pred'. For the confusion matrix to have the correct shape, use the 'labels' parameter to pass all known labels.\n",
            "  warnings.warn(\n"
          ]
        },
        {
          "data": {
            "text/html": [
              "<div>\n",
              "<style scoped>\n",
              "    .dataframe tbody tr th:only-of-type {\n",
              "        vertical-align: middle;\n",
              "    }\n",
              "\n",
              "    .dataframe tbody tr th {\n",
              "        vertical-align: top;\n",
              "    }\n",
              "\n",
              "    .dataframe thead th {\n",
              "        text-align: right;\n",
              "    }\n",
              "</style>\n",
              "<table border=\"1\" class=\"dataframe\">\n",
              "  <thead>\n",
              "    <tr style=\"text-align: right;\">\n",
              "      <th></th>\n",
              "      <th>subject</th>\n",
              "      <th>actual_label</th>\n",
              "      <th>predicted_label</th>\n",
              "      <th>trust_score</th>\n",
              "      <th>is_correct</th>\n",
              "      <th>llm_model</th>\n",
              "    </tr>\n",
              "  </thead>\n",
              "  <tbody>\n",
              "    <tr>\n",
              "      <th>0</th>\n",
              "      <td>Never agree to be a loser</td>\n",
              "      <td>1</td>\n",
              "      <td>1</td>\n",
              "      <td>20</td>\n",
              "      <td>True</td>\n",
              "      <td>llama3.2:3b</td>\n",
              "    </tr>\n",
              "  </tbody>\n",
              "</table>\n",
              "</div>"
            ],
            "text/plain": [
              "                     subject  actual_label  predicted_label  trust_score  \\\n",
              "0  Never agree to be a loser             1                1           20   \n",
              "\n",
              "   is_correct    llm_model  \n",
              "0        True  llama3.2:3b  "
            ]
          },
          "metadata": {},
          "output_type": "display_data"
        }
      ],
      "source": [
        "from sklearn.metrics import accuracy_score, precision_score, recall_score, f1_score, confusion_matrix   \n",
        "import pandas as pd\n",
        "from tqdm.notebook import tqdm\n",
        "#Test and display the analysis on a table with limited dataset\n",
        "def test_anti_phishing_email_classifier_workflow():\n",
        "    # Tracking the evaluation metrics\n",
        "    true_labels = []\n",
        "    predicted_labels = []\n",
        "    results = []\n",
        "    try:\n",
        "        limited_dataset = all_emails_dataset_only.select(range(1))\n",
        "        analysis_results = run_anti_phishing_email_classifier_workflow(limited_dataset)\n",
        "        # Extract predicted label from analysis result\n",
        "        for i, analysis_result in  enumerate(tqdm(analysis_results)):\n",
        "\n",
        "            if isinstance(analysis_result, dict) and analysis_result.get('status') == \"success\" and 'analysis_result' in analysis_result:\n",
        "                analysis_result_object = analysis_result['analysis_result']\n",
        "                predicted_label = 1 if analysis_result_object.is_phishing else 0\n",
        "                trust_score = analysis_result_object.trust_score\n",
        "                # is prediction correct\n",
        "                is_correct = analysis_result.get('is_correct')\n",
        "                actual_label = 1 if analysis_result.get('actual_label', False) else 0\n",
        "\n",
        "                # store metrics for calculation\n",
        "                true_labels.append(actual_label)\n",
        "                predicted_labels.append(predicted_label)\n",
        "                results.append({\n",
        "                    'index': i,\n",
        "                    'actual_label': actual_label,\n",
        "                    'subject': analysis_result.get('subject'),\n",
        "                    'predicted_label': predicted_label,\n",
        "                    'trust_score': trust_score,\n",
        "                    'is_correct': is_correct,\n",
        "                    'llm_dataset_files':analysis_result.get('llm_dataset_files'),\n",
        "                    'llm_model': llm_model\n",
        "                })\n",
        "            else:\n",
        "                print(f\"Analysis failed for email {i}: {analysis_result.get('message','Unknown error')}\")\n",
        "            \n",
        "        \n",
        "            # Calculate evaluation metrics\n",
        "        if true_labels and predicted_labels:\n",
        "            accuracy = accuracy_score(true_labels, predicted_labels)\n",
        "            precision = precision_score(true_labels, predicted_labels, zero_division=0)\n",
        "            recall = recall_score(true_labels, predicted_labels, zero_division=0)\n",
        "            f1 = f1_score(true_labels, predicted_labels, zero_division=0)\n",
        "            conf_matrix = confusion_matrix(true_labels, predicted_labels)\n",
        "\n",
        "            # Unpack confusion matrix into more interpretable variables\n",
        "            if len(conf_matrix) == 2 and len(conf_matrix[0]) == 2:\n",
        "                tn, fp = conf_matrix[0]\n",
        "                fn, tp = conf_matrix[1]\n",
        "            else:\n",
        "                tn = fp = fn = tp = 0\n",
        "\n",
        "            # Create a results DataFrame for visualization\n",
        "            results_df = pd.DataFrame(results)\n",
        "\n",
        "            # Visualization of results\n",
        "            print(\"\\n--- Evaluation Results ---\")\n",
        "            print(f\"Accuracy: {accuracy:.2f}\")\n",
        "            print(f\"Precision: {precision:.2f}\")  # How many predicted phishing emails were actually phishing\n",
        "            print(f\"Recall: {recall:.2f}\")  # How many actual phishing emails were detected\n",
        "            print(f\"F1 Score: {f1:.2f}\")  # Harmonic mean of precision and recall\n",
        "\n",
        "            print(\"\\nConfusion Matrix:\")\n",
        "            print(f\"True Negatives (correctly identified legitimate): {tn}\")\n",
        "            print(f\"False Positives (legitimate misclassified as phishing): {fp}\")\n",
        "            print(f\"False Negatives (phishing misclassified as legitimate): {fn}\")\n",
        "            print(f\"True Positives (correctly identified phishing): {tp}\")\n",
        "\n",
        "            # Save summary to file\n",
        "            summary = {\n",
        "                'metrics': {\n",
        "                    'accuracy': float(accuracy),\n",
        "                    'precision': float(precision),\n",
        "                    'recall': float(recall),\n",
        "                    'f1': float(f1)\n",
        "                },\n",
        "                'confusion_matrix': {\n",
        "                    'tn': int(tn),\n",
        "                    'fp': int(fp),\n",
        "                    'fn': int(fn),\n",
        "                    'tp': int(tp)\n",
        "                },\n",
        "                'results': results\n",
        "            }\n",
        "\n",
        "            # Save summary to JSON file\n",
        "            from datetime import datetime\n",
        "            timestamp = datetime.now().strftime(\"%Y%m%d_%H%M%S\")\n",
        "            summary_filename = f\"evaluation_summary_{timestamp}.json\"\n",
        "            with open(summary_filename, 'w') as f:\n",
        "                json.dump(summary, f, indent=2, default=str)\n",
        "            print(f\"\\nSummary saved to {summary_filename}\")\n",
        "\n",
        "            # Display results table\n",
        "            display(results_df[['subject', 'actual_label',  'predicted_label', 'trust_score', 'is_correct', 'llm_model']])\n",
        "        else:\n",
        "            print(\"No valid analysis results to evaluate\")\n",
        "    except Exception as e:\n",
        "        print(f\"Error in test_anti_phishing_email_classifier_workflow: {e}\")\n",
        "\n",
        "#run\n",
        "test_anti_phishing_email_classifier_workflow()"
      ]
    }
  ],
  "metadata": {
    "colab": {
      "authorship_tag": "ABX9TyM/2GliF2Tw4PhB2uTsttn2",
      "include_colab_link": true,
      "mount_file_id": "13oghrH7RAtCYLHZ1t5lPwIHd04zx5h_j",
      "provenance": []
    },
    "kernelspec": {
      "display_name": ".venv",
      "language": "python",
      "name": "python3"
    },
    "language_info": {
      "codemirror_mode": {
        "name": "ipython",
        "version": 3
      },
      "file_extension": ".py",
      "mimetype": "text/x-python",
      "name": "python",
      "nbconvert_exporter": "python",
      "pygments_lexer": "ipython3",
      "version": "3.12.0"
    },
    "widgets": {
      "application/vnd.jupyter.widget-state+json": {
        "00c1ca73f4234ef2930f46988ac489e7": {
          "model_module": "@jupyter-widgets/base",
          "model_module_version": "1.2.0",
          "model_name": "LayoutModel",
          "state": {
            "_model_module": "@jupyter-widgets/base",
            "_model_module_version": "1.2.0",
            "_model_name": "LayoutModel",
            "_view_count": null,
            "_view_module": "@jupyter-widgets/base",
            "_view_module_version": "1.2.0",
            "_view_name": "LayoutView",
            "align_content": null,
            "align_items": null,
            "align_self": null,
            "border": null,
            "bottom": null,
            "display": null,
            "flex": null,
            "flex_flow": null,
            "grid_area": null,
            "grid_auto_columns": null,
            "grid_auto_flow": null,
            "grid_auto_rows": null,
            "grid_column": null,
            "grid_gap": null,
            "grid_row": null,
            "grid_template_areas": null,
            "grid_template_columns": null,
            "grid_template_rows": null,
            "height": null,
            "justify_content": null,
            "justify_items": null,
            "left": null,
            "margin": null,
            "max_height": null,
            "max_width": null,
            "min_height": null,
            "min_width": null,
            "object_fit": null,
            "object_position": null,
            "order": null,
            "overflow": null,
            "overflow_x": null,
            "overflow_y": null,
            "padding": null,
            "right": null,
            "top": null,
            "visibility": null,
            "width": null
          }
        },
        "121ef0adc4944fdcb4cbc4958fa37a74": {
          "model_module": "@jupyter-widgets/controls",
          "model_module_version": "1.5.0",
          "model_name": "HTMLModel",
          "state": {
            "_dom_classes": [],
            "_model_module": "@jupyter-widgets/controls",
            "_model_module_version": "1.5.0",
            "_model_name": "HTMLModel",
            "_view_count": null,
            "_view_module": "@jupyter-widgets/controls",
            "_view_module_version": "1.5.0",
            "_view_name": "HTMLView",
            "description": "",
            "description_tooltip": null,
            "layout": "IPY_MODEL_67a2d0c30f81481097771dc46b5b7588",
            "placeholder": "​",
            "style": "IPY_MODEL_ee28a8c6f7ae4cee9b5b5530b53f0e97",
            "value": "Generating train split: "
          }
        },
        "212bf92465314d8599a2c17b974f24ee": {
          "model_module": "@jupyter-widgets/base",
          "model_module_version": "1.2.0",
          "model_name": "LayoutModel",
          "state": {
            "_model_module": "@jupyter-widgets/base",
            "_model_module_version": "1.2.0",
            "_model_name": "LayoutModel",
            "_view_count": null,
            "_view_module": "@jupyter-widgets/base",
            "_view_module_version": "1.2.0",
            "_view_name": "LayoutView",
            "align_content": null,
            "align_items": null,
            "align_self": null,
            "border": null,
            "bottom": null,
            "display": null,
            "flex": null,
            "flex_flow": null,
            "grid_area": null,
            "grid_auto_columns": null,
            "grid_auto_flow": null,
            "grid_auto_rows": null,
            "grid_column": null,
            "grid_gap": null,
            "grid_row": null,
            "grid_template_areas": null,
            "grid_template_columns": null,
            "grid_template_rows": null,
            "height": null,
            "justify_content": null,
            "justify_items": null,
            "left": null,
            "margin": null,
            "max_height": null,
            "max_width": null,
            "min_height": null,
            "min_width": null,
            "object_fit": null,
            "object_position": null,
            "order": null,
            "overflow": null,
            "overflow_x": null,
            "overflow_y": null,
            "padding": null,
            "right": null,
            "top": null,
            "visibility": null,
            "width": "20px"
          }
        },
        "67a2d0c30f81481097771dc46b5b7588": {
          "model_module": "@jupyter-widgets/base",
          "model_module_version": "1.2.0",
          "model_name": "LayoutModel",
          "state": {
            "_model_module": "@jupyter-widgets/base",
            "_model_module_version": "1.2.0",
            "_model_name": "LayoutModel",
            "_view_count": null,
            "_view_module": "@jupyter-widgets/base",
            "_view_module_version": "1.2.0",
            "_view_name": "LayoutView",
            "align_content": null,
            "align_items": null,
            "align_self": null,
            "border": null,
            "bottom": null,
            "display": null,
            "flex": null,
            "flex_flow": null,
            "grid_area": null,
            "grid_auto_columns": null,
            "grid_auto_flow": null,
            "grid_auto_rows": null,
            "grid_column": null,
            "grid_gap": null,
            "grid_row": null,
            "grid_template_areas": null,
            "grid_template_columns": null,
            "grid_template_rows": null,
            "height": null,
            "justify_content": null,
            "justify_items": null,
            "left": null,
            "margin": null,
            "max_height": null,
            "max_width": null,
            "min_height": null,
            "min_width": null,
            "object_fit": null,
            "object_position": null,
            "order": null,
            "overflow": null,
            "overflow_x": null,
            "overflow_y": null,
            "padding": null,
            "right": null,
            "top": null,
            "visibility": null,
            "width": null
          }
        },
        "6814cc14c1f44d7eb26ff232559074ec": {
          "model_module": "@jupyter-widgets/base",
          "model_module_version": "1.2.0",
          "model_name": "LayoutModel",
          "state": {
            "_model_module": "@jupyter-widgets/base",
            "_model_module_version": "1.2.0",
            "_model_name": "LayoutModel",
            "_view_count": null,
            "_view_module": "@jupyter-widgets/base",
            "_view_module_version": "1.2.0",
            "_view_name": "LayoutView",
            "align_content": null,
            "align_items": null,
            "align_self": null,
            "border": null,
            "bottom": null,
            "display": null,
            "flex": null,
            "flex_flow": null,
            "grid_area": null,
            "grid_auto_columns": null,
            "grid_auto_flow": null,
            "grid_auto_rows": null,
            "grid_column": null,
            "grid_gap": null,
            "grid_row": null,
            "grid_template_areas": null,
            "grid_template_columns": null,
            "grid_template_rows": null,
            "height": null,
            "justify_content": null,
            "justify_items": null,
            "left": null,
            "margin": null,
            "max_height": null,
            "max_width": null,
            "min_height": null,
            "min_width": null,
            "object_fit": null,
            "object_position": null,
            "order": null,
            "overflow": null,
            "overflow_x": null,
            "overflow_y": null,
            "padding": null,
            "right": null,
            "top": null,
            "visibility": null,
            "width": null
          }
        },
        "71e4a9c13386409ab38423878af4698a": {
          "model_module": "@jupyter-widgets/controls",
          "model_module_version": "1.5.0",
          "model_name": "ProgressStyleModel",
          "state": {
            "_model_module": "@jupyter-widgets/controls",
            "_model_module_version": "1.5.0",
            "_model_name": "ProgressStyleModel",
            "_view_count": null,
            "_view_module": "@jupyter-widgets/base",
            "_view_module_version": "1.2.0",
            "_view_name": "StyleView",
            "bar_color": null,
            "description_width": ""
          }
        },
        "dad3fe94f6fc4f18936231d99fb860a9": {
          "model_module": "@jupyter-widgets/controls",
          "model_module_version": "1.5.0",
          "model_name": "HTMLModel",
          "state": {
            "_dom_classes": [],
            "_model_module": "@jupyter-widgets/controls",
            "_model_module_version": "1.5.0",
            "_model_name": "HTMLModel",
            "_view_count": null,
            "_view_module": "@jupyter-widgets/controls",
            "_view_module_version": "1.5.0",
            "_view_name": "HTMLView",
            "description": "",
            "description_tooltip": null,
            "layout": "IPY_MODEL_6814cc14c1f44d7eb26ff232559074ec",
            "placeholder": "​",
            "style": "IPY_MODEL_f5d91e0958da45ecac4f009fe6a24170",
            "value": " 3332/0 [00:01&lt;00:00, 3074.43 examples/s]"
          }
        },
        "ee28a8c6f7ae4cee9b5b5530b53f0e97": {
          "model_module": "@jupyter-widgets/controls",
          "model_module_version": "1.5.0",
          "model_name": "DescriptionStyleModel",
          "state": {
            "_model_module": "@jupyter-widgets/controls",
            "_model_module_version": "1.5.0",
            "_model_name": "DescriptionStyleModel",
            "_view_count": null,
            "_view_module": "@jupyter-widgets/base",
            "_view_module_version": "1.2.0",
            "_view_name": "StyleView",
            "description_width": ""
          }
        },
        "f490a84258294dc4b78a7f9997b9ae85": {
          "model_module": "@jupyter-widgets/controls",
          "model_module_version": "1.5.0",
          "model_name": "HBoxModel",
          "state": {
            "_dom_classes": [],
            "_model_module": "@jupyter-widgets/controls",
            "_model_module_version": "1.5.0",
            "_model_name": "HBoxModel",
            "_view_count": null,
            "_view_module": "@jupyter-widgets/controls",
            "_view_module_version": "1.5.0",
            "_view_name": "HBoxView",
            "box_style": "",
            "children": [
              "IPY_MODEL_121ef0adc4944fdcb4cbc4958fa37a74",
              "IPY_MODEL_f9b36947e87e419b80403e8586597fd1",
              "IPY_MODEL_dad3fe94f6fc4f18936231d99fb860a9"
            ],
            "layout": "IPY_MODEL_00c1ca73f4234ef2930f46988ac489e7"
          }
        },
        "f5d91e0958da45ecac4f009fe6a24170": {
          "model_module": "@jupyter-widgets/controls",
          "model_module_version": "1.5.0",
          "model_name": "DescriptionStyleModel",
          "state": {
            "_model_module": "@jupyter-widgets/controls",
            "_model_module_version": "1.5.0",
            "_model_name": "DescriptionStyleModel",
            "_view_count": null,
            "_view_module": "@jupyter-widgets/base",
            "_view_module_version": "1.2.0",
            "_view_name": "StyleView",
            "description_width": ""
          }
        },
        "f9b36947e87e419b80403e8586597fd1": {
          "model_module": "@jupyter-widgets/controls",
          "model_module_version": "1.5.0",
          "model_name": "FloatProgressModel",
          "state": {
            "_dom_classes": [],
            "_model_module": "@jupyter-widgets/controls",
            "_model_module_version": "1.5.0",
            "_model_name": "FloatProgressModel",
            "_view_count": null,
            "_view_module": "@jupyter-widgets/controls",
            "_view_module_version": "1.5.0",
            "_view_name": "ProgressView",
            "bar_style": "success",
            "description": "",
            "description_tooltip": null,
            "layout": "IPY_MODEL_212bf92465314d8599a2c17b974f24ee",
            "max": 1,
            "min": 0,
            "orientation": "horizontal",
            "style": "IPY_MODEL_71e4a9c13386409ab38423878af4698a",
            "value": 1
          }
        }
      }
    }
  },
  "nbformat": 4,
  "nbformat_minor": 0
}
