{
  "cells": [
    {
      "cell_type": "markdown",
      "metadata": {
        "id": "view-in-github",
        "colab_type": "text"
      },
      "source": [
        "<a href=\"https://colab.research.google.com/github/nosadaniel/anti_phishing_email_classifier_workflow/blob/main/data_fine_tuning.ipynb\" target=\"_parent\"><img src=\"https://colab.research.google.com/assets/colab-badge.svg\" alt=\"Open In Colab\"/></a>"
      ]
    },
    {
      "cell_type": "markdown",
      "metadata": {
        "id": "IqM-T1RTzY6C"
      },
      "source": [
        "To run this, press \"*Runtime*\" and press \"*Run all*\" on a **free** Tesla T4 Google Colab instance!\n",
        "<div class=\"align-center\">\n",
        "  <a href=\"https://github.com/unslothai/unsloth\"><img src=\"https://github.com/unslothai/unsloth/raw/main/images/unsloth%20new%20logo.png\" width=\"115\"></a>\n",
        "  <a href=\"https://discord.gg/u54VK8m8tk\"><img src=\"https://github.com/unslothai/unsloth/raw/main/images/Discord button.png\" width=\"145\"></a>\n",
        "  <a href=\"https://ko-fi.com/unsloth\"><img src=\"https://github.com/unslothai/unsloth/raw/main/images/Kofi button.png\" width=\"145\"></a></a> Join Discord if you need help + ⭐ <i>Star us on <a href=\"https://github.com/unslothai/unsloth\">Github</a> </i> ⭐\n",
        "</div>\n",
        "\n",
        "To install Unsloth on your own computer, follow the installation instructions on our Github page [here](https://github.com/unslothai/unsloth?tab=readme-ov-file#-installation-instructions).\n",
        "\n",
        "You will learn how to do [data prep](#Data), how to [train](#Train), how to [run the model](#Inference), & [how to save it](#Save) (eg for Llama.cpp).\n",
        "\n",
        "**[NEW] Try 2x faster inference in a free Colab for Llama-3.1 8b Instruct [here](https://colab.research.google.com/drive/1T-YBVfnphoVc8E2E854qF3jdia2Ll2W2?usp=sharing)**\n",
        "\n",
        "Features in the notebook:\n",
        "1. Uses Maxime Labonne's [FineTome 100K](https://huggingface.co/datasets/mlabonne/FineTome-100k) dataset.\n",
        "1. Convert ShareGPT to HuggingFace format via `standardize_sharegpt`\n",
        "2. Train on Completions / Assistant only via `train_on_responses_only`\n",
        "3. Unsloth now supports Torch 2.4, all TRL & Xformers versions & Python 3.12!"
      ]
    },
    {
      "cell_type": "code",
      "execution_count": 2,
      "metadata": {
        "id": "2eSvM9zX_2d3"
      },
      "outputs": [],
      "source": [
        "%%capture\n",
        "!pip install unsloth\n",
        "!pip install bitsandbytes\n",
        "!pip install trl\n",
        "# Also get the latest nightly Unsloth!\n",
        "#!pip uninstall unsloth -y && pip install --upgrade --no-cache-dir --no-deps git+https://github.com/unslothai/unsloth.git@nightly git+https://github.com/unslothai/unsloth-zoo.git"
      ]
    },
    {
      "cell_type": "markdown",
      "metadata": {
        "id": "r2v_X2fA0Df5"
      },
      "source": [
        "* We support Llama, Mistral, Phi-3, Gemma, Yi, DeepSeek, Qwen, TinyLlama, Vicuna, Open Hermes etc\n",
        "* We support 16bit LoRA or 4bit QLoRA. Both 2x faster.\n",
        "* `max_seq_length` can be set to anything, since we do automatic RoPE Scaling via [kaiokendev's](https://kaiokendev.github.io/til) method.\n",
        "* [**NEW**] We make Gemma-2 9b / 27b **2x faster**! See our [Gemma-2 9b notebook](https://colab.research.google.com/drive/1vIrqH5uYDQwsJ4-OO3DErvuv4pBgVwk4?usp=sharing)\n",
        "* [**NEW**] To finetune and auto export to Ollama, try our [Ollama notebook](https://colab.research.google.com/drive/1WZDi7APtQ9VsvOrQSSC5DDtxq159j8iZ?usp=sharing)"
      ]
    },
    {
      "cell_type": "code",
      "execution_count": 3,
      "metadata": {
        "colab": {
          "base_uri": "https://localhost:8080/",
          "height": 365
        },
        "id": "QmUBVEnvCDJv",
        "outputId": "fca2eed7-4ca1-4809-ef36-b997730cb96d"
      },
      "outputs": [
        {
          "output_type": "error",
          "ename": "NotImplementedError",
          "evalue": "Unsloth currently only works on NVIDIA GPUs and Intel GPUs.",
          "traceback": [
            "\u001b[0;31m---------------------------------------------------------------------------\u001b[0m",
            "\u001b[0;31mNotImplementedError\u001b[0m                       Traceback (most recent call last)",
            "\u001b[0;32m/tmp/ipython-input-3-880213440.py\u001b[0m in \u001b[0;36m<cell line: 0>\u001b[0;34m()\u001b[0m\n\u001b[0;32m----> 1\u001b[0;31m \u001b[0;32mfrom\u001b[0m \u001b[0munsloth\u001b[0m \u001b[0;32mimport\u001b[0m \u001b[0mFastLanguageModel\u001b[0m\u001b[0;34m\u001b[0m\u001b[0;34m\u001b[0m\u001b[0m\n\u001b[0m\u001b[1;32m      2\u001b[0m \u001b[0;32mimport\u001b[0m \u001b[0mtorch\u001b[0m\u001b[0;34m\u001b[0m\u001b[0;34m\u001b[0m\u001b[0m\n\u001b[1;32m      3\u001b[0m \u001b[0mmax_seq_length\u001b[0m \u001b[0;34m=\u001b[0m \u001b[0;36m2048\u001b[0m \u001b[0;31m# Choose any! We auto support RoPE Scaling internally!\u001b[0m\u001b[0;34m\u001b[0m\u001b[0;34m\u001b[0m\u001b[0m\n\u001b[1;32m      4\u001b[0m \u001b[0mdtype\u001b[0m \u001b[0;34m=\u001b[0m \u001b[0;32mNone\u001b[0m \u001b[0;31m# None for auto detection. Float16 for Tesla T4, V100, Bfloat16 for Ampere+\u001b[0m\u001b[0;34m\u001b[0m\u001b[0;34m\u001b[0m\u001b[0m\n\u001b[1;32m      5\u001b[0m \u001b[0mload_in_4bit\u001b[0m \u001b[0;34m=\u001b[0m \u001b[0;32mTrue\u001b[0m \u001b[0;31m# Use 4bit quantization to reduce memory usage. Can be False.\u001b[0m\u001b[0;34m\u001b[0m\u001b[0;34m\u001b[0m\u001b[0m\n",
            "\u001b[0;32m/usr/local/lib/python3.11/dist-packages/unsloth/__init__.py\u001b[0m in \u001b[0;36m<module>\u001b[0;34m\u001b[0m\n\u001b[1;32m     72\u001b[0m     \u001b[0;32mraise\u001b[0m \u001b[0mNotImplementedError\u001b[0m\u001b[0;34m(\u001b[0m\u001b[0;34m\"Unsloth currently only works on NVIDIA GPUs and Intel GPUs.\"\u001b[0m\u001b[0;34m)\u001b[0m\u001b[0;34m\u001b[0m\u001b[0;34m\u001b[0m\u001b[0m\n\u001b[1;32m     73\u001b[0m \u001b[0;32mpass\u001b[0m\u001b[0;34m\u001b[0m\u001b[0;34m\u001b[0m\u001b[0m\n\u001b[0;32m---> 74\u001b[0;31m \u001b[0mDEVICE_TYPE\u001b[0m \u001b[0;34m:\u001b[0m \u001b[0mstr\u001b[0m \u001b[0;34m=\u001b[0m \u001b[0mget_device_type\u001b[0m\u001b[0;34m(\u001b[0m\u001b[0;34m)\u001b[0m\u001b[0;34m\u001b[0m\u001b[0;34m\u001b[0m\u001b[0m\n\u001b[0m\u001b[1;32m     75\u001b[0m \u001b[0;34m\u001b[0m\u001b[0m\n\u001b[1;32m     76\u001b[0m \u001b[0;32mdef\u001b[0m \u001b[0mget_device_count\u001b[0m\u001b[0;34m(\u001b[0m\u001b[0;34m)\u001b[0m\u001b[0;34m:\u001b[0m\u001b[0;34m\u001b[0m\u001b[0;34m\u001b[0m\u001b[0m\n",
            "\u001b[0;32m/usr/local/lib/python3.11/dist-packages/unsloth/__init__.py\u001b[0m in \u001b[0;36mget_device_type\u001b[0;34m()\u001b[0m\n\u001b[1;32m     70\u001b[0m     \u001b[0;32melif\u001b[0m \u001b[0mhasattr\u001b[0m\u001b[0;34m(\u001b[0m\u001b[0mtorch\u001b[0m\u001b[0;34m,\u001b[0m \u001b[0;34m\"xpu\"\u001b[0m\u001b[0;34m)\u001b[0m \u001b[0;32mand\u001b[0m \u001b[0mtorch\u001b[0m\u001b[0;34m.\u001b[0m\u001b[0mxpu\u001b[0m\u001b[0;34m.\u001b[0m\u001b[0mis_available\u001b[0m\u001b[0;34m(\u001b[0m\u001b[0;34m)\u001b[0m\u001b[0;34m:\u001b[0m\u001b[0;34m\u001b[0m\u001b[0;34m\u001b[0m\u001b[0m\n\u001b[1;32m     71\u001b[0m         \u001b[0;32mreturn\u001b[0m \u001b[0;34m\"xpu\"\u001b[0m\u001b[0;34m\u001b[0m\u001b[0;34m\u001b[0m\u001b[0m\n\u001b[0;32m---> 72\u001b[0;31m     \u001b[0;32mraise\u001b[0m \u001b[0mNotImplementedError\u001b[0m\u001b[0;34m(\u001b[0m\u001b[0;34m\"Unsloth currently only works on NVIDIA GPUs and Intel GPUs.\"\u001b[0m\u001b[0;34m)\u001b[0m\u001b[0;34m\u001b[0m\u001b[0;34m\u001b[0m\u001b[0m\n\u001b[0m\u001b[1;32m     73\u001b[0m \u001b[0;32mpass\u001b[0m\u001b[0;34m\u001b[0m\u001b[0;34m\u001b[0m\u001b[0m\n\u001b[1;32m     74\u001b[0m \u001b[0mDEVICE_TYPE\u001b[0m \u001b[0;34m:\u001b[0m \u001b[0mstr\u001b[0m \u001b[0;34m=\u001b[0m \u001b[0mget_device_type\u001b[0m\u001b[0;34m(\u001b[0m\u001b[0;34m)\u001b[0m\u001b[0;34m\u001b[0m\u001b[0;34m\u001b[0m\u001b[0m\n",
            "\u001b[0;31mNotImplementedError\u001b[0m: Unsloth currently only works on NVIDIA GPUs and Intel GPUs."
          ]
        }
      ],
      "source": [
        "from unsloth import FastLanguageModel\n",
        "import torch\n",
        "max_seq_length = 2048 # Choose any! We auto support RoPE Scaling internally!\n",
        "dtype = None # None for auto detection. Float16 for Tesla T4, V100, Bfloat16 for Ampere+\n",
        "load_in_4bit = True # Use 4bit quantization to reduce memory usage. Can be False.\n",
        "\n",
        "# 4bit pre quantized models we support for 4x faster downloading + no OOMs.\n",
        "fourbit_models = [\n",
        "    \"unsloth/Meta-Llama-3.1-8B-bnb-4bit\",      # Llama-3.1 2x faster\n",
        "    \"unsloth/Meta-Llama-3.1-8B-Instruct-bnb-4bit\",\n",
        "    \"unsloth/Meta-Llama-3.1-70B-bnb-4bit\",\n",
        "    \"unsloth/Meta-Llama-3.1-405B-bnb-4bit\",    # 4bit for 405b!\n",
        "    \"unsloth/Mistral-Small-Instruct-2409\",     # Mistral 22b 2x faster!\n",
        "    \"unsloth/mistral-7b-instruct-v0.3-bnb-4bit\",\n",
        "    \"unsloth/Phi-3.5-mini-instruct\",           # Phi-3.5 2x faster!\n",
        "    \"unsloth/Phi-3-medium-4k-instruct\",\n",
        "    \"unsloth/gemma-2-9b-bnb-4bit\",\n",
        "    \"unsloth/gemma-2-27b-bnb-4bit\",            # Gemma 2x faster!\n",
        "\n",
        "    \"unsloth/Llama-3.2-1B-bnb-4bit\",           # NEW! Llama 3.2 models\n",
        "    \"unsloth/Llama-3.2-1B-Instruct-bnb-4bit\",\n",
        "    \"unsloth/Llama-3.2-3B-bnb-4bit\",\n",
        "    \"unsloth/Llama-3.2-3B-Instruct-bnb-4bit\",\n",
        "\n",
        "    \"unsloth/Llama-3.3-70B-Instruct-bnb-4bit\" # NEW! Llama 3.3 70B!\n",
        "] # More models at https://huggingface.co/unsloth\n",
        "\n",
        "model, tokenizer = FastLanguageModel.from_pretrained(\n",
        "    model_name = \"unsloth/Llama-3.2-1B-Instruct\", # or choose \"unsloth/Llama-3.2-1B-Instruct\"\n",
        "    max_seq_length = max_seq_length,\n",
        "    dtype = dtype,\n",
        "    load_in_4bit = load_in_4bit,\n",
        "    # token = \"hf_...\", # use one if using gated models like meta-llama/Llama-2-7b-hf\n",
        ")"
      ]
    },
    {
      "cell_type": "markdown",
      "metadata": {
        "id": "SXd9bTZd1aaL"
      },
      "source": [
        "We now add LoRA adapters so we only need to update 1 to 10% of all parameters!"
      ]
    },
    {
      "cell_type": "code",
      "execution_count": null,
      "metadata": {
        "id": "6bZsfBuZDeCL",
        "colab": {
          "base_uri": "https://localhost:8080/"
        },
        "outputId": "63c46c39-2a35-4428-8c6a-5a4e455be76f"
      },
      "outputs": [
        {
          "output_type": "stream",
          "name": "stderr",
          "text": [
            "Unsloth 2025.7.9 patched 16 layers with 16 QKV layers, 16 O layers and 16 MLP layers.\n"
          ]
        }
      ],
      "source": [
        "model = FastLanguageModel.get_peft_model(\n",
        "    model,\n",
        "    r = 16, # Choose any number > 0 ! Suggested 8, 16, 32, 64, 128\n",
        "    target_modules = [\"q_proj\", \"k_proj\", \"v_proj\", \"o_proj\",\n",
        "                      \"gate_proj\", \"up_proj\", \"down_proj\",],\n",
        "    lora_alpha = 16,\n",
        "    lora_dropout = 0, # Supports any, but = 0 is optimized\n",
        "    bias = \"none\",    # Supports any, but = \"none\" is optimized\n",
        "    # [NEW] \"unsloth\" uses 30% less VRAM, fits 2x larger batch sizes!\n",
        "    use_gradient_checkpointing = \"unsloth\", # True or \"unsloth\" for very long context\n",
        "    random_state = 3407,\n",
        "    use_rslora = False,  # We support rank stabilized LoRA\n",
        "    loftq_config = None, # And LoftQ\n",
        ")"
      ]
    },
    {
      "cell_type": "markdown",
      "metadata": {
        "id": "vITh0KVJ10qX"
      },
      "source": [
        "<a name=\"Data\"></a>\n",
        "### Data Prep\n",
        "We now use the `Llama-3.1` format for conversation style finetunes. We use [Maxime Labonne's FineTome-100k](https://huggingface.co/datasets/mlabonne/FineTome-100k) dataset in ShareGPT style. But we convert it to HuggingFace's normal multiturn format `(\"role\", \"content\")` instead of `(\"from\", \"value\")`/ Llama-3 renders multi turn conversations like below:\n",
        "\n",
        "```\n",
        "<|begin_of_text|><|start_header_id|>user<|end_header_id|>\n",
        "\n",
        "Hello!<|eot_id|><|start_header_id|>assistant<|end_header_id|>\n",
        "\n",
        "Hey there! How are you?<|eot_id|><|start_header_id|>user<|end_header_id|>\n",
        "\n",
        "I'm great thanks!<|eot_id|>\n",
        "```\n",
        "\n",
        "We use our `get_chat_template` function to get the correct chat template. We support `zephyr, chatml, mistral, llama, alpaca, vicuna, vicuna_old, phi3, llama3` and more."
      ]
    },
    {
      "cell_type": "code",
      "source": [
        "import json\n",
        "from datasets import Dataset\n",
        "\n",
        "def load_training_dataset():\n",
        "  try:\n",
        "    file_path = \"valid_training_data.jsonl\"\n",
        "    with open(file_path, \"r\", encoding='utf-8') as file:\n",
        "      # Assuming the file is JSON Lines, read line by line\n",
        "      dataset_list = [json.loads(line.strip()) for line in file if line.strip()]\n",
        "    return dataset_list\n",
        "  except FileNotFoundError:\n",
        "    print(f\"Error: The file '{file_path}' was not found.\")\n",
        "    raise\n",
        "  except json.JSONDecodeError as e:\n",
        "    print(f\"JSON Decode Error loading dataset: {e}\")\n",
        "    print(\"Please ensure the file contains valid JSON objects, one per line if it's JSON Lines.\")\n",
        "    raise\n",
        "  except Exception as e:\n",
        "    print(f\"Error loading dataset: {e}\")\n",
        "    raise e\n",
        "\n",
        "#\n",
        "def convert_to_conversation(sample):\n",
        "  # Ensure sample contains the expected keys\n",
        "  user_prompt = sample.get(\"user_prompt\", \"\")\n",
        "  # Handle the 'output' field which is a dictionary\n",
        "  output_data = sample.get(\"output\", {}) # Get the output dictionary, default to empty dict\n",
        "\n",
        "  # Decide how to represent the output dictionary as a string for the conversation\n",
        "  # For example, use the 'explanation' key or the string representation of the dict\n",
        "  # Let's use the string representation of the dictionary for now, or you can choose a specific key like 'explanation'\n",
        "  output_string = json.dumps(output_data, indent=2) # Convert dictionary to a formatted string\n",
        "\n",
        "\n",
        "  conversation = [\n",
        "      {\n",
        "          \"from\": \"system\",\n",
        "          \"value\": \"You are a cybersecurity expert specialized in analyzing emails for any phishing attempts\"\n",
        "      },\n",
        "      {\n",
        "          \"from\": \"human\",\n",
        "          \"value\": user_prompt\n",
        "      },\n",
        "      {\n",
        "          \"from\": \"llama\",\n",
        "          \"value\": output_string # Use the string representation of the output dictionary\n",
        "      }\n",
        "  ]\n",
        "  return {\"conversations\":conversation}\n",
        "\n",
        "\n",
        "# convert dict to Huggingface Dataset\n",
        "def run_load_training_dataset()->Dataset:\n",
        "  # Load data from the file\n",
        "  data_list = load_training_dataset()\n",
        "\n",
        "  if not data_list:\n",
        "      print(\"No data loaded from file.\")\n",
        "      return Dataset.from_dict({\"conversations\": []}) # Return empty dataset\n",
        "\n",
        "  # Convert each sample in the list to the desired conversation format\n",
        "  converted_data = [convert_to_conversation(sample) for sample in data_list]\n",
        "\n",
        "  # Filter out any None values returned by convert_to_conversation (for skipped samples)\n",
        "  # convert_to_conversation now doesn't return None, so this filter is not strictly necessary\n",
        "  # but leaving it doesn't hurt.\n",
        "  converted_data = [item for item in converted_data if item is not None]\n",
        "\n",
        "\n",
        "  if not converted_data:\n",
        "      print(\"No data successfully converted to conversation format.\")\n",
        "      return Dataset.from_dict({\"conversations\": []}) # Return empty dataset\n",
        "\n",
        "  # Create a Hugging Face Dataset directly from the list of dictionaries\n",
        "  dataset = Dataset.from_list(converted_data)\n",
        "  return dataset\n",
        "\n",
        "\n",
        "#example\n",
        "dataset = run_load_training_dataset()\n",
        "\n",
        "if len(dataset) > 0:\n",
        "  print(\"Successfully loaded data. First record:\")\n",
        "  print(dataset[2])\n",
        "else:\n",
        "  print(\"Failed to load any data or data was empty.\")"
      ],
      "metadata": {
        "colab": {
          "base_uri": "https://localhost:8080/"
        },
        "id": "8cyLA4Fitlc1",
        "outputId": "097392a2-9559-4472-938c-da7d66e0d31b"
      },
      "execution_count": null,
      "outputs": [
        {
          "output_type": "stream",
          "name": "stdout",
          "text": [
            "Successfully loaded data. First record:\n",
            "{'conversations': [{'from': 'system', 'value': 'You are a cybersecurity expert specialized in analyzing emails for any phishing attempts'}, {'from': 'human', 'value': 'Analyze the following email:\\n    <input_email>\\n    From: ivqrnai@pobox.com\\n    Subject: Re: svn commit: r619753 - in /spamassassin/trunk: lib/Mail/SpamAssassin/PerMsgStatus.pm lib/Mail/SpamAssassin/Util/RegistrarBoundaries.pm t/uri_text.t\\n\\n    Body:\\n    -------\\n    Would anyone object to removing .so from this list?  The .so TLD is  \\nbasically dead and we\\'ve found that lots of bogus domains like lib*.so  \\nare being caught by this.  Also sometimes you\\'ll have spammers who are  \\nputting in gibberish or funny punctuation and you\\'ll get sentences  \\nlike \\'blah blah.So this is\\'.  It also occurs with a couple of other  \\ndomains but .so is by far the worst.\\n\\nFor more info on the .so domain you can read about it here: http://en.wikipedia.org/wiki/.so_%28domain_name%29\\n\\nMichael\\n\\nOn Feb 7, 2008, at 9:23 PM, wrzzpv@apache.org wrote:\\n\\n> Author: sidney\\n> Date: Thu Feb  7 19:22:58 2008\\n> New Revision: 619753\\n>\\n> URL: http://svn.apache.org/viewvc?rev=619753&view=rev\\n> Log:\\n> bug 5813: correct TLD lookup to match current ICANN list and add all  \\n> TLDs to regression tests\\n>\\n> Modified:\\n>    spamassassin/trunk/lib/Mail/SpamAssassin/PerMsgStatus.pm\\n>    spamassassin/trunk/lib/Mail/SpamAssassin/Util/ \\n> RegistrarBoundaries.pm\\n>    spamassassin/trunk/t/uri_text.t\\n>\\n> Modified: spamassassin/trunk/lib/Mail/SpamAssassin/PerMsgStatus.pm\\n> URL: http://svn.apache.org/viewvc/spamassassin/trunk/lib/Mail/SpamAssassin/PerMsgStatus.pm?rev=619753&r1=619752&r2=619753&view=diff\\n> = \\n> = \\n> = \\n> = \\n> = \\n> = \\n> = \\n> = \\n> ======================================================================\\n> --- spamassassin/trunk/lib/Mail/SpamAssassin/PerMsgStatus.pm  \\n> (original)\\n> +++ spamassassin/trunk/lib/Mail/SpamAssassin/PerMsgStatus.pm Thu  \\n> Feb  7 19:22:58 2008\\n> @@ -1665,17 +1665,17 @@\\n> # regexps for finding plain text non-scheme hostnames with valid TLDs.\\n>\\n> # the list from %VALID_TLDS in Util/RegistrarBoundaries.pm, as a\\n> -# Regexp::Optimize optimized regexp ;)  accurate as of 20050318\\n> +# Regexp::List optimized regexp ;)  accurate as of 20080208\\n> my $tldsRE = qr/\\n> -    (?=[a-wyz])\\n> -    (?:a(?:e(?:ro)?|r(?:pa)?|[cdfgilmnoqstuwzx])|b(?:iz?| \\n> [abdefghjmnorstvwyz])\\n> -      |c(?:o(?:m|op)?|[acdfghiklmnrsu])|d[ejkmoz]|e[ceghrst]| \\n> f[ijkmor]\\n> -      |g(?:[abdefghilmnpqrstuwy]|ov)|h[kmnrtu]|i(?:n(?:fo|t)?| \\n> [delmoqrst])\\n> -      |j[emop]|k[eghimnprwyz]|l[abcikrstuvy]\\n> -      |m(?:u(?:seum)?|[acdghkmnopqrstvwxyz]|i?l)|n(?:a(?:me)?|et?| \\n> [cfgilopruz])\\n> -      |o(?:m|rg)|p(?:ro?|[aefghklmnstwy])|r[eouw]| \\n> s[abcdeghijklmnortvyzu]\\n> -      |t[cdfghjklmnoprtvwz]|u[agkmsyz]|v[aceginu]|w[fs]|xxx|y[etu]| \\n> z[amw]|ed?u|qa\\n> -    )/ix;\\n> +  (?=[a-wyz])\\n> +  (?:a(?:e(?:ro)?|r(?:pa)?|s(?:ia)?|[cdfgilmnoqtuwxz])|b(?:iz?| \\n> [abdefghjmnorstvwyz])\\n> +    |c(?:at?|o(?:m|op)?|[cdfghiklmnruvxyz])|d[ejkmoz]|e(?:[cegrst]| \\n> d?u)|f[ijkmor]\\n> +    |g(?:[abdefghilmnpqrstuwy]|ov)|h[kmnrtu]|i(?:n(?:fo|t)?| \\n> [delmoqrst])\\n> +    |j(?:o(?:bs)?|[emp])|k[eghimnprwyz]|l[abcikrstuvy]\\n> +    |m(?:o(?:bi)?|u(?:seum)?|[acdeghkmnpqrstvwxyz]|i?l)| \\n> n(?:a(?:me)?|et?|[cfgilopruz])\\n> +    |o(?:m|rg)|p(?:ro?|[aefghklmnstwy])|r[eosuw]| \\n> s[abcdeghijklmnortuvyz]\\n> +    |t(?:r(?:avel)?|[cdfghjkmnoptvwz]|e?l)|u[agkmsyz]|v[aceginu]| \\n> w[fs]|y[etu]|z[amw]|qa\\n> +  )/ix;\\n>\\n> # knownscheme regexp looks for either a https?: or ftp: scheme, or  \\n> www\\\\\\\\d*\\\\\\\\. or ftp\\\\\\\\. prefix, i.e., likely to start a URL\\n> # schemeless regexp looks for a valid TLD at the end of what may be  \\n> a FQDN, followed by optional ., optional :portnum, optional / \\n> rest_of_uri\\n>\\n> Modified: spamassassin/trunk/lib/Mail/SpamAssassin/Util/ \\n> RegistrarBoundaries.pm\\n> URL: http://svn.apache.org/viewvc/spamassassin/trunk/lib/Mail/SpamAssassin/Util/RegistrarBoundaries.pm?rev=619753&r1=619752&r2=619753&view=diff\\n> = \\n> = \\n> = \\n> = \\n> = \\n> = \\n> = \\n> = \\n> ======================================================================\\n> --- spamassassin/trunk/lib/Mail/SpamAssassin/Util/ \\n> RegistrarBoundaries.pm (original)\\n> +++ spamassassin/trunk/lib/Mail/SpamAssassin/Util/ \\n> RegistrarBoundaries.pm Thu Feb  7 19:22:58 2008\\n> @@ -31,28 +31,22 @@\\n>\\n> # The list of currently-valid TLDs for the DNS system.\\n> #\\n> -# http://www.iana.org/cctld/cctld-whois.htm\\n> -# \"su\" Extra from http://www.iana.org/root-whois/\\n> -# http://www.iana.org/gtld/gtld.htm\\n> -# http://www.iana.org/arpa-dom/\\n> +# http://data.iana.org/TLD/tlds-alpha-by-domain.txt\\n> +# Version 2008020601, Last Updated Thu Feb  7 09:07:00 2008 UTC\\n> foreach (qw/\\n> -  ac ad ae af ag ai al am an ao aq ar as at au aw az ax ba bb bd be  \\n> bf bg bh bi\\n> -  bj bm bn bo br bs bt bv bw by bz ca cc cd cf cg ch ci ck cl cm cn  \\n> co cr cs cu\\n> -  cv cx cy cz de dj dk dm do dz ec ee eg eh er es et fi fj fk fm fo  \\n> fr ga gb gd\\n> -  ge gf gg gh gi gl gm gn gp gq gr gs gt gu gw gy hk hm hn hr ht hu  \\n> id ie il im\\n> -  in io iq ir is it je jm jo jp ke kg kh ki km kn kp kr kw ky kz la  \\n> lb lc li lk\\n> -  lr ls lt lu lv ly ma mc md mg mh mk ml mm mn mo mp mq mr ms mt mu  \\n> mv mw mx my\\n> -  mz na nc ne nf ng ni nl no np nr nu nz om pa pe pf pg ph pk pl pm  \\n> pn pr ps pt\\n> -  pw py qa re ro ru rw sa sb sc sd se sg sh si sj sk sl sm sn so sr  \\n> st sv sy sz\\n> -  tc td tf tg th tj tk tl tm tn to tp tr tt tv tw tz ua ug uk um us  \\n> uy uz va vc\\n> -  ve vg vi vn vu wf ws ye yt yu za zm zw\\n> -  su\\n> -  aero biz com coop info museum name net org pro gov edu mil int\\n> -  arpa\\n> -  eu\\n> -  jobs travel\\n> -  xxx\\n> -  mobi asia cat tel\\n> +  ac ad ae aero af ag ai al am an ao aq ar arpa as asia at au aw ax  \\n> az\\n> +  ba bb bd be bf bg bh bi biz bj bm bn bo br bs bt bv bw by bz ca  \\n> cat cc\\n> +  cd cf cg ch ci ck cl cm cn co com coop cr cu cv cx cy cz de dj dk  \\n> dm\\n> +  do dz ec edu ee eg er es et eu fi fj fk fm fo fr ga gb gd ge gf  \\n> gg gh\\n> +  gi gl gm gn gov gp gq gr gs gt gu gw gy hk hm hn hr ht hu id ie  \\n> il im\\n> +  in info int io iq ir is it je jm jo jobs jp ke kg kh ki km kn kp  \\n> kr kw\\n> +  ky kz la lb lc li lk lr ls lt lu lv ly ma mc md me mg mh mil mk  \\n> ml mm\\n> +  mn mo mobi mp mq mr ms mt mu museum mv mw mx my mz na name nc ne  \\n> net\\n> +  nf ng ni nl no np nr nu nz om org pa pe pf pg ph pk pl pm pn pr  \\n> pro ps\\n> +  pt pw py qa re ro rs ru rw sa sb sc sd se sg sh si sj sk sl sm sn  \\n> so\\n> +  sr st su sv sy sz tc td tel tf tg th tj tk tl tm tn to tp tr  \\n> travel tt\\n> +  tv tw tz ua ug uk um us uy uz va vc ve vg vi vn vu wf ws ye yt yu  \\n> za\\n> +  zm zw\\n>   /) {\\n>   $VALID_TLDS{$_} = 1;\\n> }\\n>\\n> Modified: spamassassin/trunk/t/uri_text.t\\n> URL: http://svn.apache.org/viewvc/spamassassin/trunk/t/uri_text.t?rev=619753&r1=619752&r2=619753&view=diff\\n> = \\n> = \\n> = \\n> = \\n> = \\n> = \\n> = \\n> = \\n> ======================================================================\\n> --- spamassassin/trunk/t/uri_text.t (original)\\n> +++ spamassassin/trunk/t/uri_text.t Thu Feb  7 19:22:58 2008\\n> @@ -24,7 +24,7 @@\\n> use vars qw(%patterns %anti_patterns);\\n>\\n> # settings\\n> -plan tests => 406;\\n> +plan tests => 678;\\n>\\n> # initialize SpamAssassin\\n> my $sa = create_saobj({\\'dont_copy_prefs\\' => 1});\\n> @@ -282,11 +282,289 @@\\n> # check all the TLDs (might as well be thorough)\\n>\\n> # first confirm that it will fail on not a TLD\\n> +example.foo\\t!^http://example.foo$\\n> +example.xxx\\t!^http://example.xxx$\\n> +\\n> +example.ac\\t^http://example.ac$\\n> +example.ad\\t^http://example.ad$\\n> +example.ae\\t^http://example.ae$\\n> +example.aero\\t^http://example.aero$\\n> +example.af\\t^http://example.af$\\n> +example.ag\\t^http://example.ag$\\n> +example.ai\\t^http://example.ai$\\n> +example.al\\t^http://example.al$\\n> +example.am\\t^http://example.am$\\n> +example.an\\t^http://example.an$\\n> +example.ao\\t^http://example.ao$\\n> +example.aq\\t^http://example.aq$\\n> +example.ar\\t^http://example.ar$\\n> +example.arpa\\t^http://example.arpa$\\n> +example.as\\t^http://example.as$\\n> +example.asia\\t^http://example.asia$\\n> +example.at\\t^http://example.at$\\n> +example.au\\t^http://example.au$\\n> +example.aw\\t^http://example.aw$\\n> +example.ax\\t^http://example.ax$\\n> +example.az\\t^http://example.az$\\n> +example.ba\\t^http://example.ba$\\n> +example.bb\\t^http://example.bb$\\n> +example.bd\\t^http://example.bd$\\n> +example.be\\t^http://example.be$\\n> +example.bf\\t^http://example.bf$\\n> +example.bg\\t^http://example.bg$\\n> +example.bh\\t^http://example.bh$\\n> +example.bi\\t^http://example.bi$\\n> +example.biz\\t^http://example.biz$\\n> +example.bj\\t^http://example.bj$\\n> +example.bm\\t^http://example.bm$\\n> +example.bn\\t^http://example.bn$\\n> +example.bo\\t^http://example.bo$\\n> +example.br\\t^http://example.br$\\n> +example.bs\\t^http://example.bs$\\n> +example.bt\\t^http://example.bt$\\n> +example.bv\\t^http://example.bv$\\n> +example.bw\\t^http://example.bw$\\n> +example.by\\t^http://example.by$\\n> +example.bz\\t^http://example.bz$\\n> +example.ca\\t^http://example.ca$\\n> +example.cat\\t^http://example.cat$\\n> +example.cc\\t^http://example.cc$\\n> +example.cd\\t^http://example.cd$\\n> +example.cf\\t^http://example.cf$\\n> +example.cg\\t^http://example.cg$\\n> +example.ch\\t^http://example.ch$\\n> +example.ci\\t^http://example.ci$\\n> +example.ck\\t^http://example.ck$\\n> +example.cl\\t^http://example.cl$\\n> +example.cm\\t^http://example.cm$\\n> +example.cn\\t^http://example.cn$\\n> +example.co\\t^http://example.co$\\n> +example.com\\t^http://example.com$\\n> +example.coop\\t^http://example.coop$\\n> +example.cr\\t^http://example.cr$\\n> +example.cu\\t^http://example.cu$\\n> +example.cv\\t^http://example.cv$\\n> +example.cx\\t^http://example.cx$\\n> +example.cy\\t^http://example.cy$\\n> +example.cz\\t^http://example.cz$\\n> +example.de\\t^http://example.de$\\n> +example.dj\\t^http://example.dj$\\n> +example.dk\\t^http://example.dk$\\n> +example.dm\\t^http://example.dm$\\n> +example.do\\t^http://example.do$\\n> +example.dz\\t^http://example.dz$\\n> +example.ec\\t^http://example.ec$\\n> +example.edu\\t^http://example.edu$\\n> +example.ee\\t^http://example.ee$\\n> +example.eg\\t^http://example.eg$\\n> +example.er\\t^http://example.er$\\n> +example.es\\t^http://example.es$\\n> +example.et\\t^http://example.et$\\n> +example.eu\\t^http://example.eu$\\n> +example.fi\\t^http://example.fi$\\n> +example.fj\\t^http://example.fj$\\n> +example.fk\\t^http://example.fk$\\n> +example.fm\\t^http://example.fm$\\n> +example.fo\\t^http://example.fo$\\n> +example.fr\\t^http://example.fr$\\n> +example.ga\\t^http://example.ga$\\n> +example.gb\\t^http://example.gb$\\n> +example.gd\\t^http://example.gd$\\n> +example.ge\\t^http://example.ge$\\n> +example.gf\\t^http://example.gf$\\n> +example.gg\\t^http://example.gg$\\n> +example.gh\\t^http://example.gh$\\n> +example.gi\\t^http://example.gi$\\n> +example.gl\\t^http://example.gl$\\n> +example.gm\\t^http://example.gm$\\n> +example.gn\\t^http://example.gn$\\n> +example.gov\\t^http://example.gov$\\n> +example.gp\\t^http://example.gp$\\n> +example.gq\\t^http://example.gq$\\n> +example.gr\\t^http://example.gr$\\n> +example.gs\\t^http://example.gs$\\n> +example.gt\\t^http://example.gt$\\n> +example.gu\\t^http://example.gu$\\n> +example.gw\\t^http://example.gw$\\n> +example.gy\\t^http://example.gy$\\n> +example.hk\\t^http://example.hk$\\n> +example.hm\\t^http://example.hm$\\n> +example.hn\\t^http://example.hn$\\n> +example.hr\\t^http://example.hr$\\n> +example.ht\\t^http://example.ht$\\n> +example.hu\\t^http://example.hu$\\n> +example.id\\t^http://example.id$\\n> +example.ie\\t^http://example.ie$\\n> +example.il\\t^http://example.il$\\n> +example.im\\t^http://example.im$\\n> +example.in\\t^http://example.in$\\n> +example.info\\t^http://example.info$\\n> +example.int\\t^http://example.int$\\n> +example.io\\t^http://example.io$\\n> +example.iq\\t^http://example.iq$\\n> +example.ir\\t^http://example.ir$\\n> +example.is\\t^http://example.is$\\n> +example.it\\t^http://example.it$\\n> +example.je\\t^http://example.je$\\n> +example.jm\\t^http://example.jm$\\n> +example.jo\\t^http://example.jo$\\n> +example.jobs\\t^http://example.jobs$\\n> +example.jp\\t^http://example.jp$\\n> +example.ke\\t^http://example.ke$\\n> +example.kg\\t^http://example.kg$\\n> +example.kh\\t^http://example.kh$\\n> +example.ki\\t^http://example.ki$\\n> +example.km\\t^http://example.km$\\n> +example.kn\\t^http://example.kn$\\n> +example.kp\\t^http://example.kp$\\n> +example.kr\\t^http://example.kr$\\n> +example.kw\\t^http://example.kw$\\n> +example.ky\\t^http://example.ky$\\n> +example.kz\\t^http://example.kz$\\n> +example.la\\t^http://example.la$\\n> +example.lb\\t^http://example.lb$\\n> +example.lc\\t^http://example.lc$\\n> +example.li\\t^http://example.li$\\n> +example.lk\\t^http://example.lk$\\n> +example.lr\\t^http://example.lr$\\n> +example.ls\\t^http://example.ls$\\n> +example.lt\\t^http://example.lt$\\n> +example.lu\\t^http://example.lu$\\n> +example.lv\\t^http://example.lv$\\n> +example.ly\\t^http://example.ly$\\n> +example.ma\\t^http://example.ma$\\n> +example.mc\\t^http://example.mc$\\n> +example.md\\t^http://example.md$\\n> +example.me\\t^http://example.me$\\n> +example.mg\\t^http://example.mg$\\n> +example.mh\\t^http://example.mh$\\n> +example.mil\\t^http://example.mil$\\n> +example.mk\\t^http://example.mk$\\n> +example.ml\\t^http://example.ml$\\n> +example.mm\\t^http://example.mm$\\n> +example.mn\\t^http://example.mn$\\n> +example.mo\\t^http://example.mo$\\n> +example.mobi\\t^http://example.mobi$\\n> +example.mp\\t^http://example.mp$\\n> +example.mq\\t^http://example.mq$\\n> +example.mr\\t^http://example.mr$\\n> +example.ms\\t^http://example.ms$\\n> +example.mt\\t^http://example.mt$\\n> +example.mu\\t^http://example.mu$\\n> +example.museum\\t^http://example.museum$\\n> +example.mv\\t^http://example.mv$\\n> +example.mw\\t^http://example.mw$\\n> +example.mx\\t^http://example.mx$\\n> +example.my\\t^http://example.my$\\n> +example.mz\\t^http://example.mz$\\n> +example.na\\t^http://example.na$\\n> +example.name\\t^http://example.name$\\n> +example.nc\\t^http://example.nc$\\n> +example.ne\\t^http://example.ne$\\n> +example.net\\t^http://example.net$\\n> +example.nf\\t^http://example.nf$\\n> +example.ng\\t^http://example.ng$\\n> +example.ni\\t^http://example.ni$\\n> +example.nl\\t^http://example.nl$\\n> +example.no\\t^http://example.no$\\n> +example.np\\t^http://example.np$\\n> +example.nr\\t^http://example.nr$\\n> +example.nu\\t^http://example.nu$\\n> +example.nz\\t^http://example.nz$\\n> +example.om\\t^http://example.om$\\n> +example.org\\t^http://example.org$\\n> +example.pa\\t^http://example.pa$\\n> +example.pe\\t^http://example.pe$\\n> +example.pf\\t^http://example.pf$\\n> +example.pg\\t^http://example.pg$\\n> +example.ph\\t^http://example.ph$\\n> +example.pk\\t^http://example.pk$\\n> +example.pl\\t^http://example.pl$\\n> +example.pm\\t^http://example.pm$\\n> +example.pn\\t^http://example.pn$\\n> +example.pr\\t^http://example.pr$\\n> +example.pro\\t^http://example.pro$\\n> +example.ps\\t^http://example.ps$\\n> +example.pt\\t^http://example.pt$\\n> +example.pw\\t^http://example.pw$\\n> +example.py\\t^http://example.py$\\n> +example.qa\\t^http://example.qa$\\n> +example.re\\t^http://example.re$\\n> +example.ro\\t^http://example.ro$\\n> +example.rs\\t^http://example.rs$\\n> +example.ru\\t^http://example.ru$\\n> +example.rw\\t^http://example.rw$\\n> +example.sa\\t^http://example.sa$\\n> +example.sb\\t^http://example.sb$\\n> +example.sc\\t^http://example.sc$\\n> +example.sd\\t^http://example.sd$\\n> +example.se\\t^http://example.se$\\n> +example.sg\\t^http://example.sg$\\n> +example.sh\\t^http://example.sh$\\n> +example.si\\t^http://example.si$\\n> +example.sj\\t^http://example.sj$\\n> +example.sk\\t^http://example.sk$\\n> +example.sl\\t^http://example.sl$\\n> +example.sm\\t^http://example.sm$\\n> +example.sn\\t^http://example.sn$\\n> +example.so\\t^http://example.so$\\n> +example.sr\\t^http://example.sr$\\n> +example.st\\t^http://example.st$\\n> +example.su\\t^http://example.su$\\n> +example.sv\\t^http://example.sv$\\n> +example.sy\\t^http://example.sy$\\n> +example.sz\\t^http://example.sz$\\n> +example.tc\\t^http://example.tc$\\n> +example.td\\t^http://example.td$\\n> +example.tel\\t^http://example.tel$\\n> +example.tf\\t^http://example.tf$\\n> +example.tg\\t^http://example.tg$\\n> +example.th\\t^http://example.th$\\n> +example.tj\\t^http://example.tj$\\n> +example.tk\\t^http://example.tk$\\n> +example.tl\\t^http://example.tl$\\n> +example.tm\\t^http://example.tm$\\n> +example.tn\\t^http://example.tn$\\n> +example.to\\t^http://example.to$\\n> +example.tp\\t^http://example.tp$\\n> +example.tr\\t^http://example.tr$\\n> +example.travel\\t^http://example.travel$\\n> +example.tt\\t^http://example.tt$\\n> +example.tv\\t^http://example.tv$\\n> +example.tw\\t^http://example.tw$\\n> +example.tz\\t^http://example.tz$\\n> +example.ua\\t^http://example.ua$\\n> +example.ug\\t^http://example.ug$\\n> +example.uk\\t^http://example.uk$\\n> +example.um\\t^http://example.um$\\n> +example.us\\t^http://example.us$\\n> +example.uy\\t^http://example.uy$\\n> +example.uz\\t^http://example.uz$\\n> +example.va\\t^http://example.va$\\n> +example.vc\\t^http://example.vc$\\n> +example.ve\\t^http://example.ve$\\n> +example.vg\\t^http://example.vg$\\n> +example.vi\\t^http://example.vi$\\n> +example.vn\\t^http://example.vn$\\n> +example.vu\\t^http://example.vu$\\n> +example.wf\\t^http://example.wf$\\n> +example.ws\\t^http://example.ws$\\n> +example.ye\\t^http://example.ye$\\n> +example.yt\\t^http://example.yt$\\n> +example.yu\\t^http://example.yu$\\n> +example.za\\t^http://example.za$\\n> +example.zm\\t^http://example.zm$\\n> +example.zw\\t^http://example.zw$\\n> +\\n> +# with www. prefix tests a different table of TLDs\\n> +\\n> www.example.foo\\t!^http://www.example.foo$\\n> +www.example.xxx\\t!^http://www.example.xxx$\\n>\\n> www.example.ac\\t^http://www.example.ac$\\n> www.example.ad\\t^http://www.example.ad$\\n> www.example.ae\\t^http://www.example.ae$\\n> +www.example.aero\\t^http://www.example.aero$\\n> www.example.af\\t^http://www.example.af$\\n> www.example.ag\\t^http://www.example.ag$\\n> www.example.ai\\t^http://www.example.ai$\\n> @@ -296,12 +574,14 @@\\n> www.example.ao\\t^http://www.example.ao$\\n> www.example.aq\\t^http://www.example.aq$\\n> www.example.ar\\t^http://www.example.ar$\\n> +www.example.arpa\\t^http://www.example.arpa$\\n> www.example.as\\t^http://www.example.as$\\n> +www.example.asia\\t^http://www.example.asia$\\n> www.example.at\\t^http://www.example.at$\\n> www.example.au\\t^http://www.example.au$\\n> www.example.aw\\t^http://www.example.aw$\\n> -www.example.az\\t^http://www.example.az$\\n> www.example.ax\\t^http://www.example.ax$\\n> +www.example.az\\t^http://www.example.az$\\n> www.example.ba\\t^http://www.example.ba$\\n> www.example.bb\\t^http://www.example.bb$\\n> www.example.bd\\t^http://www.example.bd$\\n> @@ -310,6 +590,7 @@\\n> www.example.bg\\t^http://www.example.bg$\\n> www.example.bh\\t^http://www.example.bh$\\n> www.example.bi\\t^http://www.example.bi$\\n> +www.example.biz\\t^http://www.example.biz$\\n> www.example.bj\\t^http://www.example.bj$\\n> www.example.bm\\t^http://www.example.bm$\\n> www.example.bn\\t^http://www.example.bn$\\n> @@ -322,6 +603,7 @@\\n> www.example.by\\t^http://www.example.by$\\n> www.example.bz\\t^http://www.example.bz$\\n> www.example.ca\\t^http://www.example.ca$\\n> +www.example.cat\\t^http://www.example.cat$\\n> www.example.cc\\t^http://www.example.cc$\\n> www.example.cd\\t^http://www.example.cd$\\n> www.example.cf\\t^http://www.example.cf$\\n> @@ -333,8 +615,9 @@\\n> www.example.cm\\t^http://www.example.cm$\\n> www.example.cn\\t^http://www.example.cn$\\n> www.example.co\\t^http://www.example.co$\\n> +www.example.com\\t^http://www.example.com$\\n> +www.example.coop\\t^http://www.example.coop$\\n> www.example.cr\\t^http://www.example.cr$\\n> -www.example.cs\\t^http://www.example.cs$\\n> www.example.cu\\t^http://www.example.cu$\\n> www.example.cv\\t^http://www.example.cv$\\n> www.example.cx\\t^http://www.example.cx$\\n> @@ -347,12 +630,13 @@\\n> www.example.do\\t^http://www.example.do$\\n> www.example.dz\\t^http://www.example.dz$\\n> www.example.ec\\t^http://www.example.ec$\\n> +www.example.edu\\t^http://www.example.edu$\\n> www.example.ee\\t^http://www.example.ee$\\n> www.example.eg\\t^http://www.example.eg$\\n> -www.example.eh\\t^http://www.example.eh$\\n> www.example.er\\t^http://www.example.er$\\n> www.example.es\\t^http://www.example.es$\\n> www.example.et\\t^http://www.example.et$\\n> +www.example.eu\\t^http://www.example.eu$\\n> www.example.fi\\t^http://www.example.fi$\\n> www.example.fj\\t^http://www.example.fj$\\n> www.example.fk\\t^http://www.example.fk$\\n> @@ -370,6 +654,7 @@\\n> www.example.gl\\t^http://www.example.gl$\\n> www.example.gm\\t^http://www.example.gm$\\n> www.example.gn\\t^http://www.example.gn$\\n> +www.example.gov\\t^http://www.example.gov$\\n> www.example.gp\\t^http://www.example.gp$\\n> www.example.gq\\t^http://www.example.gq$\\n> www.example.gr\\t^http://www.example.gr$\\n> @@ -389,6 +674,8 @@\\n> www.example.il\\t^http://www.example.il$\\n> www.example.im\\t^http://www.example.im$\\n> www.example.in\\t^http://www.example.in$\\n> +www.example.info\\t^http://www.example.info$\\n> +www.example.int\\t^http://www.example.int$\\n> www.example.io\\t^http://www.example.io$\\n> www.example.iq\\t^http://www.example.iq$\\n> www.example.ir\\t^http://www.example.ir$\\n> @@ -397,6 +684,7 @@\\n> www.example.je\\t^http://www.example.je$\\n> www.example.jm\\t^http://www.example.jm$\\n> www.example.jo\\t^http://www.example.jo$\\n> +www.example.jobs\\t^http://www.example.jobs$\\n> www.example.jp\\t^http://www.example.jp$\\n> www.example.ke\\t^http://www.example.ke$\\n> www.example.kg\\t^http://www.example.kg$\\n> @@ -423,27 +711,33 @@\\n> www.example.ma\\t^http://www.example.ma$\\n> www.example.mc\\t^http://www.example.mc$\\n> www.example.md\\t^http://www.example.md$\\n> +www.example.me\\t^http://www.example.me$\\n> www.example.mg\\t^http://www.example.mg$\\n> www.example.mh\\t^http://www.example.mh$\\n> +www.example.mil\\t^http://www.example.mil$\\n> www.example.mk\\t^http://www.example.mk$\\n> www.example.ml\\t^http://www.example.ml$\\n> www.example.mm\\t^http://www.example.mm$\\n> www.example.mn\\t^http://www.example.mn$\\n> www.example.mo\\t^http://www.example.mo$\\n> +www.example.mobi\\t^http://www.example.mobi$\\n> www.example.mp\\t^http://www.example.mp$\\n> www.example.mq\\t^http://www.example.mq$\\n> www.example.mr\\t^http://www.example.mr$\\n> www.example.ms\\t^http://www.example.ms$\\n> www.example.mt\\t^http://www.example.mt$\\n> www.example.mu\\t^http://www.example.mu$\\n> +www.example.museum\\t^http://www.example.museum$\\n> www.example.mv\\t^http://www.example.mv$\\n> www.example.mw\\t^http://www.example.mw$\\n> www.example.mx\\t^http://www.example.mx$\\n> www.example.my\\t^http://www.example.my$\\n> www.example.mz\\t^http://www.example.mz$\\n> www.example.na\\t^http://www.example.na$\\n> +www.example.name\\t^http://www.example.name$\\n> www.example.nc\\t^http://www.example.nc$\\n> www.example.ne\\t^http://www.example.ne$\\n> +www.example.net\\t^http://www.example.net$\\n> www.example.nf\\t^http://www.example.nf$\\n> www.example.ng\\t^http://www.example.ng$\\n> www.example.ni\\t^http://www.example.ni$\\n> @@ -454,6 +748,7 @@\\n> www.example.nu\\t^http://www.example.nu$\\n> www.example.nz\\t^http://www.example.nz$\\n> www.example.om\\t^http://www.example.om$\\n> +www.example.org\\t^http://www.example.org$\\n> www.example.pa\\t^http://www.example.pa$\\n> www.example.pe\\t^http://www.example.pe$\\n> www.example.pf\\t^http://www.example.pf$\\n> @@ -464,6 +759,7 @@\\n> www.example.pm\\t^http://www.example.pm$\\n> www.example.pn\\t^http://www.example.pn$\\n> www.example.pr\\t^http://www.example.pr$\\n> +www.example.pro\\t^http://www.example.pro$\\n> www.example.ps\\t^http://www.example.ps$\\n> www.example.pt\\t^http://www.example.pt$\\n> www.example.pw\\t^http://www.example.pw$\\n> @@ -471,6 +767,7 @@\\n> www.example.qa\\t^http://www.example.qa$\\n> www.example.re\\t^http://www.example.re$\\n> www.example.ro\\t^http://www.example.ro$\\n> +www.example.rs\\t^http://www.example.rs$\\n> www.example.ru\\t^http://www.example.ru$\\n> www.example.rw\\t^http://www.example.rw$\\n> www.example.sa\\t^http://www.example.sa$\\n> @@ -489,11 +786,13 @@\\n> www.example.so\\t^http://www.example.so$\\n> www.example.sr\\t^http://www.example.sr$\\n> www.example.st\\t^http://www.example.st$\\n> +www.example.su\\t^http://www.example.su$\\n> www.example.sv\\t^http://www.example.sv$\\n> www.example.sy\\t^http://www.example.sy$\\n> www.example.sz\\t^http://www.example.sz$\\n> www.example.tc\\t^http://www.example.tc$\\n> www.example.td\\t^http://www.example.td$\\n> +www.example.tel\\t^http://www.example.tel$\\n> www.example.tf\\t^http://www.example.tf$\\n> www.example.tg\\t^http://www.example.tg$\\n> www.example.th\\t^http://www.example.th$\\n> @@ -505,6 +804,7 @@\\n> www.example.to\\t^http://www.example.to$\\n> www.example.tp\\t^http://www.example.tp$\\n> www.example.tr\\t^http://www.example.tr$\\n> +www.example.travel\\t^http://www.example.travel$\\n> www.example.tt\\t^http://www.example.tt$\\n> www.example.tv\\t^http://www.example.tv$\\n> www.example.tw\\t^http://www.example.tw$\\n> @@ -531,27 +831,3 @@\\n> www.example.za\\t^http://www.example.za$\\n> www.example.zm\\t^http://www.example.zm$\\n> www.example.zw\\t^http://www.example.zw$\\n> -www.example.su\\t^http://www.example.su$\\n> -www.example.aero\\t^http://www.example.aero$\\n> -www.example.biz\\t^http://www.example.biz$\\n> -www.example.com\\t^http://www.example.com$\\n> -www.example.coop\\t^http://www.example.coop$\\n> -www.example.info\\t^http://www.example.info$\\n> -www.example.museum\\t^http://www.example.museum$\\n> -www.example.name\\t^http://www.example.name$\\n> -www.example.net\\t^http://www.example.net$\\n> -www.example.org\\t^http://www.example.org$\\n> -www.example.pro\\t^http://www.example.pro$\\n> -www.example.gov\\t^http://www.example.gov$\\n> -www.example.edu\\t^http://www.example.edu$\\n> -www.example.mil\\t^http://www.example.mil$\\n> -www.example.int\\t^http://www.example.int$\\n> -www.example.arpa\\t^http://www.example.arpa$\\n> -www.example.eu\\t^http://www.example.eu$\\n> -www.example.jobs\\t^http://www.example.jobs$\\n> -www.example.travel\\t^http://www.example.travel$\\n> -www.example.xxx\\t^http://www.example.xxx$\\n> -www.example.mobi\\t^http://www.example.mobi$\\n> -www.example.asia\\t^http://www.example.asia$\\n> -www.example.cat\\t^http://www.example.cat$\\n> -www.example.tel\\t^http://www.example.tel$\\n>\\n>\\n\\n\\n\\n    -------\\n\\n    additional_emails: [\\'wrzzpv@apache.org\\']\\n\\n    URLs Identified in Body: [\\'http://en.wikipedia.org/wiki/.so_%28domain_name%29\\']\\n    </input_email>\\n  '}, {'from': 'gpt', 'value': '{\\n  \"is_phishing\": false,\\n  \"trust_score\": 0,\\n  \"explanation\": \"This log entry appears to be from an Apache mail server and lists the emails received by the server along with some additional information about the emails.\",\\n  \"recommendation\": \"The email content does not appear to be phishing. However, it is recommended to verify the authenticity of the sender before responding to the email.\",\\n  \"urls\": [],\\n  \"url_check_results\": []\\n}'}]}\n"
          ]
        }
      ]
    },
    {
      "cell_type": "code",
      "execution_count": null,
      "metadata": {
        "id": "LjY75GoYUCB8",
        "colab": {
          "base_uri": "https://localhost:8080/",
          "height": 172,
          "referenced_widgets": [
            "2b28769da39747329d9d0421ce02d203",
            "da1d282d04f045298d870e1d424eb450",
            "26962a9e78c640c7b940190d95ced568",
            "b5c73d856bec41beb6010fe61cae322c",
            "3ef82b38600145d3a94bade8a7270902",
            "c2cfa1fadf2f47fbb8b0b6d65f87229f",
            "cd7282e3aad8423aae707efaefd093ce",
            "b8df7d511a7d4f19a7013e51a7d9281b",
            "f734d18ac1be49bc8cd3eff3fc6ebff0",
            "ee27ee6cecbf4e95a618ae6d0c8bc237",
            "bda131810af545a1893ae8d3deac2a7a",
            "ebcea539690341db80b8fb0b05f42047",
            "fb78e5628dc5463ba84861e17ce6f199",
            "cd5e27f945ad4910b386830430da5731",
            "f2564491cf874d778e2447a1f55d2421",
            "e377c26339b14c2c87d7d6fb5520c35d",
            "c4e2f9b377fc40b0aa20bbac96e6f54c",
            "ad7536e956cf4eb78f2d4457025e8d14",
            "34ae0b94354d4fcd914fc2f54b2ab47c",
            "27cdadbcccbc44af933adbe3dd45a5b3",
            "34c1cb3717714b24824198e93cf3246f",
            "fe890a1e65754936ad129c4753ebfba8"
          ]
        },
        "outputId": "c9b103ad-67b9-42df-95a9-77bef856eae3"
      },
      "outputs": [
        {
          "output_type": "display_data",
          "data": {
            "text/plain": [
              "Unsloth: Standardizing formats (num_proc=2):   0%|          | 0/4 [00:00<?, ? examples/s]"
            ],
            "application/vnd.jupyter.widget-view+json": {
              "version_major": 2,
              "version_minor": 0,
              "model_id": "2b28769da39747329d9d0421ce02d203"
            }
          },
          "metadata": {}
        },
        {
          "output_type": "stream",
          "name": "stderr",
          "text": [
            "/usr/local/lib/python3.11/dist-packages/datasets/table.py:1395: FutureWarning: promote has been superseded by promote_options='default'.\n",
            "  \n",
            "/usr/local/lib/python3.11/dist-packages/datasets/table.py:1421: FutureWarning: promote has been superseded by promote_options='default'.\n",
            "  ) -> tuple[list[list[TableBlock]], list[list[TableBlock]]]:\n"
          ]
        },
        {
          "output_type": "display_data",
          "data": {
            "text/plain": [
              "Map:   0%|          | 0/4 [00:00<?, ? examples/s]"
            ],
            "application/vnd.jupyter.widget-view+json": {
              "version_major": 2,
              "version_minor": 0,
              "model_id": "ebcea539690341db80b8fb0b05f42047"
            }
          },
          "metadata": {}
        }
      ],
      "source": [
        "from unsloth.chat_templates import get_chat_template\n",
        "from unsloth.chat_templates import standardize_sharegpt\n",
        "\n",
        "\n",
        "tokenizer = get_chat_template(\n",
        "    tokenizer,\n",
        "    chat_template = \"llama-3.1\",\n",
        ")\n",
        "\n",
        "def formatting_prompts_func(examples):\n",
        "    convos = examples[\"conversations\"]\n",
        "    texts = [tokenizer.apply_chat_template(convo, tokenize = False, add_generation_prompt = False) for convo in convos]\n",
        "    return { \"text\" : texts, }\n",
        "\n",
        "dataset = standardize_sharegpt(run_load_training_dataset())\n",
        "dataset = dataset.map(formatting_prompts_func, batched = True)\n"
      ]
    },
    {
      "cell_type": "markdown",
      "source": [
        "We now use `standardize_sharegpt` to convert ShareGPT style datasets into HuggingFace's generic format. This changes the dataset from looking like:\n",
        "```\n",
        "{\"from\": \"system\", \"value\": \"You are an assistant\"}\n",
        "{\"from\": \"human\", \"value\": \"What is 2+2?\"}\n",
        "{\"from\": \"gpt\", \"value\": \"It's 4.\"}\n",
        "```\n",
        "to\n",
        "```\n",
        "{\"role\": \"system\", \"content\": \"You are an assistant\"}\n",
        "{\"role\": \"user\", \"content\": \"What is 2+2?\"}\n",
        "{\"role\": \"assistant\", \"content\": \"It's 4.\"}\n",
        "```"
      ],
      "metadata": {
        "id": "K9CBpiISFa6C"
      }
    },
    {
      "cell_type": "code",
      "source": [
        "from unsloth.chat_templates import standardize_sharegpt\n",
        "dataset = standardize_sharegpt(dataset)\n",
        "dataset = dataset.map(formatting_prompts_func, batched = True,)"
      ],
      "metadata": {
        "id": "oPXzJZzHEgXe",
        "colab": {
          "base_uri": "https://localhost:8080/",
          "height": 81,
          "referenced_widgets": [
            "4e0aed339e8144438c218c4105736b18",
            "7b0224b7b3d2427aae948966b6cd7259",
            "7e8c61630e6149209598dd4acd77e65f",
            "4667464be2fe4aed94e10cf92185bbeb",
            "4e8a21fa6a9d44e1a31733772316fe96",
            "a956db78fce74cdcb3fe2e424605898d",
            "2271850e410243d88edc3c39797e349b",
            "f7530ae08fc84892a96acea99ddebd4c",
            "0fa6a0e3a80e498da694856f2f5fb5b4",
            "5bc7fcc9f247434da6c82840a078c812",
            "40f1beb579244c1e84d96d0fe1ac2111",
            "9fda3a113d384626b394034ad9d65450",
            "d2b562b422454e529c7467706cff32b1",
            "ecb8ba85cb8740e194495ca05767ddba",
            "f5a77f05b44740308b619be4b755739e",
            "2fbfc171c3044f328f9a47b5b279d2c6",
            "5b25ce20145d40e296a991589084df26",
            "b0ea6d95ee624b908c27b9a886a144f2",
            "e8a55704030b4268bddae25880200836",
            "ce4d8da0b1204138b387f0bff52a355d",
            "9e73c6aa52e840b8bc927348d3918cb7",
            "2c64b9705d7f49f18231437cf194ef91"
          ]
        },
        "outputId": "a7833dbd-a8d3-4f7c-c757-913310c36662"
      },
      "execution_count": null,
      "outputs": [
        {
          "output_type": "display_data",
          "data": {
            "text/plain": [
              "Standardizing format:   0%|          | 0/100000 [00:00<?, ? examples/s]"
            ],
            "application/vnd.jupyter.widget-view+json": {
              "version_major": 2,
              "version_minor": 0,
              "model_id": "4e0aed339e8144438c218c4105736b18"
            }
          },
          "metadata": {}
        },
        {
          "output_type": "display_data",
          "data": {
            "text/plain": [
              "Map:   0%|          | 0/100000 [00:00<?, ? examples/s]"
            ],
            "application/vnd.jupyter.widget-view+json": {
              "version_major": 2,
              "version_minor": 0,
              "model_id": "9fda3a113d384626b394034ad9d65450"
            }
          },
          "metadata": {}
        }
      ]
    },
    {
      "cell_type": "markdown",
      "source": [
        "We look at how the conversations are structured for item 5:"
      ],
      "metadata": {
        "id": "ndDUB23CGAC5"
      }
    },
    {
      "cell_type": "code",
      "source": [
        "dataset[5][\"conversations\"]"
      ],
      "metadata": {
        "id": "gGFzmplrEy9I",
        "colab": {
          "base_uri": "https://localhost:8080/"
        },
        "outputId": "b545f960-8b27-4375-f11c-094e4b835782"
      },
      "execution_count": null,
      "outputs": [
        {
          "output_type": "execute_result",
          "data": {
            "text/plain": [
              "[{'content': 'How do astronomers determine the original wavelength of light emitted by a celestial body at rest, which is necessary for measuring its speed using the Doppler effect?',\n",
              "  'role': 'user'},\n",
              " {'content': 'Astronomers make use of the unique spectral fingerprints of elements found in stars. These elements emit and absorb light at specific, known wavelengths, forming an absorption spectrum. By analyzing the light received from distant stars and comparing it to the laboratory-measured spectra of these elements, astronomers can identify the shifts in these wavelengths due to the Doppler effect. The observed shift tells them the extent to which the light has been redshifted or blueshifted, thereby allowing them to calculate the speed of the star along the line of sight relative to Earth.',\n",
              "  'role': 'assistant'}]"
            ]
          },
          "metadata": {},
          "execution_count": 6
        }
      ]
    },
    {
      "cell_type": "markdown",
      "source": [
        "And we see how the chat template transformed these conversations.\n",
        "\n",
        "**[Notice]** Llama 3.1 Instruct's default chat template default adds `\"Cutting Knowledge Date: December 2023\\nToday Date: 26 July 2024\"`, so do not be alarmed!"
      ],
      "metadata": {
        "id": "GfzTdMtvGE6w"
      }
    },
    {
      "cell_type": "code",
      "source": [
        "dataset[5][\"text\"]"
      ],
      "metadata": {
        "id": "vhXv0xFMGNKE",
        "colab": {
          "base_uri": "https://localhost:8080/",
          "height": 175
        },
        "outputId": "fefce9af-d2ec-49a5-e2de-71d4129baaa3"
      },
      "execution_count": null,
      "outputs": [
        {
          "output_type": "execute_result",
          "data": {
            "text/plain": [
              "'<|begin_of_text|><|start_header_id|>system<|end_header_id|>\\n\\nCutting Knowledge Date: December 2023\\nToday Date: 26 July 2024\\n\\n<|eot_id|><|start_header_id|>user<|end_header_id|>\\n\\nHow do astronomers determine the original wavelength of light emitted by a celestial body at rest, which is necessary for measuring its speed using the Doppler effect?<|eot_id|><|start_header_id|>assistant<|end_header_id|>\\n\\nAstronomers make use of the unique spectral fingerprints of elements found in stars. These elements emit and absorb light at specific, known wavelengths, forming an absorption spectrum. By analyzing the light received from distant stars and comparing it to the laboratory-measured spectra of these elements, astronomers can identify the shifts in these wavelengths due to the Doppler effect. The observed shift tells them the extent to which the light has been redshifted or blueshifted, thereby allowing them to calculate the speed of the star along the line of sight relative to Earth.<|eot_id|>'"
            ],
            "application/vnd.google.colaboratory.intrinsic+json": {
              "type": "string"
            }
          },
          "metadata": {},
          "execution_count": 7
        }
      ]
    },
    {
      "cell_type": "markdown",
      "metadata": {
        "id": "idAEIeSQ3xdS"
      },
      "source": [
        "<a name=\"Train\"></a>\n",
        "### Train the model\n",
        "Now let's use Huggingface TRL's `SFTTrainer`! More docs here: [TRL SFT docs](https://huggingface.co/docs/trl/sft_trainer). We do 60 steps to speed things up, but you can set `num_train_epochs=1` for a full run, and turn off `max_steps=None`. We also support TRL's `DPOTrainer`!"
      ]
    },
    {
      "cell_type": "code",
      "execution_count": null,
      "metadata": {
        "id": "95_Nn-89DhsL",
        "colab": {
          "base_uri": "https://localhost:8080/",
          "height": 49,
          "referenced_widgets": [
            "67883cfac66d4f6db24207f105d9200e",
            "18ed79f0965d4236bc7e705de02181ef",
            "b7eb082dfff7459eb4eb3c5be12241d1",
            "35f198fef3364a3083ce15e0400a9790",
            "5d660984b58840ae89d7c19c27ed451b",
            "3e21292d7d6642a99e947ae9e94e330a",
            "4b06ec8492074f89a196ea5ae0c64716",
            "c9b3f72f7c3649a9b7f08c0adecec349",
            "ca2f3a545ddf4c3da06d4b955eb84ec5",
            "d0212ccdfaaa4dc2bc01db7291ddfb3d",
            "1d661a00a2064c67990176ea71b523d8"
          ]
        },
        "outputId": "f89b0bf0-a0e1-446d-a37c-68dd3dfa0390"
      },
      "outputs": [
        {
          "output_type": "display_data",
          "data": {
            "text/plain": [
              "Map (num_proc=2):   0%|          | 0/100000 [00:00<?, ? examples/s]"
            ],
            "application/vnd.jupyter.widget-view+json": {
              "version_major": 2,
              "version_minor": 0,
              "model_id": "67883cfac66d4f6db24207f105d9200e"
            }
          },
          "metadata": {}
        }
      ],
      "source": [
        "from trl import SFTTrainer\n",
        "from transformers import TrainingArguments, DataCollatorForSeq2Seq\n",
        "from unsloth import is_bfloat16_supported\n",
        "\n",
        "trainer = SFTTrainer(\n",
        "    model = model,\n",
        "    tokenizer = tokenizer,\n",
        "    train_dataset = dataset,\n",
        "    dataset_text_field = \"text\",\n",
        "    max_seq_length = max_seq_length,\n",
        "    data_collator = DataCollatorForSeq2Seq(tokenizer = tokenizer),\n",
        "    dataset_num_proc = 2,\n",
        "    packing = False, # Can make training 5x faster for short sequences.\n",
        "    args = TrainingArguments(\n",
        "        per_device_train_batch_size = 2,\n",
        "        gradient_accumulation_steps = 4,\n",
        "        warmup_steps = 5,\n",
        "        # num_train_epochs = 1, # Set this for 1 full training run.\n",
        "        max_steps = 60,\n",
        "        learning_rate = 2e-4,\n",
        "        fp16 = not is_bfloat16_supported(),\n",
        "        bf16 = is_bfloat16_supported(),\n",
        "        logging_steps = 1,\n",
        "        optim = \"adamw_8bit\",\n",
        "        weight_decay = 0.01,\n",
        "        lr_scheduler_type = \"linear\",\n",
        "        seed = 3407,\n",
        "        output_dir = \"outputs\",\n",
        "        report_to = \"none\", # Use this for WandB etc\n",
        "    ),\n",
        ")"
      ]
    },
    {
      "cell_type": "markdown",
      "source": [
        "We also use Unsloth's `train_on_completions` method to only train on the assistant outputs and ignore the loss on the user's inputs."
      ],
      "metadata": {
        "id": "C_sGp5XlG6dq"
      }
    },
    {
      "cell_type": "code",
      "source": [
        "from unsloth.chat_templates import train_on_responses_only\n",
        "trainer = train_on_responses_only(\n",
        "    trainer,\n",
        "    instruction_part = \"<|start_header_id|>user<|end_header_id|>\\n\\n\",\n",
        "    response_part = \"<|start_header_id|>assistant<|end_header_id|>\\n\\n\",\n",
        ")"
      ],
      "metadata": {
        "id": "juQiExuBG5Bt",
        "colab": {
          "base_uri": "https://localhost:8080/",
          "height": 49,
          "referenced_widgets": [
            "2122845853e34d19a7b0904ef155b66a",
            "bbefcff11da74e4593b97c343519f858",
            "6f7255e217f9402194d3eef684858841",
            "5dd24f135a064f2f80cad13723cf2349",
            "b04c141f33cc4e1bab9ab6b7c5c1679b",
            "6b1c673d38974f588dfe4993f3556095",
            "4f5029112183479999fa9fe50621f7f6",
            "869969a6440a4ab488ce2d3f1b4c5e70",
            "bb9771bd9b004f3491b92c4782cecae8",
            "015626fcc7f24332adcc007d30749c04",
            "6c29f682bfe74b0b985aa4708a6c3c28"
          ]
        },
        "outputId": "166bb302-d554-4a9c-f1c9-5ec7b10be0e2"
      },
      "execution_count": null,
      "outputs": [
        {
          "output_type": "display_data",
          "data": {
            "text/plain": [
              "Map:   0%|          | 0/100000 [00:00<?, ? examples/s]"
            ],
            "application/vnd.jupyter.widget-view+json": {
              "version_major": 2,
              "version_minor": 0,
              "model_id": "2122845853e34d19a7b0904ef155b66a"
            }
          },
          "metadata": {}
        }
      ]
    },
    {
      "cell_type": "markdown",
      "source": [
        "We verify masking is actually done:"
      ],
      "metadata": {
        "id": "Dv1NBUozV78l"
      }
    },
    {
      "cell_type": "code",
      "source": [
        "tokenizer.decode(trainer.train_dataset[5][\"input_ids\"])"
      ],
      "metadata": {
        "id": "LtsMVtlkUhja",
        "colab": {
          "base_uri": "https://localhost:8080/",
          "height": 175
        },
        "outputId": "db5357d2-6403-48a5-ad51-af4858fda825"
      },
      "execution_count": null,
      "outputs": [
        {
          "output_type": "execute_result",
          "data": {
            "text/plain": [
              "'<|begin_of_text|><|start_header_id|>system<|end_header_id|>\\n\\nCutting Knowledge Date: December 2023\\nToday Date: 26 July 2024\\n\\n<|eot_id|><|start_header_id|>user<|end_header_id|>\\n\\nHow do astronomers determine the original wavelength of light emitted by a celestial body at rest, which is necessary for measuring its speed using the Doppler effect?<|eot_id|><|start_header_id|>assistant<|end_header_id|>\\n\\nAstronomers make use of the unique spectral fingerprints of elements found in stars. These elements emit and absorb light at specific, known wavelengths, forming an absorption spectrum. By analyzing the light received from distant stars and comparing it to the laboratory-measured spectra of these elements, astronomers can identify the shifts in these wavelengths due to the Doppler effect. The observed shift tells them the extent to which the light has been redshifted or blueshifted, thereby allowing them to calculate the speed of the star along the line of sight relative to Earth.<|eot_id|>'"
            ],
            "application/vnd.google.colaboratory.intrinsic+json": {
              "type": "string"
            }
          },
          "metadata": {},
          "execution_count": 10
        }
      ]
    },
    {
      "cell_type": "code",
      "source": [
        "space = tokenizer(\" \", add_special_tokens = False).input_ids[0]\n",
        "tokenizer.decode([space if x == -100 else x for x in trainer.train_dataset[5][\"labels\"]])"
      ],
      "metadata": {
        "id": "_rD6fl8EUxnG",
        "colab": {
          "base_uri": "https://localhost:8080/",
          "height": 123
        },
        "outputId": "6e01af27-9627-4408-e6d7-ffd628ee8f48"
      },
      "execution_count": null,
      "outputs": [
        {
          "output_type": "execute_result",
          "data": {
            "text/plain": [
              "'                                                                \\n\\nAstronomers make use of the unique spectral fingerprints of elements found in stars. These elements emit and absorb light at specific, known wavelengths, forming an absorption spectrum. By analyzing the light received from distant stars and comparing it to the laboratory-measured spectra of these elements, astronomers can identify the shifts in these wavelengths due to the Doppler effect. The observed shift tells them the extent to which the light has been redshifted or blueshifted, thereby allowing them to calculate the speed of the star along the line of sight relative to Earth.<|eot_id|>'"
            ],
            "application/vnd.google.colaboratory.intrinsic+json": {
              "type": "string"
            }
          },
          "metadata": {},
          "execution_count": 11
        }
      ]
    },
    {
      "cell_type": "markdown",
      "source": [
        "We can see the System and Instruction prompts are successfully masked!"
      ],
      "metadata": {
        "id": "3enWUM0jV-jV"
      }
    },
    {
      "cell_type": "code",
      "execution_count": null,
      "metadata": {
        "cellView": "form",
        "id": "2ejIt2xSNKKp",
        "colab": {
          "base_uri": "https://localhost:8080/"
        },
        "outputId": "028bd4f6-61a6-4de2-8615-3004d09a067a"
      },
      "outputs": [
        {
          "output_type": "stream",
          "name": "stdout",
          "text": [
            "GPU = Tesla T4. Max memory = 14.741 GB.\n",
            "2.66 GB of memory reserved.\n"
          ]
        }
      ],
      "source": [
        "#@title Show current memory stats\n",
        "gpu_stats = torch.cuda.get_device_properties(0)\n",
        "start_gpu_memory = round(torch.cuda.max_memory_reserved() / 1024 / 1024 / 1024, 3)\n",
        "max_memory = round(gpu_stats.total_memory / 1024 / 1024 / 1024, 3)\n",
        "print(f\"GPU = {gpu_stats.name}. Max memory = {max_memory} GB.\")\n",
        "print(f\"{start_gpu_memory} GB of memory reserved.\")"
      ]
    },
    {
      "cell_type": "code",
      "execution_count": null,
      "metadata": {
        "id": "yqxqAZ7KJ4oL",
        "colab": {
          "base_uri": "https://localhost:8080/",
          "height": 320
        },
        "outputId": "b8d72a51-e6f7-4607-f9f4-43714e1d491a"
      },
      "outputs": [
        {
          "output_type": "stream",
          "name": "stderr",
          "text": [
            "==((====))==  Unsloth - 2x faster free finetuning | Num GPUs = 1\n",
            "   \\\\   /|    Num examples = 100,000 | Num Epochs = 1\n",
            "O^O/ \\_/ \\    Batch size per device = 2 | Gradient Accumulation steps = 4\n",
            "\\        /    Total batch size = 8 | Total steps = 60\n",
            " \"-____-\"     Number of trainable parameters = 24,313,856\n"
          ]
        },
        {
          "output_type": "display_data",
          "data": {
            "text/plain": [
              "<IPython.core.display.HTML object>"
            ],
            "text/html": [
              "\n",
              "    <div>\n",
              "      \n",
              "      <progress value='7' max='60' style='width:300px; height:20px; vertical-align: middle;'></progress>\n",
              "      [ 7/60 00:36 < 06:22, 0.14 it/s, Epoch 0.00/1]\n",
              "    </div>\n",
              "    <table border=\"1\" class=\"dataframe\">\n",
              "  <thead>\n",
              " <tr style=\"text-align: left;\">\n",
              "      <th>Step</th>\n",
              "      <th>Training Loss</th>\n",
              "    </tr>\n",
              "  </thead>\n",
              "  <tbody>\n",
              "    <tr>\n",
              "      <td>1</td>\n",
              "      <td>0.776500</td>\n",
              "    </tr>\n",
              "    <tr>\n",
              "      <td>2</td>\n",
              "      <td>0.828400</td>\n",
              "    </tr>\n",
              "    <tr>\n",
              "      <td>3</td>\n",
              "      <td>1.067900</td>\n",
              "    </tr>\n",
              "    <tr>\n",
              "      <td>4</td>\n",
              "      <td>0.886500</td>\n",
              "    </tr>\n",
              "    <tr>\n",
              "      <td>5</td>\n",
              "      <td>0.752500</td>\n",
              "    </tr>\n",
              "  </tbody>\n",
              "</table><p>"
            ]
          },
          "metadata": {}
        }
      ],
      "source": [
        "trainer_stats = trainer.train()"
      ]
    },
    {
      "cell_type": "code",
      "execution_count": null,
      "metadata": {
        "cellView": "form",
        "id": "pCqnaKmlO1U9"
      },
      "outputs": [],
      "source": [
        "#@title Show final memory and time stats\n",
        "used_memory = round(torch.cuda.max_memory_reserved() / 1024 / 1024 / 1024, 3)\n",
        "used_memory_for_lora = round(used_memory - start_gpu_memory, 3)\n",
        "used_percentage = round(used_memory         /max_memory*100, 3)\n",
        "lora_percentage = round(used_memory_for_lora/max_memory*100, 3)\n",
        "print(f\"{trainer_stats.metrics['train_runtime']} seconds used for training.\")\n",
        "print(f\"{round(trainer_stats.metrics['train_runtime']/60, 2)} minutes used for training.\")\n",
        "print(f\"Peak reserved memory = {used_memory} GB.\")\n",
        "print(f\"Peak reserved memory for training = {used_memory_for_lora} GB.\")\n",
        "print(f\"Peak reserved memory % of max memory = {used_percentage} %.\")\n",
        "print(f\"Peak reserved memory for training % of max memory = {lora_percentage} %.\")"
      ]
    },
    {
      "cell_type": "markdown",
      "metadata": {
        "id": "ekOmTR1hSNcr"
      },
      "source": [
        "<a name=\"Inference\"></a>\n",
        "### Inference\n",
        "Let's run the model! You can change the instruction and input - leave the output blank!\n",
        "\n",
        "**[NEW] Try 2x faster inference in a free Colab for Llama-3.1 8b Instruct [here](https://colab.research.google.com/drive/1T-YBVfnphoVc8E2E854qF3jdia2Ll2W2?usp=sharing)**\n",
        "\n",
        "We use `min_p = 0.1` and `temperature = 1.5`. Read this [Tweet](https://x.com/menhguin/status/1826132708508213629) for more information on why."
      ]
    },
    {
      "cell_type": "code",
      "execution_count": null,
      "metadata": {
        "id": "kR3gIAX-SM2q"
      },
      "outputs": [],
      "source": [
        "from unsloth.chat_templates import get_chat_template\n",
        "\n",
        "tokenizer = get_chat_template(\n",
        "    tokenizer,\n",
        "    chat_template = \"llama-3.1\",\n",
        ")\n",
        "FastLanguageModel.for_inference(model) # Enable native 2x faster inference\n",
        "\n",
        "messages = [\n",
        "    {\"role\": \"user\", \"content\": \"Continue the fibonnaci sequence: 1, 1, 2, 3, 5, 8,\"},\n",
        "]\n",
        "inputs = tokenizer.apply_chat_template(\n",
        "    messages,\n",
        "    tokenize = True,\n",
        "    add_generation_prompt = True, # Must add for generation\n",
        "    return_tensors = \"pt\",\n",
        ").to(\"cuda\")\n",
        "\n",
        "outputs = model.generate(input_ids = inputs, max_new_tokens = 64, use_cache = True,\n",
        "                         temperature = 1.5, min_p = 0.1)\n",
        "tokenizer.batch_decode(outputs)"
      ]
    },
    {
      "cell_type": "markdown",
      "metadata": {
        "id": "CrSvZObor0lY"
      },
      "source": [
        " You can also use a `TextStreamer` for continuous inference - so you can see the generation token by token, instead of waiting the whole time!"
      ]
    },
    {
      "cell_type": "code",
      "execution_count": null,
      "metadata": {
        "id": "e2pEuRb1r2Vg"
      },
      "outputs": [],
      "source": [
        "FastLanguageModel.for_inference(model) # Enable native 2x faster inference\n",
        "\n",
        "messages = [\n",
        "    {\"role\": \"user\", \"content\": \"Continue the fibonnaci sequence: 1, 1, 2, 3, 5, 8,\"},\n",
        "]\n",
        "inputs = tokenizer.apply_chat_template(\n",
        "    messages,\n",
        "    tokenize = True,\n",
        "    add_generation_prompt = True, # Must add for generation\n",
        "    return_tensors = \"pt\",\n",
        ").to(\"cuda\")\n",
        "\n",
        "from transformers import TextStreamer\n",
        "text_streamer = TextStreamer(tokenizer, skip_prompt = True)\n",
        "_ = model.generate(input_ids = inputs, streamer = text_streamer, max_new_tokens = 128,\n",
        "                   use_cache = True, temperature = 1.5, min_p = 0.1)"
      ]
    },
    {
      "cell_type": "markdown",
      "metadata": {
        "id": "uMuVrWbjAzhc"
      },
      "source": [
        "<a name=\"Save\"></a>\n",
        "### Saving, loading finetuned models\n",
        "To save the final model as LoRA adapters, either use Huggingface's `push_to_hub` for an online save or `save_pretrained` for a local save.\n",
        "\n",
        "**[NOTE]** This ONLY saves the LoRA adapters, and not the full model. To save to 16bit or GGUF, scroll down!"
      ]
    },
    {
      "cell_type": "code",
      "execution_count": null,
      "metadata": {
        "id": "upcOlWe7A1vc"
      },
      "outputs": [],
      "source": [
        "model.save_pretrained(\"lora_model\") # Local saving\n",
        "tokenizer.save_pretrained(\"lora_model\")\n",
        "# model.push_to_hub(\"your_name/lora_model\", token = \"...\") # Online saving\n",
        "# tokenizer.push_to_hub(\"your_name/lora_model\", token = \"...\") # Online saving"
      ]
    },
    {
      "cell_type": "markdown",
      "metadata": {
        "id": "AEEcJ4qfC7Lp"
      },
      "source": [
        "Now if you want to load the LoRA adapters we just saved for inference, set `False` to `True`:"
      ]
    },
    {
      "cell_type": "code",
      "execution_count": null,
      "metadata": {
        "id": "MKX_XKs_BNZR"
      },
      "outputs": [],
      "source": [
        "if False:\n",
        "    from unsloth import FastLanguageModel\n",
        "    model, tokenizer = FastLanguageModel.from_pretrained(\n",
        "        model_name = \"lora_model\", # YOUR MODEL YOU USED FOR TRAINING\n",
        "        max_seq_length = max_seq_length,\n",
        "        dtype = dtype,\n",
        "        load_in_4bit = load_in_4bit,\n",
        "    )\n",
        "    FastLanguageModel.for_inference(model) # Enable native 2x faster inference\n",
        "\n",
        "messages = [\n",
        "    {\"role\": \"user\", \"content\": \"Describe a tall tower in the capital of France.\"},\n",
        "]\n",
        "inputs = tokenizer.apply_chat_template(\n",
        "    messages,\n",
        "    tokenize = True,\n",
        "    add_generation_prompt = True, # Must add for generation\n",
        "    return_tensors = \"pt\",\n",
        ").to(\"cuda\")\n",
        "\n",
        "from transformers import TextStreamer\n",
        "text_streamer = TextStreamer(tokenizer, skip_prompt = True)\n",
        "_ = model.generate(input_ids = inputs, streamer = text_streamer, max_new_tokens = 128,\n",
        "                   use_cache = True, temperature = 1.5, min_p = 0.1)"
      ]
    },
    {
      "cell_type": "markdown",
      "metadata": {
        "id": "QQMjaNrjsU5_"
      },
      "source": [
        "You can also use Hugging Face's `AutoModelForPeftCausalLM`. Only use this if you do not have `unsloth` installed. It can be hopelessly slow, since `4bit` model downloading is not supported, and Unsloth's **inference is 2x faster**."
      ]
    },
    {
      "cell_type": "code",
      "execution_count": null,
      "metadata": {
        "id": "yFfaXG0WsQuE"
      },
      "outputs": [],
      "source": [
        "if False:\n",
        "    # I highly do NOT suggest - use Unsloth if possible\n",
        "    from peft import AutoPeftModelForCausalLM\n",
        "    from transformers import AutoTokenizer\n",
        "    model = AutoPeftModelForCausalLM.from_pretrained(\n",
        "        \"lora_model\", # YOUR MODEL YOU USED FOR TRAINING\n",
        "        load_in_4bit = load_in_4bit,\n",
        "    )\n",
        "    tokenizer = AutoTokenizer.from_pretrained(\"lora_model\")"
      ]
    },
    {
      "cell_type": "markdown",
      "metadata": {
        "id": "f422JgM9sdVT"
      },
      "source": [
        "### Saving to float16 for VLLM\n",
        "\n",
        "We also support saving to `float16` directly. Select `merged_16bit` for float16 or `merged_4bit` for int4. We also allow `lora` adapters as a fallback. Use `push_to_hub_merged` to upload to your Hugging Face account! You can go to https://huggingface.co/settings/tokens for your personal tokens."
      ]
    },
    {
      "cell_type": "code",
      "execution_count": null,
      "metadata": {
        "id": "iHjt_SMYsd3P"
      },
      "outputs": [],
      "source": [
        "# Merge to 16bit\n",
        "if False: model.save_pretrained_merged(\"model\", tokenizer, save_method = \"merged_16bit\",)\n",
        "if False: model.push_to_hub_merged(\"hf/model\", tokenizer, save_method = \"merged_16bit\", token = \"\")\n",
        "\n",
        "# Merge to 4bit\n",
        "if False: model.save_pretrained_merged(\"model\", tokenizer, save_method = \"merged_4bit\",)\n",
        "if False: model.push_to_hub_merged(\"hf/model\", tokenizer, save_method = \"merged_4bit\", token = \"\")\n",
        "\n",
        "# Just LoRA adapters\n",
        "if False: model.save_pretrained_merged(\"model\", tokenizer, save_method = \"lora\",)\n",
        "if False: model.push_to_hub_merged(\"hf/model\", tokenizer, save_method = \"lora\", token = \"\")"
      ]
    },
    {
      "cell_type": "markdown",
      "metadata": {
        "id": "TCv4vXHd61i7"
      },
      "source": [
        "### GGUF / llama.cpp Conversion\n",
        "To save to `GGUF` / `llama.cpp`, we support it natively now! We clone `llama.cpp` and we default save it to `q8_0`. We allow all methods like `q4_k_m`. Use `save_pretrained_gguf` for local saving and `push_to_hub_gguf` for uploading to HF.\n",
        "\n",
        "Some supported quant methods (full list on our [Wiki page](https://github.com/unslothai/unsloth/wiki#gguf-quantization-options)):\n",
        "* `q8_0` - Fast conversion. High resource use, but generally acceptable.\n",
        "* `q4_k_m` - Recommended. Uses Q6_K for half of the attention.wv and feed_forward.w2 tensors, else Q4_K.\n",
        "* `q5_k_m` - Recommended. Uses Q6_K for half of the attention.wv and feed_forward.w2 tensors, else Q5_K.\n",
        "\n",
        "[**NEW**] To finetune and auto export to Ollama, try our [Ollama notebook](https://colab.research.google.com/drive/1WZDi7APtQ9VsvOrQSSC5DDtxq159j8iZ?usp=sharing)"
      ]
    },
    {
      "cell_type": "code",
      "execution_count": null,
      "metadata": {
        "id": "FqfebeAdT073"
      },
      "outputs": [],
      "source": [
        "# Save to 8bit Q8_0\n",
        "if False: model.save_pretrained_gguf(\"model\", tokenizer,)\n",
        "# Remember to go to https://huggingface.co/settings/tokens for a token!\n",
        "# And change hf to your username!\n",
        "if False: model.push_to_hub_gguf(\"hf/model\", tokenizer, token = \"\")\n",
        "\n",
        "# Save to 16bit GGUF\n",
        "if False: model.save_pretrained_gguf(\"model\", tokenizer, quantization_method = \"f16\")\n",
        "if False: model.push_to_hub_gguf(\"hf/model\", tokenizer, quantization_method = \"f16\", token = \"\")\n",
        "\n",
        "# Save to q4_k_m GGUF\n",
        "if False: model.save_pretrained_gguf(\"model\", tokenizer, quantization_method = \"q4_k_m\")\n",
        "if False: model.push_to_hub_gguf(\"hf/model\", tokenizer, quantization_method = \"q4_k_m\", token = \"\")\n",
        "\n",
        "# Save to multiple GGUF options - much faster if you want multiple!\n",
        "if False:\n",
        "    model.push_to_hub_gguf(\n",
        "        \"hf/model\", # Change hf to your username!\n",
        "        tokenizer,\n",
        "        quantization_method = [\"q4_k_m\", \"q8_0\", \"q5_k_m\",],\n",
        "        token = \"\", # Get a token at https://huggingface.co/settings/tokens\n",
        "    )"
      ]
    },
    {
      "cell_type": "markdown",
      "metadata": {
        "id": "bDp0zNpwe6U_"
      },
      "source": [
        "Now, use the `model-unsloth.gguf` file or `model-unsloth-Q4_K_M.gguf` file in `llama.cpp` or a UI based system like `GPT4All`. You can install GPT4All by going [here](https://gpt4all.io/index.html).\n",
        "\n",
        "**[NEW] Try 2x faster inference in a free Colab for Llama-3.1 8b Instruct [here](https://colab.research.google.com/drive/1T-YBVfnphoVc8E2E854qF3jdia2Ll2W2?usp=sharing)**"
      ]
    },
    {
      "cell_type": "markdown",
      "metadata": {
        "id": "Zt9CHJqO6p30"
      },
      "source": [
        "And we're done! If you have any questions on Unsloth, we have a [Discord](https://discord.gg/u54VK8m8tk) channel! If you find any bugs or want to keep updated with the latest LLM stuff, or need help, join projects etc, feel free to join our Discord!\n",
        "\n",
        "Some other links:\n",
        "1. Zephyr DPO 2x faster [free Colab](https://colab.research.google.com/drive/15vttTpzzVXv_tJwEk-hIcQ0S9FcEWvwP?usp=sharing)\n",
        "2. Llama 7b 2x faster [free Colab](https://colab.research.google.com/drive/1lBzz5KeZJKXjvivbYvmGarix9Ao6Wxe5?usp=sharing)\n",
        "3. TinyLlama 4x faster full Alpaca 52K in 1 hour [free Colab](https://colab.research.google.com/drive/1AZghoNBQaMDgWJpi4RbffGM1h6raLUj9?usp=sharing)\n",
        "4. CodeLlama 34b 2x faster [A100 on Colab](https://colab.research.google.com/drive/1y7A0AxE3y8gdj4AVkl2aZX47Xu3P1wJT?usp=sharing)\n",
        "5. Mistral 7b [free Kaggle version](https://www.kaggle.com/code/danielhanchen/kaggle-mistral-7b-unsloth-notebook)\n",
        "6. We also did a [blog](https://huggingface.co/blog/unsloth-trl) with 🤗 HuggingFace, and we're in the TRL [docs](https://huggingface.co/docs/trl/main/en/sft_trainer#accelerate-fine-tuning-2x-using-unsloth)!\n",
        "7. `ChatML` for ShareGPT datasets, [conversational notebook](https://colab.research.google.com/drive/1Aau3lgPzeZKQ-98h69CCu1UJcvIBLmy2?usp=sharing)\n",
        "8. Text completions like novel writing [notebook](https://colab.research.google.com/drive/1ef-tab5bhkvWmBOObepl1WgJvfvSzn5Q?usp=sharing)\n",
        "9. [**NEW**] We make Phi-3 Medium / Mini **2x faster**! See our [Phi-3 Medium notebook](https://colab.research.google.com/drive/1hhdhBa1j_hsymiW9m-WzxQtgqTH_NHqi?usp=sharing)\n",
        "10. [**NEW**] We make Gemma-2 9b / 27b **2x faster**! See our [Gemma-2 9b notebook](https://colab.research.google.com/drive/1vIrqH5uYDQwsJ4-OO3DErvuv4pBgVwk4?usp=sharing)\n",
        "11. [**NEW**] To finetune and auto export to Ollama, try our [Ollama notebook](https://colab.research.google.com/drive/1WZDi7APtQ9VsvOrQSSC5DDtxq159j8iZ?usp=sharing)\n",
        "12. [**NEW**] We make Mistral NeMo 12B 2x faster and fit in under 12GB of VRAM! [Mistral NeMo notebook](https://colab.research.google.com/drive/17d3U-CAIwzmbDRqbZ9NnpHxCkmXB6LZ0?usp=sharing)\n",
        "\n",
        "<div class=\"align-center\">\n",
        "  <a href=\"https://github.com/unslothai/unsloth\"><img src=\"https://github.com/unslothai/unsloth/raw/main/images/unsloth%20new%20logo.png\" width=\"115\"></a>\n",
        "  <a href=\"https://discord.gg/u54VK8m8tk\"><img src=\"https://github.com/unslothai/unsloth/raw/main/images/Discord.png\" width=\"145\"></a>\n",
        "  <a href=\"https://ko-fi.com/unsloth\"><img src=\"https://github.com/unslothai/unsloth/raw/main/images/Kofi button.png\" width=\"145\"></a></a> Support our work if you can! Thanks!\n",
        "</div>"
      ]
    },
    {
      "cell_type": "code",
      "metadata": {
        "colab": {
          "base_uri": "https://localhost:8080/"
        },
        "id": "39ba130a",
        "outputId": "acfc919b-e98f-4e68-c736-aae0eef90ac0"
      },
      "source": [
        "file_path = \"valid_training_data.jsonl\"\n",
        "try:\n",
        "    with open(file_path, \"r\", encoding='utf-8') as file:\n",
        "        for i in range(20): # Display the first 20 lines\n",
        "            line = file.readline()\n",
        "            if not line:\n",
        "                break\n",
        "            print(f\"Line {i+1}: {line.strip()}\")\n",
        "except FileNotFoundError:\n",
        "    print(f\"Error: The file '{file_path}' was not found.\")\n",
        "except Exception as e:\n",
        "    print(f\"An error occurred: {e}\")"
      ],
      "execution_count": null,
      "outputs": [
        {
          "output_type": "stream",
          "name": "stdout",
          "text": [
            "Line 1: {\n",
            "Line 2: \"analysis_timestamp\": \"20250724_23:59:13\",\n",
            "Line 3: \"user_prompt\": \"Analyze the following email:\\n    <input_email>\\n    From: ivqrnai@pobox.com\\n    Subject: Re: svn commit: r619753 - in /spamassassin/trunk: lib/Mail/SpamAssassin/PerMsgStatus.pm lib/Mail/SpamAssassin/Util/RegistrarBoundaries.pm t/uri_text.t\\n\\n    Body:\\n    -------\\n    Would anyone object to removing .so from this list?  The .so TLD is  \\nbasically dead and we've found that lots of bogus domains like lib*.so  \\nare being caught by this.  Also sometimes you'll have spammers who are  \\nputting in gibberish or funny punctuation and you'll get sentences  \\nlike 'blah blah.So this is'.  It also occurs with a couple of other  \\ndomains but .so is by far the worst.\\n\\nFor more info on the .so domain you can read about it here: http://en.wikipedia.org/wiki/.so_%28domain_name%29\\n\\nMichael\\n\\nOn Feb 7, 2008, at 9:23 PM, wrzzpv@apache.org wrote:\\n\\n> Author: sidney\\n> Date: Thu Feb  7 19:22:58 2008\\n> New Revision: 619753\\n>\\n> URL: http://svn.apache.org/viewvc?rev=619753&view=rev\\n> Log:\\n> bug 5813: correct TLD lookup to match current ICANN list and add all  \\n> TLDs to regression tests\\n>\\n> Modified:\\n>    spamassassin/trunk/lib/Mail/SpamAssassin/PerMsgStatus.pm\\n>    spamassassin/trunk/lib/Mail/SpamAssassin/Util/ \\n> RegistrarBoundaries.pm\\n>    spamassassin/trunk/t/uri_text.t\\n>\\n> Modified: spamassassin/trunk/lib/Mail/SpamAssassin/PerMsgStatus.pm\\n> URL: http://svn.apache.org/viewvc/spamassassin/trunk/lib/Mail/SpamAssassin/PerMsgStatus.pm?rev=619753&r1=619752&r2=619753&view=diff\\n> = \\n> = \\n> = \\n> = \\n> = \\n> = \\n> = \\n> = \\n> ======================================================================\\n> --- spamassassin/trunk/lib/Mail/SpamAssassin/PerMsgStatus.pm  \\n> (original)\\n> +++ spamassassin/trunk/lib/Mail/SpamAssassin/PerMsgStatus.pm Thu  \\n> Feb  7 19:22:58 2008\\n> @@ -1665,17 +1665,17 @@\\n> # regexps for finding plain text non-scheme hostnames with valid TLDs.\\n>\\n> # the list from %VALID_TLDS in Util/RegistrarBoundaries.pm, as a\\n> -# Regexp::Optimize optimized regexp ;)  accurate as of 20050318\\n> +# Regexp::List optimized regexp ;)  accurate as of 20080208\\n> my $tldsRE = qr/\\n> -    (?=[a-wyz])\\n> -    (?:a(?:e(?:ro)?|r(?:pa)?|[cdfgilmnoqstuwzx])|b(?:iz?| \\n> [abdefghjmnorstvwyz])\\n> -      |c(?:o(?:m|op)?|[acdfghiklmnrsu])|d[ejkmoz]|e[ceghrst]| \\n> f[ijkmor]\\n> -      |g(?:[abdefghilmnpqrstuwy]|ov)|h[kmnrtu]|i(?:n(?:fo|t)?| \\n> [delmoqrst])\\n> -      |j[emop]|k[eghimnprwyz]|l[abcikrstuvy]\\n> -      |m(?:u(?:seum)?|[acdghkmnopqrstvwxyz]|i?l)|n(?:a(?:me)?|et?| \\n> [cfgilopruz])\\n> -      |o(?:m|rg)|p(?:ro?|[aefghklmnstwy])|r[eouw]| \\n> s[abcdeghijklmnortvyzu]\\n> -      |t[cdfghjklmnoprtvwz]|u[agkmsyz]|v[aceginu]|w[fs]|xxx|y[etu]| \\n> z[amw]|ed?u|qa\\n> -    )/ix;\\n> +  (?=[a-wyz])\\n> +  (?:a(?:e(?:ro)?|r(?:pa)?|s(?:ia)?|[cdfgilmnoqtuwxz])|b(?:iz?| \\n> [abdefghjmnorstvwyz])\\n> +    |c(?:at?|o(?:m|op)?|[cdfghiklmnruvxyz])|d[ejkmoz]|e(?:[cegrst]| \\n> d?u)|f[ijkmor]\\n> +    |g(?:[abdefghilmnpqrstuwy]|ov)|h[kmnrtu]|i(?:n(?:fo|t)?| \\n> [delmoqrst])\\n> +    |j(?:o(?:bs)?|[emp])|k[eghimnprwyz]|l[abcikrstuvy]\\n> +    |m(?:o(?:bi)?|u(?:seum)?|[acdeghkmnpqrstvwxyz]|i?l)| \\n> n(?:a(?:me)?|et?|[cfgilopruz])\\n> +    |o(?:m|rg)|p(?:ro?|[aefghklmnstwy])|r[eosuw]| \\n> s[abcdeghijklmnortuvyz]\\n> +    |t(?:r(?:avel)?|[cdfghjkmnoptvwz]|e?l)|u[agkmsyz]|v[aceginu]| \\n> w[fs]|y[etu]|z[amw]|qa\\n> +  )/ix;\\n>\\n> # knownscheme regexp looks for either a https?: or ftp: scheme, or  \\n> www\\\\\\\\d*\\\\\\\\. or ftp\\\\\\\\. prefix, i.e., likely to start a URL\\n> # schemeless regexp looks for a valid TLD at the end of what may be  \\n> a FQDN, followed by optional ., optional :portnum, optional / \\n> rest_of_uri\\n>\\n> Modified: spamassassin/trunk/lib/Mail/SpamAssassin/Util/ \\n> RegistrarBoundaries.pm\\n> URL: http://svn.apache.org/viewvc/spamassassin/trunk/lib/Mail/SpamAssassin/Util/RegistrarBoundaries.pm?rev=619753&r1=619752&r2=619753&view=diff\\n> = \\n> = \\n> = \\n> = \\n> = \\n> = \\n> = \\n> = \\n> ======================================================================\\n> --- spamassassin/trunk/lib/Mail/SpamAssassin/Util/ \\n> RegistrarBoundaries.pm (original)\\n> +++ spamassassin/trunk/lib/Mail/SpamAssassin/Util/ \\n> RegistrarBoundaries.pm Thu Feb  7 19:22:58 2008\\n> @@ -31,28 +31,22 @@\\n>\\n> # The list of currently-valid TLDs for the DNS system.\\n> #\\n> -# http://www.iana.org/cctld/cctld-whois.htm\\n> -# \\\"su\\\" Extra from http://www.iana.org/root-whois/\\n> -# http://www.iana.org/gtld/gtld.htm\\n> -# http://www.iana.org/arpa-dom/\\n> +# http://data.iana.org/TLD/tlds-alpha-by-domain.txt\\n> +# Version 2008020601, Last Updated Thu Feb  7 09:07:00 2008 UTC\\n> foreach (qw/\\n> -  ac ad ae af ag ai al am an ao aq ar as at au aw az ax ba bb bd be  \\n> bf bg bh bi\\n> -  bj bm bn bo br bs bt bv bw by bz ca cc cd cf cg ch ci ck cl cm cn  \\n> co cr cs cu\\n> -  cv cx cy cz de dj dk dm do dz ec ee eg eh er es et fi fj fk fm fo  \\n> fr ga gb gd\\n> -  ge gf gg gh gi gl gm gn gp gq gr gs gt gu gw gy hk hm hn hr ht hu  \\n> id ie il im\\n> -  in io iq ir is it je jm jo jp ke kg kh ki km kn kp kr kw ky kz la  \\n> lb lc li lk\\n> -  lr ls lt lu lv ly ma mc md mg mh mk ml mm mn mo mp mq mr ms mt mu  \\n> mv mw mx my\\n> -  mz na nc ne nf ng ni nl no np nr nu nz om pa pe pf pg ph pk pl pm  \\n> pn pr ps pt\\n> -  pw py qa re ro ru rw sa sb sc sd se sg sh si sj sk sl sm sn so sr  \\n> st sv sy sz\\n> -  tc td tf tg th tj tk tl tm tn to tp tr tt tv tw tz ua ug uk um us  \\n> uy uz va vc\\n> -  ve vg vi vn vu wf ws ye yt yu za zm zw\\n> -  su\\n> -  aero biz com coop info museum name net org pro gov edu mil int\\n> -  arpa\\n> -  eu\\n> -  jobs travel\\n> -  xxx\\n> -  mobi asia cat tel\\n> +  ac ad ae aero af ag ai al am an ao aq ar arpa as asia at au aw ax  \\n> az\\n> +  ba bb bd be bf bg bh bi biz bj bm bn bo br bs bt bv bw by bz ca  \\n> cat cc\\n> +  cd cf cg ch ci ck cl cm cn co com coop cr cu cv cx cy cz de dj dk  \\n> dm\\n> +  do dz ec edu ee eg er es et eu fi fj fk fm fo fr ga gb gd ge gf  \\n> gg gh\\n> +  gi gl gm gn gov gp gq gr gs gt gu gw gy hk hm hn hr ht hu id ie  \\n> il im\\n> +  in info int io iq ir is it je jm jo jobs jp ke kg kh ki km kn kp  \\n> kr kw\\n> +  ky kz la lb lc li lk lr ls lt lu lv ly ma mc md me mg mh mil mk  \\n> ml mm\\n> +  mn mo mobi mp mq mr ms mt mu museum mv mw mx my mz na name nc ne  \\n> net\\n> +  nf ng ni nl no np nr nu nz om org pa pe pf pg ph pk pl pm pn pr  \\n> pro ps\\n> +  pt pw py qa re ro rs ru rw sa sb sc sd se sg sh si sj sk sl sm sn  \\n> so\\n> +  sr st su sv sy sz tc td tel tf tg th tj tk tl tm tn to tp tr  \\n> travel tt\\n> +  tv tw tz ua ug uk um us uy uz va vc ve vg vi vn vu wf ws ye yt yu  \\n> za\\n> +  zm zw\\n>   /) {\\n>   $VALID_TLDS{$_} = 1;\\n> }\\n>\\n> Modified: spamassassin/trunk/t/uri_text.t\\n> URL: http://svn.apache.org/viewvc/spamassassin/trunk/t/uri_text.t?rev=619753&r1=619752&r2=619753&view=diff\\n> = \\n> = \\n> = \\n> = \\n> = \\n> = \\n> = \\n> = \\n> ======================================================================\\n> --- spamassassin/trunk/t/uri_text.t (original)\\n> +++ spamassassin/trunk/t/uri_text.t Thu Feb  7 19:22:58 2008\\n> @@ -24,7 +24,7 @@\\n> use vars qw(%patterns %anti_patterns);\\n>\\n> # settings\\n> -plan tests => 406;\\n> +plan tests => 678;\\n>\\n> # initialize SpamAssassin\\n> my $sa = create_saobj({'dont_copy_prefs' => 1});\\n> @@ -282,11 +282,289 @@\\n> # check all the TLDs (might as well be thorough)\\n>\\n> # first confirm that it will fail on not a TLD\\n> +example.foo\\t!^http://example.foo$\\n> +example.xxx\\t!^http://example.xxx$\\n> +\\n> +example.ac\\t^http://example.ac$\\n> +example.ad\\t^http://example.ad$\\n> +example.ae\\t^http://example.ae$\\n> +example.aero\\t^http://example.aero$\\n> +example.af\\t^http://example.af$\\n> +example.ag\\t^http://example.ag$\\n> +example.ai\\t^http://example.ai$\\n> +example.al\\t^http://example.al$\\n> +example.am\\t^http://example.am$\\n> +example.an\\t^http://example.an$\\n> +example.ao\\t^http://example.ao$\\n> +example.aq\\t^http://example.aq$\\n> +example.ar\\t^http://example.ar$\\n> +example.arpa\\t^http://example.arpa$\\n> +example.as\\t^http://example.as$\\n> +example.asia\\t^http://example.asia$\\n> +example.at\\t^http://example.at$\\n> +example.au\\t^http://example.au$\\n> +example.aw\\t^http://example.aw$\\n> +example.ax\\t^http://example.ax$\\n> +example.az\\t^http://example.az$\\n> +example.ba\\t^http://example.ba$\\n> +example.bb\\t^http://example.bb$\\n> +example.bd\\t^http://example.bd$\\n> +example.be\\t^http://example.be$\\n> +example.bf\\t^http://example.bf$\\n> +example.bg\\t^http://example.bg$\\n> +example.bh\\t^http://example.bh$\\n> +example.bi\\t^http://example.bi$\\n> +example.biz\\t^http://example.biz$\\n> +example.bj\\t^http://example.bj$\\n> +example.bm\\t^http://example.bm$\\n> +example.bn\\t^http://example.bn$\\n> +example.bo\\t^http://example.bo$\\n> +example.br\\t^http://example.br$\\n> +example.bs\\t^http://example.bs$\\n> +example.bt\\t^http://example.bt$\\n> +example.bv\\t^http://example.bv$\\n> +example.bw\\t^http://example.bw$\\n> +example.by\\t^http://example.by$\\n> +example.bz\\t^http://example.bz$\\n> +example.ca\\t^http://example.ca$\\n> +example.cat\\t^http://example.cat$\\n> +example.cc\\t^http://example.cc$\\n> +example.cd\\t^http://example.cd$\\n> +example.cf\\t^http://example.cf$\\n> +example.cg\\t^http://example.cg$\\n> +example.ch\\t^http://example.ch$\\n> +example.ci\\t^http://example.ci$\\n> +example.ck\\t^http://example.ck$\\n> +example.cl\\t^http://example.cl$\\n> +example.cm\\t^http://example.cm$\\n> +example.cn\\t^http://example.cn$\\n> +example.co\\t^http://example.co$\\n> +example.com\\t^http://example.com$\\n> +example.coop\\t^http://example.coop$\\n> +example.cr\\t^http://example.cr$\\n> +example.cu\\t^http://example.cu$\\n> +example.cv\\t^http://example.cv$\\n> +example.cx\\t^http://example.cx$\\n> +example.cy\\t^http://example.cy$\\n> +example.cz\\t^http://example.cz$\\n> +example.de\\t^http://example.de$\\n> +example.dj\\t^http://example.dj$\\n> +example.dk\\t^http://example.dk$\\n> +example.dm\\t^http://example.dm$\\n> +example.do\\t^http://example.do$\\n> +example.dz\\t^http://example.dz$\\n> +example.ec\\t^http://example.ec$\\n> +example.edu\\t^http://example.edu$\\n> +example.ee\\t^http://example.ee$\\n> +example.eg\\t^http://example.eg$\\n> +example.er\\t^http://example.er$\\n> +example.es\\t^http://example.es$\\n> +example.et\\t^http://example.et$\\n> +example.eu\\t^http://example.eu$\\n> +example.fi\\t^http://example.fi$\\n> +example.fj\\t^http://example.fj$\\n> +example.fk\\t^http://example.fk$\\n> +example.fm\\t^http://example.fm$\\n> +example.fo\\t^http://example.fo$\\n> +example.fr\\t^http://example.fr$\\n> +example.ga\\t^http://example.ga$\\n> +example.gb\\t^http://example.gb$\\n> +example.gd\\t^http://example.gd$\\n> +example.ge\\t^http://example.ge$\\n> +example.gf\\t^http://example.gf$\\n> +example.gg\\t^http://example.gg$\\n> +example.gh\\t^http://example.gh$\\n> +example.gi\\t^http://example.gi$\\n> +example.gl\\t^http://example.gl$\\n> +example.gm\\t^http://example.gm$\\n> +example.gn\\t^http://example.gn$\\n> +example.gov\\t^http://example.gov$\\n> +example.gp\\t^http://example.gp$\\n> +example.gq\\t^http://example.gq$\\n> +example.gr\\t^http://example.gr$\\n> +example.gs\\t^http://example.gs$\\n> +example.gt\\t^http://example.gt$\\n> +example.gu\\t^http://example.gu$\\n> +example.gw\\t^http://example.gw$\\n> +example.gy\\t^http://example.gy$\\n> +example.hk\\t^http://example.hk$\\n> +example.hm\\t^http://example.hm$\\n> +example.hn\\t^http://example.hn$\\n> +example.hr\\t^http://example.hr$\\n> +example.ht\\t^http://example.ht$\\n> +example.hu\\t^http://example.hu$\\n> +example.id\\t^http://example.id$\\n> +example.ie\\t^http://example.ie$\\n> +example.il\\t^http://example.il$\\n> +example.im\\t^http://example.im$\\n> +example.in\\t^http://example.in$\\n> +example.info\\t^http://example.info$\\n> +example.int\\t^http://example.int$\\n> +example.io\\t^http://example.io$\\n> +example.iq\\t^http://example.iq$\\n> +example.ir\\t^http://example.ir$\\n> +example.is\\t^http://example.is$\\n> +example.it\\t^http://example.it$\\n> +example.je\\t^http://example.je$\\n> +example.jm\\t^http://example.jm$\\n> +example.jo\\t^http://example.jo$\\n> +example.jobs\\t^http://example.jobs$\\n> +example.jp\\t^http://example.jp$\\n> +example.ke\\t^http://example.ke$\\n> +example.kg\\t^http://example.kg$\\n> +example.kh\\t^http://example.kh$\\n> +example.ki\\t^http://example.ki$\\n> +example.km\\t^http://example.km$\\n> +example.kn\\t^http://example.kn$\\n> +example.kp\\t^http://example.kp$\\n> +example.kr\\t^http://example.kr$\\n> +example.kw\\t^http://example.kw$\\n> +example.ky\\t^http://example.ky$\\n> +example.kz\\t^http://example.kz$\\n> +example.la\\t^http://example.la$\\n> +example.lb\\t^http://example.lb$\\n> +example.lc\\t^http://example.lc$\\n> +example.li\\t^http://example.li$\\n> +example.lk\\t^http://example.lk$\\n> +example.lr\\t^http://example.lr$\\n> +example.ls\\t^http://example.ls$\\n> +example.lt\\t^http://example.lt$\\n> +example.lu\\t^http://example.lu$\\n> +example.lv\\t^http://example.lv$\\n> +example.ly\\t^http://example.ly$\\n> +example.ma\\t^http://example.ma$\\n> +example.mc\\t^http://example.mc$\\n> +example.md\\t^http://example.md$\\n> +example.me\\t^http://example.me$\\n> +example.mg\\t^http://example.mg$\\n> +example.mh\\t^http://example.mh$\\n> +example.mil\\t^http://example.mil$\\n> +example.mk\\t^http://example.mk$\\n> +example.ml\\t^http://example.ml$\\n> +example.mm\\t^http://example.mm$\\n> +example.mn\\t^http://example.mn$\\n> +example.mo\\t^http://example.mo$\\n> +example.mobi\\t^http://example.mobi$\\n> +example.mp\\t^http://example.mp$\\n> +example.mq\\t^http://example.mq$\\n> +example.mr\\t^http://example.mr$\\n> +example.ms\\t^http://example.ms$\\n> +example.mt\\t^http://example.mt$\\n> +example.mu\\t^http://example.mu$\\n> +example.museum\\t^http://example.museum$\\n> +example.mv\\t^http://example.mv$\\n> +example.mw\\t^http://example.mw$\\n> +example.mx\\t^http://example.mx$\\n> +example.my\\t^http://example.my$\\n> +example.mz\\t^http://example.mz$\\n> +example.na\\t^http://example.na$\\n> +example.name\\t^http://example.name$\\n> +example.nc\\t^http://example.nc$\\n> +example.ne\\t^http://example.ne$\\n> +example.net\\t^http://example.net$\\n> +example.nf\\t^http://example.nf$\\n> +example.ng\\t^http://example.ng$\\n> +example.ni\\t^http://example.ni$\\n> +example.nl\\t^http://example.nl$\\n> +example.no\\t^http://example.no$\\n> +example.np\\t^http://example.np$\\n> +example.nr\\t^http://example.nr$\\n> +example.nu\\t^http://example.nu$\\n> +example.nz\\t^http://example.nz$\\n> +example.om\\t^http://example.om$\\n> +example.org\\t^http://example.org$\\n> +example.pa\\t^http://example.pa$\\n> +example.pe\\t^http://example.pe$\\n> +example.pf\\t^http://example.pf$\\n> +example.pg\\t^http://example.pg$\\n> +example.ph\\t^http://example.ph$\\n> +example.pk\\t^http://example.pk$\\n> +example.pl\\t^http://example.pl$\\n> +example.pm\\t^http://example.pm$\\n> +example.pn\\t^http://example.pn$\\n> +example.pr\\t^http://example.pr$\\n> +example.pro\\t^http://example.pro$\\n> +example.ps\\t^http://example.ps$\\n> +example.pt\\t^http://example.pt$\\n> +example.pw\\t^http://example.pw$\\n> +example.py\\t^http://example.py$\\n> +example.qa\\t^http://example.qa$\\n> +example.re\\t^http://example.re$\\n> +example.ro\\t^http://example.ro$\\n> +example.rs\\t^http://example.rs$\\n> +example.ru\\t^http://example.ru$\\n> +example.rw\\t^http://example.rw$\\n> +example.sa\\t^http://example.sa$\\n> +example.sb\\t^http://example.sb$\\n> +example.sc\\t^http://example.sc$\\n> +example.sd\\t^http://example.sd$\\n> +example.se\\t^http://example.se$\\n> +example.sg\\t^http://example.sg$\\n> +example.sh\\t^http://example.sh$\\n> +example.si\\t^http://example.si$\\n> +example.sj\\t^http://example.sj$\\n> +example.sk\\t^http://example.sk$\\n> +example.sl\\t^http://example.sl$\\n> +example.sm\\t^http://example.sm$\\n> +example.sn\\t^http://example.sn$\\n> +example.so\\t^http://example.so$\\n> +example.sr\\t^http://example.sr$\\n> +example.st\\t^http://example.st$\\n> +example.su\\t^http://example.su$\\n> +example.sv\\t^http://example.sv$\\n> +example.sy\\t^http://example.sy$\\n> +example.sz\\t^http://example.sz$\\n> +example.tc\\t^http://example.tc$\\n> +example.td\\t^http://example.td$\\n> +example.tel\\t^http://example.tel$\\n> +example.tf\\t^http://example.tf$\\n> +example.tg\\t^http://example.tg$\\n> +example.th\\t^http://example.th$\\n> +example.tj\\t^http://example.tj$\\n> +example.tk\\t^http://example.tk$\\n> +example.tl\\t^http://example.tl$\\n> +example.tm\\t^http://example.tm$\\n> +example.tn\\t^http://example.tn$\\n> +example.to\\t^http://example.to$\\n> +example.tp\\t^http://example.tp$\\n> +example.tr\\t^http://example.tr$\\n> +example.travel\\t^http://example.travel$\\n> +example.tt\\t^http://example.tt$\\n> +example.tv\\t^http://example.tv$\\n> +example.tw\\t^http://example.tw$\\n> +example.tz\\t^http://example.tz$\\n> +example.ua\\t^http://example.ua$\\n> +example.ug\\t^http://example.ug$\\n> +example.uk\\t^http://example.uk$\\n> +example.um\\t^http://example.um$\\n> +example.us\\t^http://example.us$\\n> +example.uy\\t^http://example.uy$\\n> +example.uz\\t^http://example.uz$\\n> +example.va\\t^http://example.va$\\n> +example.vc\\t^http://example.vc$\\n> +example.ve\\t^http://example.ve$\\n> +example.vg\\t^http://example.vg$\\n> +example.vi\\t^http://example.vi$\\n> +example.vn\\t^http://example.vn$\\n> +example.vu\\t^http://example.vu$\\n> +example.wf\\t^http://example.wf$\\n> +example.ws\\t^http://example.ws$\\n> +example.ye\\t^http://example.ye$\\n> +example.yt\\t^http://example.yt$\\n> +example.yu\\t^http://example.yu$\\n> +example.za\\t^http://example.za$\\n> +example.zm\\t^http://example.zm$\\n> +example.zw\\t^http://example.zw$\\n> +\\n> +# with www. prefix tests a different table of TLDs\\n> +\\n> www.example.foo\\t!^http://www.example.foo$\\n> +www.example.xxx\\t!^http://www.example.xxx$\\n>\\n> www.example.ac\\t^http://www.example.ac$\\n> www.example.ad\\t^http://www.example.ad$\\n> www.example.ae\\t^http://www.example.ae$\\n> +www.example.aero\\t^http://www.example.aero$\\n> www.example.af\\t^http://www.example.af$\\n> www.example.ag\\t^http://www.example.ag$\\n> www.example.ai\\t^http://www.example.ai$\\n> @@ -296,12 +574,14 @@\\n> www.example.ao\\t^http://www.example.ao$\\n> www.example.aq\\t^http://www.example.aq$\\n> www.example.ar\\t^http://www.example.ar$\\n> +www.example.arpa\\t^http://www.example.arpa$\\n> www.example.as\\t^http://www.example.as$\\n> +www.example.asia\\t^http://www.example.asia$\\n> www.example.at\\t^http://www.example.at$\\n> www.example.au\\t^http://www.example.au$\\n> www.example.aw\\t^http://www.example.aw$\\n> -www.example.az\\t^http://www.example.az$\\n> www.example.ax\\t^http://www.example.ax$\\n> +www.example.az\\t^http://www.example.az$\\n> www.example.ba\\t^http://www.example.ba$\\n> www.example.bb\\t^http://www.example.bb$\\n> www.example.bd\\t^http://www.example.bd$\\n> @@ -310,6 +590,7 @@\\n> www.example.bg\\t^http://www.example.bg$\\n> www.example.bh\\t^http://www.example.bh$\\n> www.example.bi\\t^http://www.example.bi$\\n> +www.example.biz\\t^http://www.example.biz$\\n> www.example.bj\\t^http://www.example.bj$\\n> www.example.bm\\t^http://www.example.bm$\\n> www.example.bn\\t^http://www.example.bn$\\n> @@ -322,6 +603,7 @@\\n> www.example.by\\t^http://www.example.by$\\n> www.example.bz\\t^http://www.example.bz$\\n> www.example.ca\\t^http://www.example.ca$\\n> +www.example.cat\\t^http://www.example.cat$\\n> www.example.cc\\t^http://www.example.cc$\\n> www.example.cd\\t^http://www.example.cd$\\n> www.example.cf\\t^http://www.example.cf$\\n> @@ -333,8 +615,9 @@\\n> www.example.cm\\t^http://www.example.cm$\\n> www.example.cn\\t^http://www.example.cn$\\n> www.example.co\\t^http://www.example.co$\\n> +www.example.com\\t^http://www.example.com$\\n> +www.example.coop\\t^http://www.example.coop$\\n> www.example.cr\\t^http://www.example.cr$\\n> -www.example.cs\\t^http://www.example.cs$\\n> www.example.cu\\t^http://www.example.cu$\\n> www.example.cv\\t^http://www.example.cv$\\n> www.example.cx\\t^http://www.example.cx$\\n> @@ -347,12 +630,13 @@\\n> www.example.do\\t^http://www.example.do$\\n> www.example.dz\\t^http://www.example.dz$\\n> www.example.ec\\t^http://www.example.ec$\\n> +www.example.edu\\t^http://www.example.edu$\\n> www.example.ee\\t^http://www.example.ee$\\n> www.example.eg\\t^http://www.example.eg$\\n> -www.example.eh\\t^http://www.example.eh$\\n> www.example.er\\t^http://www.example.er$\\n> www.example.es\\t^http://www.example.es$\\n> www.example.et\\t^http://www.example.et$\\n> +www.example.eu\\t^http://www.example.eu$\\n> www.example.fi\\t^http://www.example.fi$\\n> www.example.fj\\t^http://www.example.fj$\\n> www.example.fk\\t^http://www.example.fk$\\n> @@ -370,6 +654,7 @@\\n> www.example.gl\\t^http://www.example.gl$\\n> www.example.gm\\t^http://www.example.gm$\\n> www.example.gn\\t^http://www.example.gn$\\n> +www.example.gov\\t^http://www.example.gov$\\n> www.example.gp\\t^http://www.example.gp$\\n> www.example.gq\\t^http://www.example.gq$\\n> www.example.gr\\t^http://www.example.gr$\\n> @@ -389,6 +674,8 @@\\n> www.example.il\\t^http://www.example.il$\\n> www.example.im\\t^http://www.example.im$\\n> www.example.in\\t^http://www.example.in$\\n> +www.example.info\\t^http://www.example.info$\\n> +www.example.int\\t^http://www.example.int$\\n> www.example.io\\t^http://www.example.io$\\n> www.example.iq\\t^http://www.example.iq$\\n> www.example.ir\\t^http://www.example.ir$\\n> @@ -397,6 +684,7 @@\\n> www.example.je\\t^http://www.example.je$\\n> www.example.jm\\t^http://www.example.jm$\\n> www.example.jo\\t^http://www.example.jo$\\n> +www.example.jobs\\t^http://www.example.jobs$\\n> www.example.jp\\t^http://www.example.jp$\\n> www.example.ke\\t^http://www.example.ke$\\n> www.example.kg\\t^http://www.example.kg$\\n> @@ -423,27 +711,33 @@\\n> www.example.ma\\t^http://www.example.ma$\\n> www.example.mc\\t^http://www.example.mc$\\n> www.example.md\\t^http://www.example.md$\\n> +www.example.me\\t^http://www.example.me$\\n> www.example.mg\\t^http://www.example.mg$\\n> www.example.mh\\t^http://www.example.mh$\\n> +www.example.mil\\t^http://www.example.mil$\\n> www.example.mk\\t^http://www.example.mk$\\n> www.example.ml\\t^http://www.example.ml$\\n> www.example.mm\\t^http://www.example.mm$\\n> www.example.mn\\t^http://www.example.mn$\\n> www.example.mo\\t^http://www.example.mo$\\n> +www.example.mobi\\t^http://www.example.mobi$\\n> www.example.mp\\t^http://www.example.mp$\\n> www.example.mq\\t^http://www.example.mq$\\n> www.example.mr\\t^http://www.example.mr$\\n> www.example.ms\\t^http://www.example.ms$\\n> www.example.mt\\t^http://www.example.mt$\\n> www.example.mu\\t^http://www.example.mu$\\n> +www.example.museum\\t^http://www.example.museum$\\n> www.example.mv\\t^http://www.example.mv$\\n> www.example.mw\\t^http://www.example.mw$\\n> www.example.mx\\t^http://www.example.mx$\\n> www.example.my\\t^http://www.example.my$\\n> www.example.mz\\t^http://www.example.mz$\\n> www.example.na\\t^http://www.example.na$\\n> +www.example.name\\t^http://www.example.name$\\n> www.example.nc\\t^http://www.example.nc$\\n> www.example.ne\\t^http://www.example.ne$\\n> +www.example.net\\t^http://www.example.net$\\n> www.example.nf\\t^http://www.example.nf$\\n> www.example.ng\\t^http://www.example.ng$\\n> www.example.ni\\t^http://www.example.ni$\\n> @@ -454,6 +748,7 @@\\n> www.example.nu\\t^http://www.example.nu$\\n> www.example.nz\\t^http://www.example.nz$\\n> www.example.om\\t^http://www.example.om$\\n> +www.example.org\\t^http://www.example.org$\\n> www.example.pa\\t^http://www.example.pa$\\n> www.example.pe\\t^http://www.example.pe$\\n> www.example.pf\\t^http://www.example.pf$\\n> @@ -464,6 +759,7 @@\\n> www.example.pm\\t^http://www.example.pm$\\n> www.example.pn\\t^http://www.example.pn$\\n> www.example.pr\\t^http://www.example.pr$\\n> +www.example.pro\\t^http://www.example.pro$\\n> www.example.ps\\t^http://www.example.ps$\\n> www.example.pt\\t^http://www.example.pt$\\n> www.example.pw\\t^http://www.example.pw$\\n> @@ -471,6 +767,7 @@\\n> www.example.qa\\t^http://www.example.qa$\\n> www.example.re\\t^http://www.example.re$\\n> www.example.ro\\t^http://www.example.ro$\\n> +www.example.rs\\t^http://www.example.rs$\\n> www.example.ru\\t^http://www.example.ru$\\n> www.example.rw\\t^http://www.example.rw$\\n> www.example.sa\\t^http://www.example.sa$\\n> @@ -489,11 +786,13 @@\\n> www.example.so\\t^http://www.example.so$\\n> www.example.sr\\t^http://www.example.sr$\\n> www.example.st\\t^http://www.example.st$\\n> +www.example.su\\t^http://www.example.su$\\n> www.example.sv\\t^http://www.example.sv$\\n> www.example.sy\\t^http://www.example.sy$\\n> www.example.sz\\t^http://www.example.sz$\\n> www.example.tc\\t^http://www.example.tc$\\n> www.example.td\\t^http://www.example.td$\\n> +www.example.tel\\t^http://www.example.tel$\\n> www.example.tf\\t^http://www.example.tf$\\n> www.example.tg\\t^http://www.example.tg$\\n> www.example.th\\t^http://www.example.th$\\n> @@ -505,6 +804,7 @@\\n> www.example.to\\t^http://www.example.to$\\n> www.example.tp\\t^http://www.example.tp$\\n> www.example.tr\\t^http://www.example.tr$\\n> +www.example.travel\\t^http://www.example.travel$\\n> www.example.tt\\t^http://www.example.tt$\\n> www.example.tv\\t^http://www.example.tv$\\n> www.example.tw\\t^http://www.example.tw$\\n> @@ -531,27 +831,3 @@\\n> www.example.za\\t^http://www.example.za$\\n> www.example.zm\\t^http://www.example.zm$\\n> www.example.zw\\t^http://www.example.zw$\\n> -www.example.su\\t^http://www.example.su$\\n> -www.example.aero\\t^http://www.example.aero$\\n> -www.example.biz\\t^http://www.example.biz$\\n> -www.example.com\\t^http://www.example.com$\\n> -www.example.coop\\t^http://www.example.coop$\\n> -www.example.info\\t^http://www.example.info$\\n> -www.example.museum\\t^http://www.example.museum$\\n> -www.example.name\\t^http://www.example.name$\\n> -www.example.net\\t^http://www.example.net$\\n> -www.example.org\\t^http://www.example.org$\\n> -www.example.pro\\t^http://www.example.pro$\\n> -www.example.gov\\t^http://www.example.gov$\\n> -www.example.edu\\t^http://www.example.edu$\\n> -www.example.mil\\t^http://www.example.mil$\\n> -www.example.int\\t^http://www.example.int$\\n> -www.example.arpa\\t^http://www.example.arpa$\\n> -www.example.eu\\t^http://www.example.eu$\\n> -www.example.jobs\\t^http://www.example.jobs$\\n> -www.example.travel\\t^http://www.example.travel$\\n> -www.example.xxx\\t^http://www.example.xxx$\\n> -www.example.mobi\\t^http://www.example.mobi$\\n> -www.example.asia\\t^http://www.example.asia$\\n> -www.example.cat\\t^http://www.example.cat$\\n> -www.example.tel\\t^http://www.example.tel$\\n>\\n>\\n\\n\\n\\n    -------\\n\\n    additional_emails: ['wrzzpv@apache.org']\\n\\n    URLs Identified in Body: ['http://en.wikipedia.org/wiki/.so_%28domain_name%29']\\n    </input_email>\\n  \",\n",
            "Line 4: \"output\": {\n",
            "Line 5: \"is_phishing\": false,\n",
            "Line 6: \"trust_score\": 0,\n",
            "Line 7: \"explanation\": \"This log entry appears to be from an Apache mail server and lists the emails received by the server along with some additional information about the emails.\",\n",
            "Line 8: \"recommendation\": \"The email content does not appear to be phishing. However, it is recommended to verify the authenticity of the sender before responding to the email.\",\n",
            "Line 9: \"urls\": [],\n",
            "Line 10: \"url_check_results\": []\n",
            "Line 11: },\n",
            "Line 12: \"llm_model\": \"llama3.2:3b\",\n",
            "Line 13: \"evaluation\": {\n",
            "Line 14: \"actual_label\": false,\n",
            "Line 15: \"predicted_label\": false,\n",
            "Line 16: \"is_correct\": true\n",
            "Line 17: }\n",
            "Line 18: }\n",
            "Line 19: {\n",
            "Line 20: \"analysis_timestamp\": \"20250724_23:59:31\",\n"
          ]
        }
      ]
    },
    {
      "cell_type": "code",
      "metadata": {
        "colab": {
          "base_uri": "https://localhost:8080/"
        },
        "id": "1619ab74",
        "outputId": "0baebe23-8768-4dd8-e20f-f640fa11b1a3"
      },
      "source": [
        "# Load data directly from the file\n",
        "raw_data = load_training_dataset()\n",
        "\n",
        "print(f\"Type of loaded data: {type(raw_data)}\")\n",
        "\n",
        "if isinstance(raw_data, list):\n",
        "    print(f\"Number of records loaded: {len(raw_data)}\")\n",
        "    print(\"First 5 records:\")\n",
        "    for i, record in enumerate(raw_data[:5]):\n",
        "        print(f\"Record {i+1}: {record}\")\n",
        "elif raw_data is not None:\n",
        "    print(\"Loaded data:\")\n",
        "    print(raw_data)\n",
        "else:\n",
        "    print(\"No data was loaded.\")"
      ],
      "execution_count": null,
      "outputs": [
        {
          "output_type": "stream",
          "name": "stdout",
          "text": [
            "Type of loaded data: <class 'list'>\n",
            "Number of records loaded: 4\n",
            "First 5 records:\n",
            "Record 1: {'analysis_timestamp': '20250725_12:16:11', 'user_prompt': \"Analyze the following email:\\n    <input_email>\\n    From: Young@iworld.de\\n    Subject: Never agree to be a loser\\n\\n    Body:\\n    -------\\n    Buck up, your troubles caused by small dimension will soon be over!\\nBecome a lover no woman will be able to resist!\\nhttp://whitedone.com/\\n\\n\\ncome. Even as Nazi tanks were rolling down the streets, the dreamersphilosopher or a journalist. He was still not sure.I do the same.\\n    -------\\n\\n    additional_emails: []\\n\\n    URLs Identified in Body: ['http://whitedone.com/']\\n    </input_email>\\n  \", 'output': {'is_phishing': True, 'trust_score': 20, 'explanation': 'Red flags present in the email include grammatical errors, an attention-grabbing subject line, but no clear phishing indicators were found.', 'recommendation': \"Be cautious when interacting with this email and consider verifying the sender's identity before taking any action.\", 'urls': [], 'url_check_results': []}, 'llm_model': 'llama3.2:3b', 'evaluation': {'actual_label': True, 'predicted_label': True, 'is_correct': True}}\n",
            "Record 2: {'analysis_timestamp': '20250725_12:16:24', 'user_prompt': \"Analyze the following email:\\n    <input_email>\\n    From: 3@icable.ph\\n    Subject: Befriend Jenna Jameson\\n\\n    Body:\\n    -------\\n    \\nUpgrade your sex and pleasures with these techniques http://www.brightmade.com\\n\\n\\n\\n    -------\\n\\n    additional_emails: []\\n\\n    URLs Identified in Body: ['http://www.brightmade.com']\\n    </input_email>\\n  \", 'output': {'is_phishing': True, 'trust_score': 20, 'explanation': 'Spoofed sender address, suspicious subject line, but legitimate URL.', 'recommendation': \"Exercise caution when interacting with this email. Verify sender's identity and legitimacy before responding or clicking on links.\", 'urls': [], 'url_check_results': []}, 'llm_model': 'llama3.2:3b', 'evaluation': {'actual_label': True, 'predicted_label': True, 'is_correct': True}}\n",
            "Record 3: {'analysis_timestamp': '20250725_12:17:20', 'user_prompt': 'Analyze the following email:\\n    <input_email>\\n    From: ivqrnai@pobox.com\\n    Subject: Re: svn commit: r619753 - in /spamassassin/trunk: lib/Mail/SpamAssassin/PerMsgStatus.pm lib/Mail/SpamAssassin/Util/RegistrarBoundaries.pm t/uri_text.t\\n\\n    Body:\\n    -------\\n    Would anyone object to removing .so from this list?  The .so TLD is  \\nbasically dead and we\\'ve found that lots of bogus domains like lib*.so  \\nare being caught by this.  Also sometimes you\\'ll have spammers who are  \\nputting in gibberish or funny punctuation and you\\'ll get sentences  \\nlike \\'blah blah.So this is\\'.  It also occurs with a couple of other  \\ndomains but .so is by far the worst.\\n\\nFor more info on the .so domain you can read about it here: http://en.wikipedia.org/wiki/.so_%28domain_name%29\\n\\nMichael\\n\\nOn Feb 7, 2008, at 9:23 PM, wrzzpv@apache.org wrote:\\n\\n> Author: sidney\\n> Date: Thu Feb  7 19:22:58 2008\\n> New Revision: 619753\\n>\\n> URL: http://svn.apache.org/viewvc?rev=619753&view=rev\\n> Log:\\n> bug 5813: correct TLD lookup to match current ICANN list and add all  \\n> TLDs to regression tests\\n>\\n> Modified:\\n>    spamassassin/trunk/lib/Mail/SpamAssassin/PerMsgStatus.pm\\n>    spamassassin/trunk/lib/Mail/SpamAssassin/Util/ \\n> RegistrarBoundaries.pm\\n>    spamassassin/trunk/t/uri_text.t\\n>\\n> Modified: spamassassin/trunk/lib/Mail/SpamAssassin/PerMsgStatus.pm\\n> URL: http://svn.apache.org/viewvc/spamassassin/trunk/lib/Mail/SpamAssassin/PerMsgStatus.pm?rev=619753&r1=619752&r2=619753&view=diff\\n> = \\n> = \\n> = \\n> = \\n> = \\n> = \\n> = \\n> = \\n> ======================================================================\\n> --- spamassassin/trunk/lib/Mail/SpamAssassin/PerMsgStatus.pm  \\n> (original)\\n> +++ spamassassin/trunk/lib/Mail/SpamAssassin/PerMsgStatus.pm Thu  \\n> Feb  7 19:22:58 2008\\n> @@ -1665,17 +1665,17 @@\\n> # regexps for finding plain text non-scheme hostnames with valid TLDs.\\n>\\n> # the list from %VALID_TLDS in Util/RegistrarBoundaries.pm, as a\\n> -# Regexp::Optimize optimized regexp ;)  accurate as of 20050318\\n> +# Regexp::List optimized regexp ;)  accurate as of 20080208\\n> my $tldsRE = qr/\\n> -    (?=[a-wyz])\\n> -    (?:a(?:e(?:ro)?|r(?:pa)?|[cdfgilmnoqstuwzx])|b(?:iz?| \\n> [abdefghjmnorstvwyz])\\n> -      |c(?:o(?:m|op)?|[acdfghiklmnrsu])|d[ejkmoz]|e[ceghrst]| \\n> f[ijkmor]\\n> -      |g(?:[abdefghilmnpqrstuwy]|ov)|h[kmnrtu]|i(?:n(?:fo|t)?| \\n> [delmoqrst])\\n> -      |j[emop]|k[eghimnprwyz]|l[abcikrstuvy]\\n> -      |m(?:u(?:seum)?|[acdghkmnopqrstvwxyz]|i?l)|n(?:a(?:me)?|et?| \\n> [cfgilopruz])\\n> -      |o(?:m|rg)|p(?:ro?|[aefghklmnstwy])|r[eouw]| \\n> s[abcdeghijklmnortvyzu]\\n> -      |t[cdfghjklmnoprtvwz]|u[agkmsyz]|v[aceginu]|w[fs]|xxx|y[etu]| \\n> z[amw]|ed?u|qa\\n> -    )/ix;\\n> +  (?=[a-wyz])\\n> +  (?:a(?:e(?:ro)?|r(?:pa)?|s(?:ia)?|[cdfgilmnoqtuwxz])|b(?:iz?| \\n> [abdefghjmnorstvwyz])\\n> +    |c(?:at?|o(?:m|op)?|[cdfghiklmnruvxyz])|d[ejkmoz]|e(?:[cegrst]| \\n> d?u)|f[ijkmor]\\n> +    |g(?:[abdefghilmnpqrstuwy]|ov)|h[kmnrtu]|i(?:n(?:fo|t)?| \\n> [delmoqrst])\\n> +    |j(?:o(?:bs)?|[emp])|k[eghimnprwyz]|l[abcikrstuvy]\\n> +    |m(?:o(?:bi)?|u(?:seum)?|[acdeghkmnpqrstvwxyz]|i?l)| \\n> n(?:a(?:me)?|et?|[cfgilopruz])\\n> +    |o(?:m|rg)|p(?:ro?|[aefghklmnstwy])|r[eosuw]| \\n> s[abcdeghijklmnortuvyz]\\n> +    |t(?:r(?:avel)?|[cdfghjkmnoptvwz]|e?l)|u[agkmsyz]|v[aceginu]| \\n> w[fs]|y[etu]|z[amw]|qa\\n> +  )/ix;\\n>\\n> # knownscheme regexp looks for either a https?: or ftp: scheme, or  \\n> www\\\\\\\\d*\\\\\\\\. or ftp\\\\\\\\. prefix, i.e., likely to start a URL\\n> # schemeless regexp looks for a valid TLD at the end of what may be  \\n> a FQDN, followed by optional ., optional :portnum, optional / \\n> rest_of_uri\\n>\\n> Modified: spamassassin/trunk/lib/Mail/SpamAssassin/Util/ \\n> RegistrarBoundaries.pm\\n> URL: http://svn.apache.org/viewvc/spamassassin/trunk/lib/Mail/SpamAssassin/Util/RegistrarBoundaries.pm?rev=619753&r1=619752&r2=619753&view=diff\\n> = \\n> = \\n> = \\n> = \\n> = \\n> = \\n> = \\n> = \\n> ======================================================================\\n> --- spamassassin/trunk/lib/Mail/SpamAssassin/Util/ \\n> RegistrarBoundaries.pm (original)\\n> +++ spamassassin/trunk/lib/Mail/SpamAssassin/Util/ \\n> RegistrarBoundaries.pm Thu Feb  7 19:22:58 2008\\n> @@ -31,28 +31,22 @@\\n>\\n> # The list of currently-valid TLDs for the DNS system.\\n> #\\n> -# http://www.iana.org/cctld/cctld-whois.htm\\n> -# \"su\" Extra from http://www.iana.org/root-whois/\\n> -# http://www.iana.org/gtld/gtld.htm\\n> -# http://www.iana.org/arpa-dom/\\n> +# http://data.iana.org/TLD/tlds-alpha-by-domain.txt\\n> +# Version 2008020601, Last Updated Thu Feb  7 09:07:00 2008 UTC\\n> foreach (qw/\\n> -  ac ad ae af ag ai al am an ao aq ar as at au aw az ax ba bb bd be  \\n> bf bg bh bi\\n> -  bj bm bn bo br bs bt bv bw by bz ca cc cd cf cg ch ci ck cl cm cn  \\n> co cr cs cu\\n> -  cv cx cy cz de dj dk dm do dz ec ee eg eh er es et fi fj fk fm fo  \\n> fr ga gb gd\\n> -  ge gf gg gh gi gl gm gn gp gq gr gs gt gu gw gy hk hm hn hr ht hu  \\n> id ie il im\\n> -  in io iq ir is it je jm jo jp ke kg kh ki km kn kp kr kw ky kz la  \\n> lb lc li lk\\n> -  lr ls lt lu lv ly ma mc md mg mh mk ml mm mn mo mp mq mr ms mt mu  \\n> mv mw mx my\\n> -  mz na nc ne nf ng ni nl no np nr nu nz om pa pe pf pg ph pk pl pm  \\n> pn pr ps pt\\n> -  pw py qa re ro ru rw sa sb sc sd se sg sh si sj sk sl sm sn so sr  \\n> st sv sy sz\\n> -  tc td tf tg th tj tk tl tm tn to tp tr tt tv tw tz ua ug uk um us  \\n> uy uz va vc\\n> -  ve vg vi vn vu wf ws ye yt yu za zm zw\\n> -  su\\n> -  aero biz com coop info museum name net org pro gov edu mil int\\n> -  arpa\\n> -  eu\\n> -  jobs travel\\n> -  xxx\\n> -  mobi asia cat tel\\n> +  ac ad ae aero af ag ai al am an ao aq ar arpa as asia at au aw ax  \\n> az\\n> +  ba bb bd be bf bg bh bi biz bj bm bn bo br bs bt bv bw by bz ca  \\n> cat cc\\n> +  cd cf cg ch ci ck cl cm cn co com coop cr cu cv cx cy cz de dj dk  \\n> dm\\n> +  do dz ec edu ee eg er es et eu fi fj fk fm fo fr ga gb gd ge gf  \\n> gg gh\\n> +  gi gl gm gn gov gp gq gr gs gt gu gw gy hk hm hn hr ht hu id ie  \\n> il im\\n> +  in info int io iq ir is it je jm jo jobs jp ke kg kh ki km kn kp  \\n> kr kw\\n> +  ky kz la lb lc li lk lr ls lt lu lv ly ma mc md me mg mh mil mk  \\n> ml mm\\n> +  mn mo mobi mp mq mr ms mt mu museum mv mw mx my mz na name nc ne  \\n> net\\n> +  nf ng ni nl no np nr nu nz om org pa pe pf pg ph pk pl pm pn pr  \\n> pro ps\\n> +  pt pw py qa re ro rs ru rw sa sb sc sd se sg sh si sj sk sl sm sn  \\n> so\\n> +  sr st su sv sy sz tc td tel tf tg th tj tk tl tm tn to tp tr  \\n> travel tt\\n> +  tv tw tz ua ug uk um us uy uz va vc ve vg vi vn vu wf ws ye yt yu  \\n> za\\n> +  zm zw\\n>   /) {\\n>   $VALID_TLDS{$_} = 1;\\n> }\\n>\\n> Modified: spamassassin/trunk/t/uri_text.t\\n> URL: http://svn.apache.org/viewvc/spamassassin/trunk/t/uri_text.t?rev=619753&r1=619752&r2=619753&view=diff\\n> = \\n> = \\n> = \\n> = \\n> = \\n> = \\n> = \\n> = \\n> ======================================================================\\n> --- spamassassin/trunk/t/uri_text.t (original)\\n> +++ spamassassin/trunk/t/uri_text.t Thu Feb  7 19:22:58 2008\\n> @@ -24,7 +24,7 @@\\n> use vars qw(%patterns %anti_patterns);\\n>\\n> # settings\\n> -plan tests => 406;\\n> +plan tests => 678;\\n>\\n> # initialize SpamAssassin\\n> my $sa = create_saobj({\\'dont_copy_prefs\\' => 1});\\n> @@ -282,11 +282,289 @@\\n> # check all the TLDs (might as well be thorough)\\n>\\n> # first confirm that it will fail on not a TLD\\n> +example.foo\\t!^http://example.foo$\\n> +example.xxx\\t!^http://example.xxx$\\n> +\\n> +example.ac\\t^http://example.ac$\\n> +example.ad\\t^http://example.ad$\\n> +example.ae\\t^http://example.ae$\\n> +example.aero\\t^http://example.aero$\\n> +example.af\\t^http://example.af$\\n> +example.ag\\t^http://example.ag$\\n> +example.ai\\t^http://example.ai$\\n> +example.al\\t^http://example.al$\\n> +example.am\\t^http://example.am$\\n> +example.an\\t^http://example.an$\\n> +example.ao\\t^http://example.ao$\\n> +example.aq\\t^http://example.aq$\\n> +example.ar\\t^http://example.ar$\\n> +example.arpa\\t^http://example.arpa$\\n> +example.as\\t^http://example.as$\\n> +example.asia\\t^http://example.asia$\\n> +example.at\\t^http://example.at$\\n> +example.au\\t^http://example.au$\\n> +example.aw\\t^http://example.aw$\\n> +example.ax\\t^http://example.ax$\\n> +example.az\\t^http://example.az$\\n> +example.ba\\t^http://example.ba$\\n> +example.bb\\t^http://example.bb$\\n> +example.bd\\t^http://example.bd$\\n> +example.be\\t^http://example.be$\\n> +example.bf\\t^http://example.bf$\\n> +example.bg\\t^http://example.bg$\\n> +example.bh\\t^http://example.bh$\\n> +example.bi\\t^http://example.bi$\\n> +example.biz\\t^http://example.biz$\\n> +example.bj\\t^http://example.bj$\\n> +example.bm\\t^http://example.bm$\\n> +example.bn\\t^http://example.bn$\\n> +example.bo\\t^http://example.bo$\\n> +example.br\\t^http://example.br$\\n> +example.bs\\t^http://example.bs$\\n> +example.bt\\t^http://example.bt$\\n> +example.bv\\t^http://example.bv$\\n> +example.bw\\t^http://example.bw$\\n> +example.by\\t^http://example.by$\\n> +example.bz\\t^http://example.bz$\\n> +example.ca\\t^http://example.ca$\\n> +example.cat\\t^http://example.cat$\\n> +example.cc\\t^http://example.cc$\\n> +example.cd\\t^http://example.cd$\\n> +example.cf\\t^http://example.cf$\\n> +example.cg\\t^http://example.cg$\\n> +example.ch\\t^http://example.ch$\\n> +example.ci\\t^http://example.ci$\\n> +example.ck\\t^http://example.ck$\\n> +example.cl\\t^http://example.cl$\\n> +example.cm\\t^http://example.cm$\\n> +example.cn\\t^http://example.cn$\\n> +example.co\\t^http://example.co$\\n> +example.com\\t^http://example.com$\\n> +example.coop\\t^http://example.coop$\\n> +example.cr\\t^http://example.cr$\\n> +example.cu\\t^http://example.cu$\\n> +example.cv\\t^http://example.cv$\\n> +example.cx\\t^http://example.cx$\\n> +example.cy\\t^http://example.cy$\\n> +example.cz\\t^http://example.cz$\\n> +example.de\\t^http://example.de$\\n> +example.dj\\t^http://example.dj$\\n> +example.dk\\t^http://example.dk$\\n> +example.dm\\t^http://example.dm$\\n> +example.do\\t^http://example.do$\\n> +example.dz\\t^http://example.dz$\\n> +example.ec\\t^http://example.ec$\\n> +example.edu\\t^http://example.edu$\\n> +example.ee\\t^http://example.ee$\\n> +example.eg\\t^http://example.eg$\\n> +example.er\\t^http://example.er$\\n> +example.es\\t^http://example.es$\\n> +example.et\\t^http://example.et$\\n> +example.eu\\t^http://example.eu$\\n> +example.fi\\t^http://example.fi$\\n> +example.fj\\t^http://example.fj$\\n> +example.fk\\t^http://example.fk$\\n> +example.fm\\t^http://example.fm$\\n> +example.fo\\t^http://example.fo$\\n> +example.fr\\t^http://example.fr$\\n> +example.ga\\t^http://example.ga$\\n> +example.gb\\t^http://example.gb$\\n> +example.gd\\t^http://example.gd$\\n> +example.ge\\t^http://example.ge$\\n> +example.gf\\t^http://example.gf$\\n> +example.gg\\t^http://example.gg$\\n> +example.gh\\t^http://example.gh$\\n> +example.gi\\t^http://example.gi$\\n> +example.gl\\t^http://example.gl$\\n> +example.gm\\t^http://example.gm$\\n> +example.gn\\t^http://example.gn$\\n> +example.gov\\t^http://example.gov$\\n> +example.gp\\t^http://example.gp$\\n> +example.gq\\t^http://example.gq$\\n> +example.gr\\t^http://example.gr$\\n> +example.gs\\t^http://example.gs$\\n> +example.gt\\t^http://example.gt$\\n> +example.gu\\t^http://example.gu$\\n> +example.gw\\t^http://example.gw$\\n> +example.gy\\t^http://example.gy$\\n> +example.hk\\t^http://example.hk$\\n> +example.hm\\t^http://example.hm$\\n> +example.hn\\t^http://example.hn$\\n> +example.hr\\t^http://example.hr$\\n> +example.ht\\t^http://example.ht$\\n> +example.hu\\t^http://example.hu$\\n> +example.id\\t^http://example.id$\\n> +example.ie\\t^http://example.ie$\\n> +example.il\\t^http://example.il$\\n> +example.im\\t^http://example.im$\\n> +example.in\\t^http://example.in$\\n> +example.info\\t^http://example.info$\\n> +example.int\\t^http://example.int$\\n> +example.io\\t^http://example.io$\\n> +example.iq\\t^http://example.iq$\\n> +example.ir\\t^http://example.ir$\\n> +example.is\\t^http://example.is$\\n> +example.it\\t^http://example.it$\\n> +example.je\\t^http://example.je$\\n> +example.jm\\t^http://example.jm$\\n> +example.jo\\t^http://example.jo$\\n> +example.jobs\\t^http://example.jobs$\\n> +example.jp\\t^http://example.jp$\\n> +example.ke\\t^http://example.ke$\\n> +example.kg\\t^http://example.kg$\\n> +example.kh\\t^http://example.kh$\\n> +example.ki\\t^http://example.ki$\\n> +example.km\\t^http://example.km$\\n> +example.kn\\t^http://example.kn$\\n> +example.kp\\t^http://example.kp$\\n> +example.kr\\t^http://example.kr$\\n> +example.kw\\t^http://example.kw$\\n> +example.ky\\t^http://example.ky$\\n> +example.kz\\t^http://example.kz$\\n> +example.la\\t^http://example.la$\\n> +example.lb\\t^http://example.lb$\\n> +example.lc\\t^http://example.lc$\\n> +example.li\\t^http://example.li$\\n> +example.lk\\t^http://example.lk$\\n> +example.lr\\t^http://example.lr$\\n> +example.ls\\t^http://example.ls$\\n> +example.lt\\t^http://example.lt$\\n> +example.lu\\t^http://example.lu$\\n> +example.lv\\t^http://example.lv$\\n> +example.ly\\t^http://example.ly$\\n> +example.ma\\t^http://example.ma$\\n> +example.mc\\t^http://example.mc$\\n> +example.md\\t^http://example.md$\\n> +example.me\\t^http://example.me$\\n> +example.mg\\t^http://example.mg$\\n> +example.mh\\t^http://example.mh$\\n> +example.mil\\t^http://example.mil$\\n> +example.mk\\t^http://example.mk$\\n> +example.ml\\t^http://example.ml$\\n> +example.mm\\t^http://example.mm$\\n> +example.mn\\t^http://example.mn$\\n> +example.mo\\t^http://example.mo$\\n> +example.mobi\\t^http://example.mobi$\\n> +example.mp\\t^http://example.mp$\\n> +example.mq\\t^http://example.mq$\\n> +example.mr\\t^http://example.mr$\\n> +example.ms\\t^http://example.ms$\\n> +example.mt\\t^http://example.mt$\\n> +example.mu\\t^http://example.mu$\\n> +example.museum\\t^http://example.museum$\\n> +example.mv\\t^http://example.mv$\\n> +example.mw\\t^http://example.mw$\\n> +example.mx\\t^http://example.mx$\\n> +example.my\\t^http://example.my$\\n> +example.mz\\t^http://example.mz$\\n> +example.na\\t^http://example.na$\\n> +example.name\\t^http://example.name$\\n> +example.nc\\t^http://example.nc$\\n> +example.ne\\t^http://example.ne$\\n> +example.net\\t^http://example.net$\\n> +example.nf\\t^http://example.nf$\\n> +example.ng\\t^http://example.ng$\\n> +example.ni\\t^http://example.ni$\\n> +example.nl\\t^http://example.nl$\\n> +example.no\\t^http://example.no$\\n> +example.np\\t^http://example.np$\\n> +example.nr\\t^http://example.nr$\\n> +example.nu\\t^http://example.nu$\\n> +example.nz\\t^http://example.nz$\\n> +example.om\\t^http://example.om$\\n> +example.org\\t^http://example.org$\\n> +example.pa\\t^http://example.pa$\\n> +example.pe\\t^http://example.pe$\\n> +example.pf\\t^http://example.pf$\\n> +example.pg\\t^http://example.pg$\\n> +example.ph\\t^http://example.ph$\\n> +example.pk\\t^http://example.pk$\\n> +example.pl\\t^http://example.pl$\\n> +example.pm\\t^http://example.pm$\\n> +example.pn\\t^http://example.pn$\\n> +example.pr\\t^http://example.pr$\\n> +example.pro\\t^http://example.pro$\\n> +example.ps\\t^http://example.ps$\\n> +example.pt\\t^http://example.pt$\\n> +example.pw\\t^http://example.pw$\\n> +example.py\\t^http://example.py$\\n> +example.qa\\t^http://example.qa$\\n> +example.re\\t^http://example.re$\\n> +example.ro\\t^http://example.ro$\\n> +example.rs\\t^http://example.rs$\\n> +example.ru\\t^http://example.ru$\\n> +example.rw\\t^http://example.rw$\\n> +example.sa\\t^http://example.sa$\\n> +example.sb\\t^http://example.sb$\\n> +example.sc\\t^http://example.sc$\\n> +example.sd\\t^http://example.sd$\\n> +example.se\\t^http://example.se$\\n> +example.sg\\t^http://example.sg$\\n> +example.sh\\t^http://example.sh$\\n> +example.si\\t^http://example.si$\\n> +example.sj\\t^http://example.sj$\\n> +example.sk\\t^http://example.sk$\\n> +example.sl\\t^http://example.sl$\\n> +example.sm\\t^http://example.sm$\\n> +example.sn\\t^http://example.sn$\\n> +example.so\\t^http://example.so$\\n> +example.sr\\t^http://example.sr$\\n> +example.st\\t^http://example.st$\\n> +example.su\\t^http://example.su$\\n> +example.sv\\t^http://example.sv$\\n> +example.sy\\t^http://example.sy$\\n> +example.sz\\t^http://example.sz$\\n> +example.tc\\t^http://example.tc$\\n> +example.td\\t^http://example.td$\\n> +example.tel\\t^http://example.tel$\\n> +example.tf\\t^http://example.tf$\\n> +example.tg\\t^http://example.tg$\\n> +example.th\\t^http://example.th$\\n> +example.tj\\t^http://example.tj$\\n> +example.tk\\t^http://example.tk$\\n> +example.tl\\t^http://example.tl$\\n> +example.tm\\t^http://example.tm$\\n> +example.tn\\t^http://example.tn$\\n> +example.to\\t^http://example.to$\\n> +example.tp\\t^http://example.tp$\\n> +example.tr\\t^http://example.tr$\\n> +example.travel\\t^http://example.travel$\\n> +example.tt\\t^http://example.tt$\\n> +example.tv\\t^http://example.tv$\\n> +example.tw\\t^http://example.tw$\\n> +example.tz\\t^http://example.tz$\\n> +example.ua\\t^http://example.ua$\\n> +example.ug\\t^http://example.ug$\\n> +example.uk\\t^http://example.uk$\\n> +example.um\\t^http://example.um$\\n> +example.us\\t^http://example.us$\\n> +example.uy\\t^http://example.uy$\\n> +example.uz\\t^http://example.uz$\\n> +example.va\\t^http://example.va$\\n> +example.vc\\t^http://example.vc$\\n> +example.ve\\t^http://example.ve$\\n> +example.vg\\t^http://example.vg$\\n> +example.vi\\t^http://example.vi$\\n> +example.vn\\t^http://example.vn$\\n> +example.vu\\t^http://example.vu$\\n> +example.wf\\t^http://example.wf$\\n> +example.ws\\t^http://example.ws$\\n> +example.ye\\t^http://example.ye$\\n> +example.yt\\t^http://example.yt$\\n> +example.yu\\t^http://example.yu$\\n> +example.za\\t^http://example.za$\\n> +example.zm\\t^http://example.zm$\\n> +example.zw\\t^http://example.zw$\\n> +\\n> +# with www. prefix tests a different table of TLDs\\n> +\\n> www.example.foo\\t!^http://www.example.foo$\\n> +www.example.xxx\\t!^http://www.example.xxx$\\n>\\n> www.example.ac\\t^http://www.example.ac$\\n> www.example.ad\\t^http://www.example.ad$\\n> www.example.ae\\t^http://www.example.ae$\\n> +www.example.aero\\t^http://www.example.aero$\\n> www.example.af\\t^http://www.example.af$\\n> www.example.ag\\t^http://www.example.ag$\\n> www.example.ai\\t^http://www.example.ai$\\n> @@ -296,12 +574,14 @@\\n> www.example.ao\\t^http://www.example.ao$\\n> www.example.aq\\t^http://www.example.aq$\\n> www.example.ar\\t^http://www.example.ar$\\n> +www.example.arpa\\t^http://www.example.arpa$\\n> www.example.as\\t^http://www.example.as$\\n> +www.example.asia\\t^http://www.example.asia$\\n> www.example.at\\t^http://www.example.at$\\n> www.example.au\\t^http://www.example.au$\\n> www.example.aw\\t^http://www.example.aw$\\n> -www.example.az\\t^http://www.example.az$\\n> www.example.ax\\t^http://www.example.ax$\\n> +www.example.az\\t^http://www.example.az$\\n> www.example.ba\\t^http://www.example.ba$\\n> www.example.bb\\t^http://www.example.bb$\\n> www.example.bd\\t^http://www.example.bd$\\n> @@ -310,6 +590,7 @@\\n> www.example.bg\\t^http://www.example.bg$\\n> www.example.bh\\t^http://www.example.bh$\\n> www.example.bi\\t^http://www.example.bi$\\n> +www.example.biz\\t^http://www.example.biz$\\n> www.example.bj\\t^http://www.example.bj$\\n> www.example.bm\\t^http://www.example.bm$\\n> www.example.bn\\t^http://www.example.bn$\\n> @@ -322,6 +603,7 @@\\n> www.example.by\\t^http://www.example.by$\\n> www.example.bz\\t^http://www.example.bz$\\n> www.example.ca\\t^http://www.example.ca$\\n> +www.example.cat\\t^http://www.example.cat$\\n> www.example.cc\\t^http://www.example.cc$\\n> www.example.cd\\t^http://www.example.cd$\\n> www.example.cf\\t^http://www.example.cf$\\n> @@ -333,8 +615,9 @@\\n> www.example.cm\\t^http://www.example.cm$\\n> www.example.cn\\t^http://www.example.cn$\\n> www.example.co\\t^http://www.example.co$\\n> +www.example.com\\t^http://www.example.com$\\n> +www.example.coop\\t^http://www.example.coop$\\n> www.example.cr\\t^http://www.example.cr$\\n> -www.example.cs\\t^http://www.example.cs$\\n> www.example.cu\\t^http://www.example.cu$\\n> www.example.cv\\t^http://www.example.cv$\\n> www.example.cx\\t^http://www.example.cx$\\n> @@ -347,12 +630,13 @@\\n> www.example.do\\t^http://www.example.do$\\n> www.example.dz\\t^http://www.example.dz$\\n> www.example.ec\\t^http://www.example.ec$\\n> +www.example.edu\\t^http://www.example.edu$\\n> www.example.ee\\t^http://www.example.ee$\\n> www.example.eg\\t^http://www.example.eg$\\n> -www.example.eh\\t^http://www.example.eh$\\n> www.example.er\\t^http://www.example.er$\\n> www.example.es\\t^http://www.example.es$\\n> www.example.et\\t^http://www.example.et$\\n> +www.example.eu\\t^http://www.example.eu$\\n> www.example.fi\\t^http://www.example.fi$\\n> www.example.fj\\t^http://www.example.fj$\\n> www.example.fk\\t^http://www.example.fk$\\n> @@ -370,6 +654,7 @@\\n> www.example.gl\\t^http://www.example.gl$\\n> www.example.gm\\t^http://www.example.gm$\\n> www.example.gn\\t^http://www.example.gn$\\n> +www.example.gov\\t^http://www.example.gov$\\n> www.example.gp\\t^http://www.example.gp$\\n> www.example.gq\\t^http://www.example.gq$\\n> www.example.gr\\t^http://www.example.gr$\\n> @@ -389,6 +674,8 @@\\n> www.example.il\\t^http://www.example.il$\\n> www.example.im\\t^http://www.example.im$\\n> www.example.in\\t^http://www.example.in$\\n> +www.example.info\\t^http://www.example.info$\\n> +www.example.int\\t^http://www.example.int$\\n> www.example.io\\t^http://www.example.io$\\n> www.example.iq\\t^http://www.example.iq$\\n> www.example.ir\\t^http://www.example.ir$\\n> @@ -397,6 +684,7 @@\\n> www.example.je\\t^http://www.example.je$\\n> www.example.jm\\t^http://www.example.jm$\\n> www.example.jo\\t^http://www.example.jo$\\n> +www.example.jobs\\t^http://www.example.jobs$\\n> www.example.jp\\t^http://www.example.jp$\\n> www.example.ke\\t^http://www.example.ke$\\n> www.example.kg\\t^http://www.example.kg$\\n> @@ -423,27 +711,33 @@\\n> www.example.ma\\t^http://www.example.ma$\\n> www.example.mc\\t^http://www.example.mc$\\n> www.example.md\\t^http://www.example.md$\\n> +www.example.me\\t^http://www.example.me$\\n> www.example.mg\\t^http://www.example.mg$\\n> www.example.mh\\t^http://www.example.mh$\\n> +www.example.mil\\t^http://www.example.mil$\\n> www.example.mk\\t^http://www.example.mk$\\n> www.example.ml\\t^http://www.example.ml$\\n> www.example.mm\\t^http://www.example.mm$\\n> www.example.mn\\t^http://www.example.mn$\\n> www.example.mo\\t^http://www.example.mo$\\n> +www.example.mobi\\t^http://www.example.mobi$\\n> www.example.mp\\t^http://www.example.mp$\\n> www.example.mq\\t^http://www.example.mq$\\n> www.example.mr\\t^http://www.example.mr$\\n> www.example.ms\\t^http://www.example.ms$\\n> www.example.mt\\t^http://www.example.mt$\\n> www.example.mu\\t^http://www.example.mu$\\n> +www.example.museum\\t^http://www.example.museum$\\n> www.example.mv\\t^http://www.example.mv$\\n> www.example.mw\\t^http://www.example.mw$\\n> www.example.mx\\t^http://www.example.mx$\\n> www.example.my\\t^http://www.example.my$\\n> www.example.mz\\t^http://www.example.mz$\\n> www.example.na\\t^http://www.example.na$\\n> +www.example.name\\t^http://www.example.name$\\n> www.example.nc\\t^http://www.example.nc$\\n> www.example.ne\\t^http://www.example.ne$\\n> +www.example.net\\t^http://www.example.net$\\n> www.example.nf\\t^http://www.example.nf$\\n> www.example.ng\\t^http://www.example.ng$\\n> www.example.ni\\t^http://www.example.ni$\\n> @@ -454,6 +748,7 @@\\n> www.example.nu\\t^http://www.example.nu$\\n> www.example.nz\\t^http://www.example.nz$\\n> www.example.om\\t^http://www.example.om$\\n> +www.example.org\\t^http://www.example.org$\\n> www.example.pa\\t^http://www.example.pa$\\n> www.example.pe\\t^http://www.example.pe$\\n> www.example.pf\\t^http://www.example.pf$\\n> @@ -464,6 +759,7 @@\\n> www.example.pm\\t^http://www.example.pm$\\n> www.example.pn\\t^http://www.example.pn$\\n> www.example.pr\\t^http://www.example.pr$\\n> +www.example.pro\\t^http://www.example.pro$\\n> www.example.ps\\t^http://www.example.ps$\\n> www.example.pt\\t^http://www.example.pt$\\n> www.example.pw\\t^http://www.example.pw$\\n> @@ -471,6 +767,7 @@\\n> www.example.qa\\t^http://www.example.qa$\\n> www.example.re\\t^http://www.example.re$\\n> www.example.ro\\t^http://www.example.ro$\\n> +www.example.rs\\t^http://www.example.rs$\\n> www.example.ru\\t^http://www.example.ru$\\n> www.example.rw\\t^http://www.example.rw$\\n> www.example.sa\\t^http://www.example.sa$\\n> @@ -489,11 +786,13 @@\\n> www.example.so\\t^http://www.example.so$\\n> www.example.sr\\t^http://www.example.sr$\\n> www.example.st\\t^http://www.example.st$\\n> +www.example.su\\t^http://www.example.su$\\n> www.example.sv\\t^http://www.example.sv$\\n> www.example.sy\\t^http://www.example.sy$\\n> www.example.sz\\t^http://www.example.sz$\\n> www.example.tc\\t^http://www.example.tc$\\n> www.example.td\\t^http://www.example.td$\\n> +www.example.tel\\t^http://www.example.tel$\\n> www.example.tf\\t^http://www.example.tf$\\n> www.example.tg\\t^http://www.example.tg$\\n> www.example.th\\t^http://www.example.th$\\n> @@ -505,6 +804,7 @@\\n> www.example.to\\t^http://www.example.to$\\n> www.example.tp\\t^http://www.example.tp$\\n> www.example.tr\\t^http://www.example.tr$\\n> +www.example.travel\\t^http://www.example.travel$\\n> www.example.tt\\t^http://www.example.tt$\\n> www.example.tv\\t^http://www.example.tv$\\n> www.example.tw\\t^http://www.example.tw$\\n> @@ -531,27 +831,3 @@\\n> www.example.za\\t^http://www.example.za$\\n> www.example.zm\\t^http://www.example.zm$\\n> www.example.zw\\t^http://www.example.zw$\\n> -www.example.su\\t^http://www.example.su$\\n> -www.example.aero\\t^http://www.example.aero$\\n> -www.example.biz\\t^http://www.example.biz$\\n> -www.example.com\\t^http://www.example.com$\\n> -www.example.coop\\t^http://www.example.coop$\\n> -www.example.info\\t^http://www.example.info$\\n> -www.example.museum\\t^http://www.example.museum$\\n> -www.example.name\\t^http://www.example.name$\\n> -www.example.net\\t^http://www.example.net$\\n> -www.example.org\\t^http://www.example.org$\\n> -www.example.pro\\t^http://www.example.pro$\\n> -www.example.gov\\t^http://www.example.gov$\\n> -www.example.edu\\t^http://www.example.edu$\\n> -www.example.mil\\t^http://www.example.mil$\\n> -www.example.int\\t^http://www.example.int$\\n> -www.example.arpa\\t^http://www.example.arpa$\\n> -www.example.eu\\t^http://www.example.eu$\\n> -www.example.jobs\\t^http://www.example.jobs$\\n> -www.example.travel\\t^http://www.example.travel$\\n> -www.example.xxx\\t^http://www.example.xxx$\\n> -www.example.mobi\\t^http://www.example.mobi$\\n> -www.example.asia\\t^http://www.example.asia$\\n> -www.example.cat\\t^http://www.example.cat$\\n> -www.example.tel\\t^http://www.example.tel$\\n>\\n>\\n\\n\\n\\n    -------\\n\\n    additional_emails: [\\'wrzzpv@apache.org\\']\\n\\n    URLs Identified in Body: [\\'http://en.wikipedia.org/wiki/.so_%28domain_name%29\\']\\n    </input_email>\\n  ', 'output': {'is_phishing': False, 'trust_score': 0, 'explanation': 'This log entry appears to be from an Apache mail server and lists the emails received by the server along with some additional information about the emails.', 'recommendation': 'The email content does not appear to be phishing. However, it is recommended to verify the authenticity of the sender before responding to the email.', 'urls': [], 'url_check_results': []}, 'llm_model': 'llama3.2:3b', 'evaluation': {'actual_label': False, 'predicted_label': False, 'is_correct': True}}\n",
            "Record 4: {'analysis_timestamp': '20250725_12:17:38', 'user_prompt': \"Analyze the following email:\\n    <input_email>\\n    From: externalsep1@loanofficertool.com\\n    Subject: SpecialPricesPharmMoreinfo\\n\\n    Body:\\n    -------\\n    \\nWelcomeFastShippingCustomerSupport\\nhttp://7iwfna.blu.livefilestore.com/y1pXdX3kwzhBa8xhXv8tdHbjHn7Tj4VT91YQg5lB5-_Hs9yuDwmU5wOteqBO-KnULiisB2QJJIug_bNfnrNH0YoSw/index.html\\n\\n\\n\\n    -------\\n\\n    additional_emails: []\\n\\n    URLs Identified in Body: ['http://7iwfna.blu.livefilestore.com/y1pXdX3kwzhBa8xhXv8tdHbjHn7Tj4VT91YQg5lB5-_Hs9yuDwmU5wOteqBO-KnULiisB2QJJIug_bNfnrNH0YoSw/index.html']\\n    </input_email>\\n  \", 'output': {'is_phishing': True, 'trust_score': 20, 'explanation': 'The email contains suspicious indicators such as a spoofed sender address, generic subject line, and a potentially malicious URL. However, without more concrete evidence, it is difficult to determine the true intent of the email.', 'recommendation': 'Do not open the link or respond to this email. If you are unsure about the authenticity of the email, contact the company directly using a trusted phone number or email address.', 'urls': [], 'url_check_results': []}, 'llm_model': 'llama3.2:3b', 'evaluation': {'actual_label': True, 'predicted_label': True, 'is_correct': True}}\n"
          ]
        }
      ]
    }
  ],
  "metadata": {
    "colab": {
      "provenance": [],
      "include_colab_link": true
    },
    "kernelspec": {
      "display_name": "Python 3",
      "name": "python3"
    },
    "language_info": {
      "name": "python"
    },
    "widgets": {
      "application/vnd.jupyter.widget-state+json": {
        "4e0aed339e8144438c218c4105736b18": {
          "model_module": "@jupyter-widgets/controls",
          "model_name": "HBoxModel",
          "model_module_version": "1.5.0",
          "state": {
            "_dom_classes": [],
            "_model_module": "@jupyter-widgets/controls",
            "_model_module_version": "1.5.0",
            "_model_name": "HBoxModel",
            "_view_count": null,
            "_view_module": "@jupyter-widgets/controls",
            "_view_module_version": "1.5.0",
            "_view_name": "HBoxView",
            "box_style": "",
            "children": [
              "IPY_MODEL_7b0224b7b3d2427aae948966b6cd7259",
              "IPY_MODEL_7e8c61630e6149209598dd4acd77e65f",
              "IPY_MODEL_4667464be2fe4aed94e10cf92185bbeb"
            ],
            "layout": "IPY_MODEL_4e8a21fa6a9d44e1a31733772316fe96"
          }
        },
        "7b0224b7b3d2427aae948966b6cd7259": {
          "model_module": "@jupyter-widgets/controls",
          "model_name": "HTMLModel",
          "model_module_version": "1.5.0",
          "state": {
            "_dom_classes": [],
            "_model_module": "@jupyter-widgets/controls",
            "_model_module_version": "1.5.0",
            "_model_name": "HTMLModel",
            "_view_count": null,
            "_view_module": "@jupyter-widgets/controls",
            "_view_module_version": "1.5.0",
            "_view_name": "HTMLView",
            "description": "",
            "description_tooltip": null,
            "layout": "IPY_MODEL_a956db78fce74cdcb3fe2e424605898d",
            "placeholder": "​",
            "style": "IPY_MODEL_2271850e410243d88edc3c39797e349b",
            "value": "Standardizing format: 100%"
          }
        },
        "7e8c61630e6149209598dd4acd77e65f": {
          "model_module": "@jupyter-widgets/controls",
          "model_name": "FloatProgressModel",
          "model_module_version": "1.5.0",
          "state": {
            "_dom_classes": [],
            "_model_module": "@jupyter-widgets/controls",
            "_model_module_version": "1.5.0",
            "_model_name": "FloatProgressModel",
            "_view_count": null,
            "_view_module": "@jupyter-widgets/controls",
            "_view_module_version": "1.5.0",
            "_view_name": "ProgressView",
            "bar_style": "success",
            "description": "",
            "description_tooltip": null,
            "layout": "IPY_MODEL_f7530ae08fc84892a96acea99ddebd4c",
            "max": 100000,
            "min": 0,
            "orientation": "horizontal",
            "style": "IPY_MODEL_0fa6a0e3a80e498da694856f2f5fb5b4",
            "value": 100000
          }
        },
        "4667464be2fe4aed94e10cf92185bbeb": {
          "model_module": "@jupyter-widgets/controls",
          "model_name": "HTMLModel",
          "model_module_version": "1.5.0",
          "state": {
            "_dom_classes": [],
            "_model_module": "@jupyter-widgets/controls",
            "_model_module_version": "1.5.0",
            "_model_name": "HTMLModel",
            "_view_count": null,
            "_view_module": "@jupyter-widgets/controls",
            "_view_module_version": "1.5.0",
            "_view_name": "HTMLView",
            "description": "",
            "description_tooltip": null,
            "layout": "IPY_MODEL_5bc7fcc9f247434da6c82840a078c812",
            "placeholder": "​",
            "style": "IPY_MODEL_40f1beb579244c1e84d96d0fe1ac2111",
            "value": " 100000/100000 [00:07&lt;00:00, 15004.72 examples/s]"
          }
        },
        "4e8a21fa6a9d44e1a31733772316fe96": {
          "model_module": "@jupyter-widgets/base",
          "model_name": "LayoutModel",
          "model_module_version": "1.2.0",
          "state": {
            "_model_module": "@jupyter-widgets/base",
            "_model_module_version": "1.2.0",
            "_model_name": "LayoutModel",
            "_view_count": null,
            "_view_module": "@jupyter-widgets/base",
            "_view_module_version": "1.2.0",
            "_view_name": "LayoutView",
            "align_content": null,
            "align_items": null,
            "align_self": null,
            "border": null,
            "bottom": null,
            "display": null,
            "flex": null,
            "flex_flow": null,
            "grid_area": null,
            "grid_auto_columns": null,
            "grid_auto_flow": null,
            "grid_auto_rows": null,
            "grid_column": null,
            "grid_gap": null,
            "grid_row": null,
            "grid_template_areas": null,
            "grid_template_columns": null,
            "grid_template_rows": null,
            "height": null,
            "justify_content": null,
            "justify_items": null,
            "left": null,
            "margin": null,
            "max_height": null,
            "max_width": null,
            "min_height": null,
            "min_width": null,
            "object_fit": null,
            "object_position": null,
            "order": null,
            "overflow": null,
            "overflow_x": null,
            "overflow_y": null,
            "padding": null,
            "right": null,
            "top": null,
            "visibility": null,
            "width": null
          }
        },
        "a956db78fce74cdcb3fe2e424605898d": {
          "model_module": "@jupyter-widgets/base",
          "model_name": "LayoutModel",
          "model_module_version": "1.2.0",
          "state": {
            "_model_module": "@jupyter-widgets/base",
            "_model_module_version": "1.2.0",
            "_model_name": "LayoutModel",
            "_view_count": null,
            "_view_module": "@jupyter-widgets/base",
            "_view_module_version": "1.2.0",
            "_view_name": "LayoutView",
            "align_content": null,
            "align_items": null,
            "align_self": null,
            "border": null,
            "bottom": null,
            "display": null,
            "flex": null,
            "flex_flow": null,
            "grid_area": null,
            "grid_auto_columns": null,
            "grid_auto_flow": null,
            "grid_auto_rows": null,
            "grid_column": null,
            "grid_gap": null,
            "grid_row": null,
            "grid_template_areas": null,
            "grid_template_columns": null,
            "grid_template_rows": null,
            "height": null,
            "justify_content": null,
            "justify_items": null,
            "left": null,
            "margin": null,
            "max_height": null,
            "max_width": null,
            "min_height": null,
            "min_width": null,
            "object_fit": null,
            "object_position": null,
            "order": null,
            "overflow": null,
            "overflow_x": null,
            "overflow_y": null,
            "padding": null,
            "right": null,
            "top": null,
            "visibility": null,
            "width": null
          }
        },
        "2271850e410243d88edc3c39797e349b": {
          "model_module": "@jupyter-widgets/controls",
          "model_name": "DescriptionStyleModel",
          "model_module_version": "1.5.0",
          "state": {
            "_model_module": "@jupyter-widgets/controls",
            "_model_module_version": "1.5.0",
            "_model_name": "DescriptionStyleModel",
            "_view_count": null,
            "_view_module": "@jupyter-widgets/base",
            "_view_module_version": "1.2.0",
            "_view_name": "StyleView",
            "description_width": ""
          }
        },
        "f7530ae08fc84892a96acea99ddebd4c": {
          "model_module": "@jupyter-widgets/base",
          "model_name": "LayoutModel",
          "model_module_version": "1.2.0",
          "state": {
            "_model_module": "@jupyter-widgets/base",
            "_model_module_version": "1.2.0",
            "_model_name": "LayoutModel",
            "_view_count": null,
            "_view_module": "@jupyter-widgets/base",
            "_view_module_version": "1.2.0",
            "_view_name": "LayoutView",
            "align_content": null,
            "align_items": null,
            "align_self": null,
            "border": null,
            "bottom": null,
            "display": null,
            "flex": null,
            "flex_flow": null,
            "grid_area": null,
            "grid_auto_columns": null,
            "grid_auto_flow": null,
            "grid_auto_rows": null,
            "grid_column": null,
            "grid_gap": null,
            "grid_row": null,
            "grid_template_areas": null,
            "grid_template_columns": null,
            "grid_template_rows": null,
            "height": null,
            "justify_content": null,
            "justify_items": null,
            "left": null,
            "margin": null,
            "max_height": null,
            "max_width": null,
            "min_height": null,
            "min_width": null,
            "object_fit": null,
            "object_position": null,
            "order": null,
            "overflow": null,
            "overflow_x": null,
            "overflow_y": null,
            "padding": null,
            "right": null,
            "top": null,
            "visibility": null,
            "width": null
          }
        },
        "0fa6a0e3a80e498da694856f2f5fb5b4": {
          "model_module": "@jupyter-widgets/controls",
          "model_name": "ProgressStyleModel",
          "model_module_version": "1.5.0",
          "state": {
            "_model_module": "@jupyter-widgets/controls",
            "_model_module_version": "1.5.0",
            "_model_name": "ProgressStyleModel",
            "_view_count": null,
            "_view_module": "@jupyter-widgets/base",
            "_view_module_version": "1.2.0",
            "_view_name": "StyleView",
            "bar_color": null,
            "description_width": ""
          }
        },
        "5bc7fcc9f247434da6c82840a078c812": {
          "model_module": "@jupyter-widgets/base",
          "model_name": "LayoutModel",
          "model_module_version": "1.2.0",
          "state": {
            "_model_module": "@jupyter-widgets/base",
            "_model_module_version": "1.2.0",
            "_model_name": "LayoutModel",
            "_view_count": null,
            "_view_module": "@jupyter-widgets/base",
            "_view_module_version": "1.2.0",
            "_view_name": "LayoutView",
            "align_content": null,
            "align_items": null,
            "align_self": null,
            "border": null,
            "bottom": null,
            "display": null,
            "flex": null,
            "flex_flow": null,
            "grid_area": null,
            "grid_auto_columns": null,
            "grid_auto_flow": null,
            "grid_auto_rows": null,
            "grid_column": null,
            "grid_gap": null,
            "grid_row": null,
            "grid_template_areas": null,
            "grid_template_columns": null,
            "grid_template_rows": null,
            "height": null,
            "justify_content": null,
            "justify_items": null,
            "left": null,
            "margin": null,
            "max_height": null,
            "max_width": null,
            "min_height": null,
            "min_width": null,
            "object_fit": null,
            "object_position": null,
            "order": null,
            "overflow": null,
            "overflow_x": null,
            "overflow_y": null,
            "padding": null,
            "right": null,
            "top": null,
            "visibility": null,
            "width": null
          }
        },
        "40f1beb579244c1e84d96d0fe1ac2111": {
          "model_module": "@jupyter-widgets/controls",
          "model_name": "DescriptionStyleModel",
          "model_module_version": "1.5.0",
          "state": {
            "_model_module": "@jupyter-widgets/controls",
            "_model_module_version": "1.5.0",
            "_model_name": "DescriptionStyleModel",
            "_view_count": null,
            "_view_module": "@jupyter-widgets/base",
            "_view_module_version": "1.2.0",
            "_view_name": "StyleView",
            "description_width": ""
          }
        },
        "9fda3a113d384626b394034ad9d65450": {
          "model_module": "@jupyter-widgets/controls",
          "model_name": "HBoxModel",
          "model_module_version": "1.5.0",
          "state": {
            "_dom_classes": [],
            "_model_module": "@jupyter-widgets/controls",
            "_model_module_version": "1.5.0",
            "_model_name": "HBoxModel",
            "_view_count": null,
            "_view_module": "@jupyter-widgets/controls",
            "_view_module_version": "1.5.0",
            "_view_name": "HBoxView",
            "box_style": "",
            "children": [
              "IPY_MODEL_d2b562b422454e529c7467706cff32b1",
              "IPY_MODEL_ecb8ba85cb8740e194495ca05767ddba",
              "IPY_MODEL_f5a77f05b44740308b619be4b755739e"
            ],
            "layout": "IPY_MODEL_2fbfc171c3044f328f9a47b5b279d2c6"
          }
        },
        "d2b562b422454e529c7467706cff32b1": {
          "model_module": "@jupyter-widgets/controls",
          "model_name": "HTMLModel",
          "model_module_version": "1.5.0",
          "state": {
            "_dom_classes": [],
            "_model_module": "@jupyter-widgets/controls",
            "_model_module_version": "1.5.0",
            "_model_name": "HTMLModel",
            "_view_count": null,
            "_view_module": "@jupyter-widgets/controls",
            "_view_module_version": "1.5.0",
            "_view_name": "HTMLView",
            "description": "",
            "description_tooltip": null,
            "layout": "IPY_MODEL_5b25ce20145d40e296a991589084df26",
            "placeholder": "​",
            "style": "IPY_MODEL_b0ea6d95ee624b908c27b9a886a144f2",
            "value": "Map: 100%"
          }
        },
        "ecb8ba85cb8740e194495ca05767ddba": {
          "model_module": "@jupyter-widgets/controls",
          "model_name": "FloatProgressModel",
          "model_module_version": "1.5.0",
          "state": {
            "_dom_classes": [],
            "_model_module": "@jupyter-widgets/controls",
            "_model_module_version": "1.5.0",
            "_model_name": "FloatProgressModel",
            "_view_count": null,
            "_view_module": "@jupyter-widgets/controls",
            "_view_module_version": "1.5.0",
            "_view_name": "ProgressView",
            "bar_style": "success",
            "description": "",
            "description_tooltip": null,
            "layout": "IPY_MODEL_e8a55704030b4268bddae25880200836",
            "max": 100000,
            "min": 0,
            "orientation": "horizontal",
            "style": "IPY_MODEL_ce4d8da0b1204138b387f0bff52a355d",
            "value": 100000
          }
        },
        "f5a77f05b44740308b619be4b755739e": {
          "model_module": "@jupyter-widgets/controls",
          "model_name": "HTMLModel",
          "model_module_version": "1.5.0",
          "state": {
            "_dom_classes": [],
            "_model_module": "@jupyter-widgets/controls",
            "_model_module_version": "1.5.0",
            "_model_name": "HTMLModel",
            "_view_count": null,
            "_view_module": "@jupyter-widgets/controls",
            "_view_module_version": "1.5.0",
            "_view_name": "HTMLView",
            "description": "",
            "description_tooltip": null,
            "layout": "IPY_MODEL_9e73c6aa52e840b8bc927348d3918cb7",
            "placeholder": "​",
            "style": "IPY_MODEL_2c64b9705d7f49f18231437cf194ef91",
            "value": " 100000/100000 [00:16&lt;00:00, 5940.66 examples/s]"
          }
        },
        "2fbfc171c3044f328f9a47b5b279d2c6": {
          "model_module": "@jupyter-widgets/base",
          "model_name": "LayoutModel",
          "model_module_version": "1.2.0",
          "state": {
            "_model_module": "@jupyter-widgets/base",
            "_model_module_version": "1.2.0",
            "_model_name": "LayoutModel",
            "_view_count": null,
            "_view_module": "@jupyter-widgets/base",
            "_view_module_version": "1.2.0",
            "_view_name": "LayoutView",
            "align_content": null,
            "align_items": null,
            "align_self": null,
            "border": null,
            "bottom": null,
            "display": null,
            "flex": null,
            "flex_flow": null,
            "grid_area": null,
            "grid_auto_columns": null,
            "grid_auto_flow": null,
            "grid_auto_rows": null,
            "grid_column": null,
            "grid_gap": null,
            "grid_row": null,
            "grid_template_areas": null,
            "grid_template_columns": null,
            "grid_template_rows": null,
            "height": null,
            "justify_content": null,
            "justify_items": null,
            "left": null,
            "margin": null,
            "max_height": null,
            "max_width": null,
            "min_height": null,
            "min_width": null,
            "object_fit": null,
            "object_position": null,
            "order": null,
            "overflow": null,
            "overflow_x": null,
            "overflow_y": null,
            "padding": null,
            "right": null,
            "top": null,
            "visibility": null,
            "width": null
          }
        },
        "5b25ce20145d40e296a991589084df26": {
          "model_module": "@jupyter-widgets/base",
          "model_name": "LayoutModel",
          "model_module_version": "1.2.0",
          "state": {
            "_model_module": "@jupyter-widgets/base",
            "_model_module_version": "1.2.0",
            "_model_name": "LayoutModel",
            "_view_count": null,
            "_view_module": "@jupyter-widgets/base",
            "_view_module_version": "1.2.0",
            "_view_name": "LayoutView",
            "align_content": null,
            "align_items": null,
            "align_self": null,
            "border": null,
            "bottom": null,
            "display": null,
            "flex": null,
            "flex_flow": null,
            "grid_area": null,
            "grid_auto_columns": null,
            "grid_auto_flow": null,
            "grid_auto_rows": null,
            "grid_column": null,
            "grid_gap": null,
            "grid_row": null,
            "grid_template_areas": null,
            "grid_template_columns": null,
            "grid_template_rows": null,
            "height": null,
            "justify_content": null,
            "justify_items": null,
            "left": null,
            "margin": null,
            "max_height": null,
            "max_width": null,
            "min_height": null,
            "min_width": null,
            "object_fit": null,
            "object_position": null,
            "order": null,
            "overflow": null,
            "overflow_x": null,
            "overflow_y": null,
            "padding": null,
            "right": null,
            "top": null,
            "visibility": null,
            "width": null
          }
        },
        "b0ea6d95ee624b908c27b9a886a144f2": {
          "model_module": "@jupyter-widgets/controls",
          "model_name": "DescriptionStyleModel",
          "model_module_version": "1.5.0",
          "state": {
            "_model_module": "@jupyter-widgets/controls",
            "_model_module_version": "1.5.0",
            "_model_name": "DescriptionStyleModel",
            "_view_count": null,
            "_view_module": "@jupyter-widgets/base",
            "_view_module_version": "1.2.0",
            "_view_name": "StyleView",
            "description_width": ""
          }
        },
        "e8a55704030b4268bddae25880200836": {
          "model_module": "@jupyter-widgets/base",
          "model_name": "LayoutModel",
          "model_module_version": "1.2.0",
          "state": {
            "_model_module": "@jupyter-widgets/base",
            "_model_module_version": "1.2.0",
            "_model_name": "LayoutModel",
            "_view_count": null,
            "_view_module": "@jupyter-widgets/base",
            "_view_module_version": "1.2.0",
            "_view_name": "LayoutView",
            "align_content": null,
            "align_items": null,
            "align_self": null,
            "border": null,
            "bottom": null,
            "display": null,
            "flex": null,
            "flex_flow": null,
            "grid_area": null,
            "grid_auto_columns": null,
            "grid_auto_flow": null,
            "grid_auto_rows": null,
            "grid_column": null,
            "grid_gap": null,
            "grid_row": null,
            "grid_template_areas": null,
            "grid_template_columns": null,
            "grid_template_rows": null,
            "height": null,
            "justify_content": null,
            "justify_items": null,
            "left": null,
            "margin": null,
            "max_height": null,
            "max_width": null,
            "min_height": null,
            "min_width": null,
            "object_fit": null,
            "object_position": null,
            "order": null,
            "overflow": null,
            "overflow_x": null,
            "overflow_y": null,
            "padding": null,
            "right": null,
            "top": null,
            "visibility": null,
            "width": null
          }
        },
        "ce4d8da0b1204138b387f0bff52a355d": {
          "model_module": "@jupyter-widgets/controls",
          "model_name": "ProgressStyleModel",
          "model_module_version": "1.5.0",
          "state": {
            "_model_module": "@jupyter-widgets/controls",
            "_model_module_version": "1.5.0",
            "_model_name": "ProgressStyleModel",
            "_view_count": null,
            "_view_module": "@jupyter-widgets/base",
            "_view_module_version": "1.2.0",
            "_view_name": "StyleView",
            "bar_color": null,
            "description_width": ""
          }
        },
        "9e73c6aa52e840b8bc927348d3918cb7": {
          "model_module": "@jupyter-widgets/base",
          "model_name": "LayoutModel",
          "model_module_version": "1.2.0",
          "state": {
            "_model_module": "@jupyter-widgets/base",
            "_model_module_version": "1.2.0",
            "_model_name": "LayoutModel",
            "_view_count": null,
            "_view_module": "@jupyter-widgets/base",
            "_view_module_version": "1.2.0",
            "_view_name": "LayoutView",
            "align_content": null,
            "align_items": null,
            "align_self": null,
            "border": null,
            "bottom": null,
            "display": null,
            "flex": null,
            "flex_flow": null,
            "grid_area": null,
            "grid_auto_columns": null,
            "grid_auto_flow": null,
            "grid_auto_rows": null,
            "grid_column": null,
            "grid_gap": null,
            "grid_row": null,
            "grid_template_areas": null,
            "grid_template_columns": null,
            "grid_template_rows": null,
            "height": null,
            "justify_content": null,
            "justify_items": null,
            "left": null,
            "margin": null,
            "max_height": null,
            "max_width": null,
            "min_height": null,
            "min_width": null,
            "object_fit": null,
            "object_position": null,
            "order": null,
            "overflow": null,
            "overflow_x": null,
            "overflow_y": null,
            "padding": null,
            "right": null,
            "top": null,
            "visibility": null,
            "width": null
          }
        },
        "2c64b9705d7f49f18231437cf194ef91": {
          "model_module": "@jupyter-widgets/controls",
          "model_name": "DescriptionStyleModel",
          "model_module_version": "1.5.0",
          "state": {
            "_model_module": "@jupyter-widgets/controls",
            "_model_module_version": "1.5.0",
            "_model_name": "DescriptionStyleModel",
            "_view_count": null,
            "_view_module": "@jupyter-widgets/base",
            "_view_module_version": "1.2.0",
            "_view_name": "StyleView",
            "description_width": ""
          }
        },
        "67883cfac66d4f6db24207f105d9200e": {
          "model_module": "@jupyter-widgets/controls",
          "model_name": "HBoxModel",
          "model_module_version": "1.5.0",
          "state": {
            "_dom_classes": [],
            "_model_module": "@jupyter-widgets/controls",
            "_model_module_version": "1.5.0",
            "_model_name": "HBoxModel",
            "_view_count": null,
            "_view_module": "@jupyter-widgets/controls",
            "_view_module_version": "1.5.0",
            "_view_name": "HBoxView",
            "box_style": "",
            "children": [
              "IPY_MODEL_18ed79f0965d4236bc7e705de02181ef",
              "IPY_MODEL_b7eb082dfff7459eb4eb3c5be12241d1",
              "IPY_MODEL_35f198fef3364a3083ce15e0400a9790"
            ],
            "layout": "IPY_MODEL_5d660984b58840ae89d7c19c27ed451b"
          }
        },
        "18ed79f0965d4236bc7e705de02181ef": {
          "model_module": "@jupyter-widgets/controls",
          "model_name": "HTMLModel",
          "model_module_version": "1.5.0",
          "state": {
            "_dom_classes": [],
            "_model_module": "@jupyter-widgets/controls",
            "_model_module_version": "1.5.0",
            "_model_name": "HTMLModel",
            "_view_count": null,
            "_view_module": "@jupyter-widgets/controls",
            "_view_module_version": "1.5.0",
            "_view_name": "HTMLView",
            "description": "",
            "description_tooltip": null,
            "layout": "IPY_MODEL_3e21292d7d6642a99e947ae9e94e330a",
            "placeholder": "​",
            "style": "IPY_MODEL_4b06ec8492074f89a196ea5ae0c64716",
            "value": "Map (num_proc=2): 100%"
          }
        },
        "b7eb082dfff7459eb4eb3c5be12241d1": {
          "model_module": "@jupyter-widgets/controls",
          "model_name": "FloatProgressModel",
          "model_module_version": "1.5.0",
          "state": {
            "_dom_classes": [],
            "_model_module": "@jupyter-widgets/controls",
            "_model_module_version": "1.5.0",
            "_model_name": "FloatProgressModel",
            "_view_count": null,
            "_view_module": "@jupyter-widgets/controls",
            "_view_module_version": "1.5.0",
            "_view_name": "ProgressView",
            "bar_style": "success",
            "description": "",
            "description_tooltip": null,
            "layout": "IPY_MODEL_c9b3f72f7c3649a9b7f08c0adecec349",
            "max": 100000,
            "min": 0,
            "orientation": "horizontal",
            "style": "IPY_MODEL_ca2f3a545ddf4c3da06d4b955eb84ec5",
            "value": 100000
          }
        },
        "35f198fef3364a3083ce15e0400a9790": {
          "model_module": "@jupyter-widgets/controls",
          "model_name": "HTMLModel",
          "model_module_version": "1.5.0",
          "state": {
            "_dom_classes": [],
            "_model_module": "@jupyter-widgets/controls",
            "_model_module_version": "1.5.0",
            "_model_name": "HTMLModel",
            "_view_count": null,
            "_view_module": "@jupyter-widgets/controls",
            "_view_module_version": "1.5.0",
            "_view_name": "HTMLView",
            "description": "",
            "description_tooltip": null,
            "layout": "IPY_MODEL_d0212ccdfaaa4dc2bc01db7291ddfb3d",
            "placeholder": "​",
            "style": "IPY_MODEL_1d661a00a2064c67990176ea71b523d8",
            "value": " 100000/100000 [03:37&lt;00:00, 419.30 examples/s]"
          }
        },
        "5d660984b58840ae89d7c19c27ed451b": {
          "model_module": "@jupyter-widgets/base",
          "model_name": "LayoutModel",
          "model_module_version": "1.2.0",
          "state": {
            "_model_module": "@jupyter-widgets/base",
            "_model_module_version": "1.2.0",
            "_model_name": "LayoutModel",
            "_view_count": null,
            "_view_module": "@jupyter-widgets/base",
            "_view_module_version": "1.2.0",
            "_view_name": "LayoutView",
            "align_content": null,
            "align_items": null,
            "align_self": null,
            "border": null,
            "bottom": null,
            "display": null,
            "flex": null,
            "flex_flow": null,
            "grid_area": null,
            "grid_auto_columns": null,
            "grid_auto_flow": null,
            "grid_auto_rows": null,
            "grid_column": null,
            "grid_gap": null,
            "grid_row": null,
            "grid_template_areas": null,
            "grid_template_columns": null,
            "grid_template_rows": null,
            "height": null,
            "justify_content": null,
            "justify_items": null,
            "left": null,
            "margin": null,
            "max_height": null,
            "max_width": null,
            "min_height": null,
            "min_width": null,
            "object_fit": null,
            "object_position": null,
            "order": null,
            "overflow": null,
            "overflow_x": null,
            "overflow_y": null,
            "padding": null,
            "right": null,
            "top": null,
            "visibility": null,
            "width": null
          }
        },
        "3e21292d7d6642a99e947ae9e94e330a": {
          "model_module": "@jupyter-widgets/base",
          "model_name": "LayoutModel",
          "model_module_version": "1.2.0",
          "state": {
            "_model_module": "@jupyter-widgets/base",
            "_model_module_version": "1.2.0",
            "_model_name": "LayoutModel",
            "_view_count": null,
            "_view_module": "@jupyter-widgets/base",
            "_view_module_version": "1.2.0",
            "_view_name": "LayoutView",
            "align_content": null,
            "align_items": null,
            "align_self": null,
            "border": null,
            "bottom": null,
            "display": null,
            "flex": null,
            "flex_flow": null,
            "grid_area": null,
            "grid_auto_columns": null,
            "grid_auto_flow": null,
            "grid_auto_rows": null,
            "grid_column": null,
            "grid_gap": null,
            "grid_row": null,
            "grid_template_areas": null,
            "grid_template_columns": null,
            "grid_template_rows": null,
            "height": null,
            "justify_content": null,
            "justify_items": null,
            "left": null,
            "margin": null,
            "max_height": null,
            "max_width": null,
            "min_height": null,
            "min_width": null,
            "object_fit": null,
            "object_position": null,
            "order": null,
            "overflow": null,
            "overflow_x": null,
            "overflow_y": null,
            "padding": null,
            "right": null,
            "top": null,
            "visibility": null,
            "width": null
          }
        },
        "4b06ec8492074f89a196ea5ae0c64716": {
          "model_module": "@jupyter-widgets/controls",
          "model_name": "DescriptionStyleModel",
          "model_module_version": "1.5.0",
          "state": {
            "_model_module": "@jupyter-widgets/controls",
            "_model_module_version": "1.5.0",
            "_model_name": "DescriptionStyleModel",
            "_view_count": null,
            "_view_module": "@jupyter-widgets/base",
            "_view_module_version": "1.2.0",
            "_view_name": "StyleView",
            "description_width": ""
          }
        },
        "c9b3f72f7c3649a9b7f08c0adecec349": {
          "model_module": "@jupyter-widgets/base",
          "model_name": "LayoutModel",
          "model_module_version": "1.2.0",
          "state": {
            "_model_module": "@jupyter-widgets/base",
            "_model_module_version": "1.2.0",
            "_model_name": "LayoutModel",
            "_view_count": null,
            "_view_module": "@jupyter-widgets/base",
            "_view_module_version": "1.2.0",
            "_view_name": "LayoutView",
            "align_content": null,
            "align_items": null,
            "align_self": null,
            "border": null,
            "bottom": null,
            "display": null,
            "flex": null,
            "flex_flow": null,
            "grid_area": null,
            "grid_auto_columns": null,
            "grid_auto_flow": null,
            "grid_auto_rows": null,
            "grid_column": null,
            "grid_gap": null,
            "grid_row": null,
            "grid_template_areas": null,
            "grid_template_columns": null,
            "grid_template_rows": null,
            "height": null,
            "justify_content": null,
            "justify_items": null,
            "left": null,
            "margin": null,
            "max_height": null,
            "max_width": null,
            "min_height": null,
            "min_width": null,
            "object_fit": null,
            "object_position": null,
            "order": null,
            "overflow": null,
            "overflow_x": null,
            "overflow_y": null,
            "padding": null,
            "right": null,
            "top": null,
            "visibility": null,
            "width": null
          }
        },
        "ca2f3a545ddf4c3da06d4b955eb84ec5": {
          "model_module": "@jupyter-widgets/controls",
          "model_name": "ProgressStyleModel",
          "model_module_version": "1.5.0",
          "state": {
            "_model_module": "@jupyter-widgets/controls",
            "_model_module_version": "1.5.0",
            "_model_name": "ProgressStyleModel",
            "_view_count": null,
            "_view_module": "@jupyter-widgets/base",
            "_view_module_version": "1.2.0",
            "_view_name": "StyleView",
            "bar_color": null,
            "description_width": ""
          }
        },
        "d0212ccdfaaa4dc2bc01db7291ddfb3d": {
          "model_module": "@jupyter-widgets/base",
          "model_name": "LayoutModel",
          "model_module_version": "1.2.0",
          "state": {
            "_model_module": "@jupyter-widgets/base",
            "_model_module_version": "1.2.0",
            "_model_name": "LayoutModel",
            "_view_count": null,
            "_view_module": "@jupyter-widgets/base",
            "_view_module_version": "1.2.0",
            "_view_name": "LayoutView",
            "align_content": null,
            "align_items": null,
            "align_self": null,
            "border": null,
            "bottom": null,
            "display": null,
            "flex": null,
            "flex_flow": null,
            "grid_area": null,
            "grid_auto_columns": null,
            "grid_auto_flow": null,
            "grid_auto_rows": null,
            "grid_column": null,
            "grid_gap": null,
            "grid_row": null,
            "grid_template_areas": null,
            "grid_template_columns": null,
            "grid_template_rows": null,
            "height": null,
            "justify_content": null,
            "justify_items": null,
            "left": null,
            "margin": null,
            "max_height": null,
            "max_width": null,
            "min_height": null,
            "min_width": null,
            "object_fit": null,
            "object_position": null,
            "order": null,
            "overflow": null,
            "overflow_x": null,
            "overflow_y": null,
            "padding": null,
            "right": null,
            "top": null,
            "visibility": null,
            "width": null
          }
        },
        "1d661a00a2064c67990176ea71b523d8": {
          "model_module": "@jupyter-widgets/controls",
          "model_name": "DescriptionStyleModel",
          "model_module_version": "1.5.0",
          "state": {
            "_model_module": "@jupyter-widgets/controls",
            "_model_module_version": "1.5.0",
            "_model_name": "DescriptionStyleModel",
            "_view_count": null,
            "_view_module": "@jupyter-widgets/base",
            "_view_module_version": "1.2.0",
            "_view_name": "StyleView",
            "description_width": ""
          }
        },
        "2122845853e34d19a7b0904ef155b66a": {
          "model_module": "@jupyter-widgets/controls",
          "model_name": "HBoxModel",
          "model_module_version": "1.5.0",
          "state": {
            "_dom_classes": [],
            "_model_module": "@jupyter-widgets/controls",
            "_model_module_version": "1.5.0",
            "_model_name": "HBoxModel",
            "_view_count": null,
            "_view_module": "@jupyter-widgets/controls",
            "_view_module_version": "1.5.0",
            "_view_name": "HBoxView",
            "box_style": "",
            "children": [
              "IPY_MODEL_bbefcff11da74e4593b97c343519f858",
              "IPY_MODEL_6f7255e217f9402194d3eef684858841",
              "IPY_MODEL_5dd24f135a064f2f80cad13723cf2349"
            ],
            "layout": "IPY_MODEL_b04c141f33cc4e1bab9ab6b7c5c1679b"
          }
        },
        "bbefcff11da74e4593b97c343519f858": {
          "model_module": "@jupyter-widgets/controls",
          "model_name": "HTMLModel",
          "model_module_version": "1.5.0",
          "state": {
            "_dom_classes": [],
            "_model_module": "@jupyter-widgets/controls",
            "_model_module_version": "1.5.0",
            "_model_name": "HTMLModel",
            "_view_count": null,
            "_view_module": "@jupyter-widgets/controls",
            "_view_module_version": "1.5.0",
            "_view_name": "HTMLView",
            "description": "",
            "description_tooltip": null,
            "layout": "IPY_MODEL_6b1c673d38974f588dfe4993f3556095",
            "placeholder": "​",
            "style": "IPY_MODEL_4f5029112183479999fa9fe50621f7f6",
            "value": "Map: 100%"
          }
        },
        "6f7255e217f9402194d3eef684858841": {
          "model_module": "@jupyter-widgets/controls",
          "model_name": "FloatProgressModel",
          "model_module_version": "1.5.0",
          "state": {
            "_dom_classes": [],
            "_model_module": "@jupyter-widgets/controls",
            "_model_module_version": "1.5.0",
            "_model_name": "FloatProgressModel",
            "_view_count": null,
            "_view_module": "@jupyter-widgets/controls",
            "_view_module_version": "1.5.0",
            "_view_name": "ProgressView",
            "bar_style": "success",
            "description": "",
            "description_tooltip": null,
            "layout": "IPY_MODEL_869969a6440a4ab488ce2d3f1b4c5e70",
            "max": 100000,
            "min": 0,
            "orientation": "horizontal",
            "style": "IPY_MODEL_bb9771bd9b004f3491b92c4782cecae8",
            "value": 100000
          }
        },
        "5dd24f135a064f2f80cad13723cf2349": {
          "model_module": "@jupyter-widgets/controls",
          "model_name": "HTMLModel",
          "model_module_version": "1.5.0",
          "state": {
            "_dom_classes": [],
            "_model_module": "@jupyter-widgets/controls",
            "_model_module_version": "1.5.0",
            "_model_name": "HTMLModel",
            "_view_count": null,
            "_view_module": "@jupyter-widgets/controls",
            "_view_module_version": "1.5.0",
            "_view_name": "HTMLView",
            "description": "",
            "description_tooltip": null,
            "layout": "IPY_MODEL_015626fcc7f24332adcc007d30749c04",
            "placeholder": "​",
            "style": "IPY_MODEL_6c29f682bfe74b0b985aa4708a6c3c28",
            "value": " 100000/100000 [00:51&lt;00:00, 1478.09 examples/s]"
          }
        },
        "b04c141f33cc4e1bab9ab6b7c5c1679b": {
          "model_module": "@jupyter-widgets/base",
          "model_name": "LayoutModel",
          "model_module_version": "1.2.0",
          "state": {
            "_model_module": "@jupyter-widgets/base",
            "_model_module_version": "1.2.0",
            "_model_name": "LayoutModel",
            "_view_count": null,
            "_view_module": "@jupyter-widgets/base",
            "_view_module_version": "1.2.0",
            "_view_name": "LayoutView",
            "align_content": null,
            "align_items": null,
            "align_self": null,
            "border": null,
            "bottom": null,
            "display": null,
            "flex": null,
            "flex_flow": null,
            "grid_area": null,
            "grid_auto_columns": null,
            "grid_auto_flow": null,
            "grid_auto_rows": null,
            "grid_column": null,
            "grid_gap": null,
            "grid_row": null,
            "grid_template_areas": null,
            "grid_template_columns": null,
            "grid_template_rows": null,
            "height": null,
            "justify_content": null,
            "justify_items": null,
            "left": null,
            "margin": null,
            "max_height": null,
            "max_width": null,
            "min_height": null,
            "min_width": null,
            "object_fit": null,
            "object_position": null,
            "order": null,
            "overflow": null,
            "overflow_x": null,
            "overflow_y": null,
            "padding": null,
            "right": null,
            "top": null,
            "visibility": null,
            "width": null
          }
        },
        "6b1c673d38974f588dfe4993f3556095": {
          "model_module": "@jupyter-widgets/base",
          "model_name": "LayoutModel",
          "model_module_version": "1.2.0",
          "state": {
            "_model_module": "@jupyter-widgets/base",
            "_model_module_version": "1.2.0",
            "_model_name": "LayoutModel",
            "_view_count": null,
            "_view_module": "@jupyter-widgets/base",
            "_view_module_version": "1.2.0",
            "_view_name": "LayoutView",
            "align_content": null,
            "align_items": null,
            "align_self": null,
            "border": null,
            "bottom": null,
            "display": null,
            "flex": null,
            "flex_flow": null,
            "grid_area": null,
            "grid_auto_columns": null,
            "grid_auto_flow": null,
            "grid_auto_rows": null,
            "grid_column": null,
            "grid_gap": null,
            "grid_row": null,
            "grid_template_areas": null,
            "grid_template_columns": null,
            "grid_template_rows": null,
            "height": null,
            "justify_content": null,
            "justify_items": null,
            "left": null,
            "margin": null,
            "max_height": null,
            "max_width": null,
            "min_height": null,
            "min_width": null,
            "object_fit": null,
            "object_position": null,
            "order": null,
            "overflow": null,
            "overflow_x": null,
            "overflow_y": null,
            "padding": null,
            "right": null,
            "top": null,
            "visibility": null,
            "width": null
          }
        },
        "4f5029112183479999fa9fe50621f7f6": {
          "model_module": "@jupyter-widgets/controls",
          "model_name": "DescriptionStyleModel",
          "model_module_version": "1.5.0",
          "state": {
            "_model_module": "@jupyter-widgets/controls",
            "_model_module_version": "1.5.0",
            "_model_name": "DescriptionStyleModel",
            "_view_count": null,
            "_view_module": "@jupyter-widgets/base",
            "_view_module_version": "1.2.0",
            "_view_name": "StyleView",
            "description_width": ""
          }
        },
        "869969a6440a4ab488ce2d3f1b4c5e70": {
          "model_module": "@jupyter-widgets/base",
          "model_name": "LayoutModel",
          "model_module_version": "1.2.0",
          "state": {
            "_model_module": "@jupyter-widgets/base",
            "_model_module_version": "1.2.0",
            "_model_name": "LayoutModel",
            "_view_count": null,
            "_view_module": "@jupyter-widgets/base",
            "_view_module_version": "1.2.0",
            "_view_name": "LayoutView",
            "align_content": null,
            "align_items": null,
            "align_self": null,
            "border": null,
            "bottom": null,
            "display": null,
            "flex": null,
            "flex_flow": null,
            "grid_area": null,
            "grid_auto_columns": null,
            "grid_auto_flow": null,
            "grid_auto_rows": null,
            "grid_column": null,
            "grid_gap": null,
            "grid_row": null,
            "grid_template_areas": null,
            "grid_template_columns": null,
            "grid_template_rows": null,
            "height": null,
            "justify_content": null,
            "justify_items": null,
            "left": null,
            "margin": null,
            "max_height": null,
            "max_width": null,
            "min_height": null,
            "min_width": null,
            "object_fit": null,
            "object_position": null,
            "order": null,
            "overflow": null,
            "overflow_x": null,
            "overflow_y": null,
            "padding": null,
            "right": null,
            "top": null,
            "visibility": null,
            "width": null
          }
        },
        "bb9771bd9b004f3491b92c4782cecae8": {
          "model_module": "@jupyter-widgets/controls",
          "model_name": "ProgressStyleModel",
          "model_module_version": "1.5.0",
          "state": {
            "_model_module": "@jupyter-widgets/controls",
            "_model_module_version": "1.5.0",
            "_model_name": "ProgressStyleModel",
            "_view_count": null,
            "_view_module": "@jupyter-widgets/base",
            "_view_module_version": "1.2.0",
            "_view_name": "StyleView",
            "bar_color": null,
            "description_width": ""
          }
        },
        "015626fcc7f24332adcc007d30749c04": {
          "model_module": "@jupyter-widgets/base",
          "model_name": "LayoutModel",
          "model_module_version": "1.2.0",
          "state": {
            "_model_module": "@jupyter-widgets/base",
            "_model_module_version": "1.2.0",
            "_model_name": "LayoutModel",
            "_view_count": null,
            "_view_module": "@jupyter-widgets/base",
            "_view_module_version": "1.2.0",
            "_view_name": "LayoutView",
            "align_content": null,
            "align_items": null,
            "align_self": null,
            "border": null,
            "bottom": null,
            "display": null,
            "flex": null,
            "flex_flow": null,
            "grid_area": null,
            "grid_auto_columns": null,
            "grid_auto_flow": null,
            "grid_auto_rows": null,
            "grid_column": null,
            "grid_gap": null,
            "grid_row": null,
            "grid_template_areas": null,
            "grid_template_columns": null,
            "grid_template_rows": null,
            "height": null,
            "justify_content": null,
            "justify_items": null,
            "left": null,
            "margin": null,
            "max_height": null,
            "max_width": null,
            "min_height": null,
            "min_width": null,
            "object_fit": null,
            "object_position": null,
            "order": null,
            "overflow": null,
            "overflow_x": null,
            "overflow_y": null,
            "padding": null,
            "right": null,
            "top": null,
            "visibility": null,
            "width": null
          }
        },
        "6c29f682bfe74b0b985aa4708a6c3c28": {
          "model_module": "@jupyter-widgets/controls",
          "model_name": "DescriptionStyleModel",
          "model_module_version": "1.5.0",
          "state": {
            "_model_module": "@jupyter-widgets/controls",
            "_model_module_version": "1.5.0",
            "_model_name": "DescriptionStyleModel",
            "_view_count": null,
            "_view_module": "@jupyter-widgets/base",
            "_view_module_version": "1.2.0",
            "_view_name": "StyleView",
            "description_width": ""
          }
        },
        "2b28769da39747329d9d0421ce02d203": {
          "model_module": "@jupyter-widgets/controls",
          "model_name": "HBoxModel",
          "model_module_version": "1.5.0",
          "state": {
            "_dom_classes": [],
            "_model_module": "@jupyter-widgets/controls",
            "_model_module_version": "1.5.0",
            "_model_name": "HBoxModel",
            "_view_count": null,
            "_view_module": "@jupyter-widgets/controls",
            "_view_module_version": "1.5.0",
            "_view_name": "HBoxView",
            "box_style": "",
            "children": [
              "IPY_MODEL_da1d282d04f045298d870e1d424eb450",
              "IPY_MODEL_26962a9e78c640c7b940190d95ced568",
              "IPY_MODEL_b5c73d856bec41beb6010fe61cae322c"
            ],
            "layout": "IPY_MODEL_3ef82b38600145d3a94bade8a7270902"
          }
        },
        "da1d282d04f045298d870e1d424eb450": {
          "model_module": "@jupyter-widgets/controls",
          "model_name": "HTMLModel",
          "model_module_version": "1.5.0",
          "state": {
            "_dom_classes": [],
            "_model_module": "@jupyter-widgets/controls",
            "_model_module_version": "1.5.0",
            "_model_name": "HTMLModel",
            "_view_count": null,
            "_view_module": "@jupyter-widgets/controls",
            "_view_module_version": "1.5.0",
            "_view_name": "HTMLView",
            "description": "",
            "description_tooltip": null,
            "layout": "IPY_MODEL_c2cfa1fadf2f47fbb8b0b6d65f87229f",
            "placeholder": "​",
            "style": "IPY_MODEL_cd7282e3aad8423aae707efaefd093ce",
            "value": "Unsloth: Standardizing formats (num_proc=2): 100%"
          }
        },
        "26962a9e78c640c7b940190d95ced568": {
          "model_module": "@jupyter-widgets/controls",
          "model_name": "FloatProgressModel",
          "model_module_version": "1.5.0",
          "state": {
            "_dom_classes": [],
            "_model_module": "@jupyter-widgets/controls",
            "_model_module_version": "1.5.0",
            "_model_name": "FloatProgressModel",
            "_view_count": null,
            "_view_module": "@jupyter-widgets/controls",
            "_view_module_version": "1.5.0",
            "_view_name": "ProgressView",
            "bar_style": "success",
            "description": "",
            "description_tooltip": null,
            "layout": "IPY_MODEL_b8df7d511a7d4f19a7013e51a7d9281b",
            "max": 4,
            "min": 0,
            "orientation": "horizontal",
            "style": "IPY_MODEL_f734d18ac1be49bc8cd3eff3fc6ebff0",
            "value": 4
          }
        },
        "b5c73d856bec41beb6010fe61cae322c": {
          "model_module": "@jupyter-widgets/controls",
          "model_name": "HTMLModel",
          "model_module_version": "1.5.0",
          "state": {
            "_dom_classes": [],
            "_model_module": "@jupyter-widgets/controls",
            "_model_module_version": "1.5.0",
            "_model_name": "HTMLModel",
            "_view_count": null,
            "_view_module": "@jupyter-widgets/controls",
            "_view_module_version": "1.5.0",
            "_view_name": "HTMLView",
            "description": "",
            "description_tooltip": null,
            "layout": "IPY_MODEL_ee27ee6cecbf4e95a618ae6d0c8bc237",
            "placeholder": "​",
            "style": "IPY_MODEL_bda131810af545a1893ae8d3deac2a7a",
            "value": " 4/4 [00:00&lt;00:00, 11.92 examples/s]"
          }
        },
        "3ef82b38600145d3a94bade8a7270902": {
          "model_module": "@jupyter-widgets/base",
          "model_name": "LayoutModel",
          "model_module_version": "1.2.0",
          "state": {
            "_model_module": "@jupyter-widgets/base",
            "_model_module_version": "1.2.0",
            "_model_name": "LayoutModel",
            "_view_count": null,
            "_view_module": "@jupyter-widgets/base",
            "_view_module_version": "1.2.0",
            "_view_name": "LayoutView",
            "align_content": null,
            "align_items": null,
            "align_self": null,
            "border": null,
            "bottom": null,
            "display": null,
            "flex": null,
            "flex_flow": null,
            "grid_area": null,
            "grid_auto_columns": null,
            "grid_auto_flow": null,
            "grid_auto_rows": null,
            "grid_column": null,
            "grid_gap": null,
            "grid_row": null,
            "grid_template_areas": null,
            "grid_template_columns": null,
            "grid_template_rows": null,
            "height": null,
            "justify_content": null,
            "justify_items": null,
            "left": null,
            "margin": null,
            "max_height": null,
            "max_width": null,
            "min_height": null,
            "min_width": null,
            "object_fit": null,
            "object_position": null,
            "order": null,
            "overflow": null,
            "overflow_x": null,
            "overflow_y": null,
            "padding": null,
            "right": null,
            "top": null,
            "visibility": null,
            "width": null
          }
        },
        "c2cfa1fadf2f47fbb8b0b6d65f87229f": {
          "model_module": "@jupyter-widgets/base",
          "model_name": "LayoutModel",
          "model_module_version": "1.2.0",
          "state": {
            "_model_module": "@jupyter-widgets/base",
            "_model_module_version": "1.2.0",
            "_model_name": "LayoutModel",
            "_view_count": null,
            "_view_module": "@jupyter-widgets/base",
            "_view_module_version": "1.2.0",
            "_view_name": "LayoutView",
            "align_content": null,
            "align_items": null,
            "align_self": null,
            "border": null,
            "bottom": null,
            "display": null,
            "flex": null,
            "flex_flow": null,
            "grid_area": null,
            "grid_auto_columns": null,
            "grid_auto_flow": null,
            "grid_auto_rows": null,
            "grid_column": null,
            "grid_gap": null,
            "grid_row": null,
            "grid_template_areas": null,
            "grid_template_columns": null,
            "grid_template_rows": null,
            "height": null,
            "justify_content": null,
            "justify_items": null,
            "left": null,
            "margin": null,
            "max_height": null,
            "max_width": null,
            "min_height": null,
            "min_width": null,
            "object_fit": null,
            "object_position": null,
            "order": null,
            "overflow": null,
            "overflow_x": null,
            "overflow_y": null,
            "padding": null,
            "right": null,
            "top": null,
            "visibility": null,
            "width": null
          }
        },
        "cd7282e3aad8423aae707efaefd093ce": {
          "model_module": "@jupyter-widgets/controls",
          "model_name": "DescriptionStyleModel",
          "model_module_version": "1.5.0",
          "state": {
            "_model_module": "@jupyter-widgets/controls",
            "_model_module_version": "1.5.0",
            "_model_name": "DescriptionStyleModel",
            "_view_count": null,
            "_view_module": "@jupyter-widgets/base",
            "_view_module_version": "1.2.0",
            "_view_name": "StyleView",
            "description_width": ""
          }
        },
        "b8df7d511a7d4f19a7013e51a7d9281b": {
          "model_module": "@jupyter-widgets/base",
          "model_name": "LayoutModel",
          "model_module_version": "1.2.0",
          "state": {
            "_model_module": "@jupyter-widgets/base",
            "_model_module_version": "1.2.0",
            "_model_name": "LayoutModel",
            "_view_count": null,
            "_view_module": "@jupyter-widgets/base",
            "_view_module_version": "1.2.0",
            "_view_name": "LayoutView",
            "align_content": null,
            "align_items": null,
            "align_self": null,
            "border": null,
            "bottom": null,
            "display": null,
            "flex": null,
            "flex_flow": null,
            "grid_area": null,
            "grid_auto_columns": null,
            "grid_auto_flow": null,
            "grid_auto_rows": null,
            "grid_column": null,
            "grid_gap": null,
            "grid_row": null,
            "grid_template_areas": null,
            "grid_template_columns": null,
            "grid_template_rows": null,
            "height": null,
            "justify_content": null,
            "justify_items": null,
            "left": null,
            "margin": null,
            "max_height": null,
            "max_width": null,
            "min_height": null,
            "min_width": null,
            "object_fit": null,
            "object_position": null,
            "order": null,
            "overflow": null,
            "overflow_x": null,
            "overflow_y": null,
            "padding": null,
            "right": null,
            "top": null,
            "visibility": null,
            "width": null
          }
        },
        "f734d18ac1be49bc8cd3eff3fc6ebff0": {
          "model_module": "@jupyter-widgets/controls",
          "model_name": "ProgressStyleModel",
          "model_module_version": "1.5.0",
          "state": {
            "_model_module": "@jupyter-widgets/controls",
            "_model_module_version": "1.5.0",
            "_model_name": "ProgressStyleModel",
            "_view_count": null,
            "_view_module": "@jupyter-widgets/base",
            "_view_module_version": "1.2.0",
            "_view_name": "StyleView",
            "bar_color": null,
            "description_width": ""
          }
        },
        "ee27ee6cecbf4e95a618ae6d0c8bc237": {
          "model_module": "@jupyter-widgets/base",
          "model_name": "LayoutModel",
          "model_module_version": "1.2.0",
          "state": {
            "_model_module": "@jupyter-widgets/base",
            "_model_module_version": "1.2.0",
            "_model_name": "LayoutModel",
            "_view_count": null,
            "_view_module": "@jupyter-widgets/base",
            "_view_module_version": "1.2.0",
            "_view_name": "LayoutView",
            "align_content": null,
            "align_items": null,
            "align_self": null,
            "border": null,
            "bottom": null,
            "display": null,
            "flex": null,
            "flex_flow": null,
            "grid_area": null,
            "grid_auto_columns": null,
            "grid_auto_flow": null,
            "grid_auto_rows": null,
            "grid_column": null,
            "grid_gap": null,
            "grid_row": null,
            "grid_template_areas": null,
            "grid_template_columns": null,
            "grid_template_rows": null,
            "height": null,
            "justify_content": null,
            "justify_items": null,
            "left": null,
            "margin": null,
            "max_height": null,
            "max_width": null,
            "min_height": null,
            "min_width": null,
            "object_fit": null,
            "object_position": null,
            "order": null,
            "overflow": null,
            "overflow_x": null,
            "overflow_y": null,
            "padding": null,
            "right": null,
            "top": null,
            "visibility": null,
            "width": null
          }
        },
        "bda131810af545a1893ae8d3deac2a7a": {
          "model_module": "@jupyter-widgets/controls",
          "model_name": "DescriptionStyleModel",
          "model_module_version": "1.5.0",
          "state": {
            "_model_module": "@jupyter-widgets/controls",
            "_model_module_version": "1.5.0",
            "_model_name": "DescriptionStyleModel",
            "_view_count": null,
            "_view_module": "@jupyter-widgets/base",
            "_view_module_version": "1.2.0",
            "_view_name": "StyleView",
            "description_width": ""
          }
        },
        "ebcea539690341db80b8fb0b05f42047": {
          "model_module": "@jupyter-widgets/controls",
          "model_name": "HBoxModel",
          "model_module_version": "1.5.0",
          "state": {
            "_dom_classes": [],
            "_model_module": "@jupyter-widgets/controls",
            "_model_module_version": "1.5.0",
            "_model_name": "HBoxModel",
            "_view_count": null,
            "_view_module": "@jupyter-widgets/controls",
            "_view_module_version": "1.5.0",
            "_view_name": "HBoxView",
            "box_style": "",
            "children": [
              "IPY_MODEL_fb78e5628dc5463ba84861e17ce6f199",
              "IPY_MODEL_cd5e27f945ad4910b386830430da5731",
              "IPY_MODEL_f2564491cf874d778e2447a1f55d2421"
            ],
            "layout": "IPY_MODEL_e377c26339b14c2c87d7d6fb5520c35d"
          }
        },
        "fb78e5628dc5463ba84861e17ce6f199": {
          "model_module": "@jupyter-widgets/controls",
          "model_name": "HTMLModel",
          "model_module_version": "1.5.0",
          "state": {
            "_dom_classes": [],
            "_model_module": "@jupyter-widgets/controls",
            "_model_module_version": "1.5.0",
            "_model_name": "HTMLModel",
            "_view_count": null,
            "_view_module": "@jupyter-widgets/controls",
            "_view_module_version": "1.5.0",
            "_view_name": "HTMLView",
            "description": "",
            "description_tooltip": null,
            "layout": "IPY_MODEL_c4e2f9b377fc40b0aa20bbac96e6f54c",
            "placeholder": "​",
            "style": "IPY_MODEL_ad7536e956cf4eb78f2d4457025e8d14",
            "value": "Map: 100%"
          }
        },
        "cd5e27f945ad4910b386830430da5731": {
          "model_module": "@jupyter-widgets/controls",
          "model_name": "FloatProgressModel",
          "model_module_version": "1.5.0",
          "state": {
            "_dom_classes": [],
            "_model_module": "@jupyter-widgets/controls",
            "_model_module_version": "1.5.0",
            "_model_name": "FloatProgressModel",
            "_view_count": null,
            "_view_module": "@jupyter-widgets/controls",
            "_view_module_version": "1.5.0",
            "_view_name": "ProgressView",
            "bar_style": "success",
            "description": "",
            "description_tooltip": null,
            "layout": "IPY_MODEL_34ae0b94354d4fcd914fc2f54b2ab47c",
            "max": 4,
            "min": 0,
            "orientation": "horizontal",
            "style": "IPY_MODEL_27cdadbcccbc44af933adbe3dd45a5b3",
            "value": 4
          }
        },
        "f2564491cf874d778e2447a1f55d2421": {
          "model_module": "@jupyter-widgets/controls",
          "model_name": "HTMLModel",
          "model_module_version": "1.5.0",
          "state": {
            "_dom_classes": [],
            "_model_module": "@jupyter-widgets/controls",
            "_model_module_version": "1.5.0",
            "_model_name": "HTMLModel",
            "_view_count": null,
            "_view_module": "@jupyter-widgets/controls",
            "_view_module_version": "1.5.0",
            "_view_name": "HTMLView",
            "description": "",
            "description_tooltip": null,
            "layout": "IPY_MODEL_34c1cb3717714b24824198e93cf3246f",
            "placeholder": "​",
            "style": "IPY_MODEL_fe890a1e65754936ad129c4753ebfba8",
            "value": " 4/4 [00:00&lt;00:00, 55.73 examples/s]"
          }
        },
        "e377c26339b14c2c87d7d6fb5520c35d": {
          "model_module": "@jupyter-widgets/base",
          "model_name": "LayoutModel",
          "model_module_version": "1.2.0",
          "state": {
            "_model_module": "@jupyter-widgets/base",
            "_model_module_version": "1.2.0",
            "_model_name": "LayoutModel",
            "_view_count": null,
            "_view_module": "@jupyter-widgets/base",
            "_view_module_version": "1.2.0",
            "_view_name": "LayoutView",
            "align_content": null,
            "align_items": null,
            "align_self": null,
            "border": null,
            "bottom": null,
            "display": null,
            "flex": null,
            "flex_flow": null,
            "grid_area": null,
            "grid_auto_columns": null,
            "grid_auto_flow": null,
            "grid_auto_rows": null,
            "grid_column": null,
            "grid_gap": null,
            "grid_row": null,
            "grid_template_areas": null,
            "grid_template_columns": null,
            "grid_template_rows": null,
            "height": null,
            "justify_content": null,
            "justify_items": null,
            "left": null,
            "margin": null,
            "max_height": null,
            "max_width": null,
            "min_height": null,
            "min_width": null,
            "object_fit": null,
            "object_position": null,
            "order": null,
            "overflow": null,
            "overflow_x": null,
            "overflow_y": null,
            "padding": null,
            "right": null,
            "top": null,
            "visibility": null,
            "width": null
          }
        },
        "c4e2f9b377fc40b0aa20bbac96e6f54c": {
          "model_module": "@jupyter-widgets/base",
          "model_name": "LayoutModel",
          "model_module_version": "1.2.0",
          "state": {
            "_model_module": "@jupyter-widgets/base",
            "_model_module_version": "1.2.0",
            "_model_name": "LayoutModel",
            "_view_count": null,
            "_view_module": "@jupyter-widgets/base",
            "_view_module_version": "1.2.0",
            "_view_name": "LayoutView",
            "align_content": null,
            "align_items": null,
            "align_self": null,
            "border": null,
            "bottom": null,
            "display": null,
            "flex": null,
            "flex_flow": null,
            "grid_area": null,
            "grid_auto_columns": null,
            "grid_auto_flow": null,
            "grid_auto_rows": null,
            "grid_column": null,
            "grid_gap": null,
            "grid_row": null,
            "grid_template_areas": null,
            "grid_template_columns": null,
            "grid_template_rows": null,
            "height": null,
            "justify_content": null,
            "justify_items": null,
            "left": null,
            "margin": null,
            "max_height": null,
            "max_width": null,
            "min_height": null,
            "min_width": null,
            "object_fit": null,
            "object_position": null,
            "order": null,
            "overflow": null,
            "overflow_x": null,
            "overflow_y": null,
            "padding": null,
            "right": null,
            "top": null,
            "visibility": null,
            "width": null
          }
        },
        "ad7536e956cf4eb78f2d4457025e8d14": {
          "model_module": "@jupyter-widgets/controls",
          "model_name": "DescriptionStyleModel",
          "model_module_version": "1.5.0",
          "state": {
            "_model_module": "@jupyter-widgets/controls",
            "_model_module_version": "1.5.0",
            "_model_name": "DescriptionStyleModel",
            "_view_count": null,
            "_view_module": "@jupyter-widgets/base",
            "_view_module_version": "1.2.0",
            "_view_name": "StyleView",
            "description_width": ""
          }
        },
        "34ae0b94354d4fcd914fc2f54b2ab47c": {
          "model_module": "@jupyter-widgets/base",
          "model_name": "LayoutModel",
          "model_module_version": "1.2.0",
          "state": {
            "_model_module": "@jupyter-widgets/base",
            "_model_module_version": "1.2.0",
            "_model_name": "LayoutModel",
            "_view_count": null,
            "_view_module": "@jupyter-widgets/base",
            "_view_module_version": "1.2.0",
            "_view_name": "LayoutView",
            "align_content": null,
            "align_items": null,
            "align_self": null,
            "border": null,
            "bottom": null,
            "display": null,
            "flex": null,
            "flex_flow": null,
            "grid_area": null,
            "grid_auto_columns": null,
            "grid_auto_flow": null,
            "grid_auto_rows": null,
            "grid_column": null,
            "grid_gap": null,
            "grid_row": null,
            "grid_template_areas": null,
            "grid_template_columns": null,
            "grid_template_rows": null,
            "height": null,
            "justify_content": null,
            "justify_items": null,
            "left": null,
            "margin": null,
            "max_height": null,
            "max_width": null,
            "min_height": null,
            "min_width": null,
            "object_fit": null,
            "object_position": null,
            "order": null,
            "overflow": null,
            "overflow_x": null,
            "overflow_y": null,
            "padding": null,
            "right": null,
            "top": null,
            "visibility": null,
            "width": null
          }
        },
        "27cdadbcccbc44af933adbe3dd45a5b3": {
          "model_module": "@jupyter-widgets/controls",
          "model_name": "ProgressStyleModel",
          "model_module_version": "1.5.0",
          "state": {
            "_model_module": "@jupyter-widgets/controls",
            "_model_module_version": "1.5.0",
            "_model_name": "ProgressStyleModel",
            "_view_count": null,
            "_view_module": "@jupyter-widgets/base",
            "_view_module_version": "1.2.0",
            "_view_name": "StyleView",
            "bar_color": null,
            "description_width": ""
          }
        },
        "34c1cb3717714b24824198e93cf3246f": {
          "model_module": "@jupyter-widgets/base",
          "model_name": "LayoutModel",
          "model_module_version": "1.2.0",
          "state": {
            "_model_module": "@jupyter-widgets/base",
            "_model_module_version": "1.2.0",
            "_model_name": "LayoutModel",
            "_view_count": null,
            "_view_module": "@jupyter-widgets/base",
            "_view_module_version": "1.2.0",
            "_view_name": "LayoutView",
            "align_content": null,
            "align_items": null,
            "align_self": null,
            "border": null,
            "bottom": null,
            "display": null,
            "flex": null,
            "flex_flow": null,
            "grid_area": null,
            "grid_auto_columns": null,
            "grid_auto_flow": null,
            "grid_auto_rows": null,
            "grid_column": null,
            "grid_gap": null,
            "grid_row": null,
            "grid_template_areas": null,
            "grid_template_columns": null,
            "grid_template_rows": null,
            "height": null,
            "justify_content": null,
            "justify_items": null,
            "left": null,
            "margin": null,
            "max_height": null,
            "max_width": null,
            "min_height": null,
            "min_width": null,
            "object_fit": null,
            "object_position": null,
            "order": null,
            "overflow": null,
            "overflow_x": null,
            "overflow_y": null,
            "padding": null,
            "right": null,
            "top": null,
            "visibility": null,
            "width": null
          }
        },
        "fe890a1e65754936ad129c4753ebfba8": {
          "model_module": "@jupyter-widgets/controls",
          "model_name": "DescriptionStyleModel",
          "model_module_version": "1.5.0",
          "state": {
            "_model_module": "@jupyter-widgets/controls",
            "_model_module_version": "1.5.0",
            "_model_name": "DescriptionStyleModel",
            "_view_count": null,
            "_view_module": "@jupyter-widgets/base",
            "_view_module_version": "1.2.0",
            "_view_name": "StyleView",
            "description_width": ""
          }
        }
      }
    }
  },
  "nbformat": 4,
  "nbformat_minor": 0
}